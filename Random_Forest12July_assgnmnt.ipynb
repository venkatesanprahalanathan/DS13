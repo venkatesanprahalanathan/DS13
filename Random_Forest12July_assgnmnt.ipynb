{
 "cells": [
  {
   "cell_type": "code",
   "execution_count": 1,
   "metadata": {},
   "outputs": [
    {
     "ename": "NameError",
     "evalue": "name 'warning' is not defined",
     "output_type": "error",
     "traceback": [
      "\u001b[1;31m---------------------------------------------------------------------------\u001b[0m",
      "\u001b[1;31mNameError\u001b[0m                                 Traceback (most recent call last)",
      "\u001b[1;32m<ipython-input-1-a9bbaae06155>\u001b[0m in \u001b[0;36m<module>\u001b[1;34m()\u001b[0m\n\u001b[0;32m     11\u001b[0m \u001b[1;32mfrom\u001b[0m \u001b[0msklearn\u001b[0m\u001b[1;33m.\u001b[0m\u001b[0mpreprocessing\u001b[0m \u001b[1;32mimport\u001b[0m \u001b[0mPolynomialFeatures\u001b[0m\u001b[1;33m\u001b[0m\u001b[0m\n\u001b[0;32m     12\u001b[0m \u001b[1;32mimport\u001b[0m \u001b[0mwarnings\u001b[0m\u001b[1;33m\u001b[0m\u001b[0m\n\u001b[1;32m---> 13\u001b[1;33m \u001b[0mwarning\u001b[0m\u001b[1;33m.\u001b[0m\u001b[0mfilterwarnings\u001b[0m\u001b[1;33m(\u001b[0m\u001b[1;34m\"ignore\"\u001b[0m\u001b[1;33m)\u001b[0m\u001b[1;33m\u001b[0m\u001b[0m\n\u001b[0m\u001b[0;32m     14\u001b[0m \u001b[0mnp\u001b[0m\u001b[1;33m.\u001b[0m\u001b[0mrandom\u001b[0m\u001b[1;33m.\u001b[0m\u001b[0mseed\u001b[0m\u001b[1;33m(\u001b[0m\u001b[1;36m42\u001b[0m\u001b[1;33m)\u001b[0m\u001b[1;33m\u001b[0m\u001b[0m\n",
      "\u001b[1;31mNameError\u001b[0m: name 'warning' is not defined"
     ]
    }
   ],
   "source": [
    "import pandas as pd\n",
    "import numpy as np\n",
    "import matplotlib.pyplot as plt\n",
    "import seaborn as sns\n",
    "%matplotlib inline\n",
    "from sklearn.preprocessing import StandardScaler\n",
    "from sklearn.linear_model import LogisticRegression\n",
    "from sklearn.tree import DecisionTreeClassifier\n",
    "from sklearn.model_selection import train_test_split\n",
    "from sklearn.metrics import accuracy_score\n",
    "from sklearn.preprocessing import PolynomialFeatures\n",
    "import warnings\n",
    "warning.filterwarnings(\"ignore\")\n",
    "np.random.seed(42)"
   ]
  },
  {
   "cell_type": "code",
   "execution_count": 8,
   "metadata": {},
   "outputs": [],
   "source": [
    "loan=pd.read_csv('C:\\\\Users\\\\venkatesan-p\\\\Downloads\\\\loan_data_new.csv')"
   ]
  },
  {
   "cell_type": "code",
   "execution_count": 9,
   "metadata": {},
   "outputs": [
    {
     "data": {
      "text/html": [
       "<div>\n",
       "<style scoped>\n",
       "    .dataframe tbody tr th:only-of-type {\n",
       "        vertical-align: middle;\n",
       "    }\n",
       "\n",
       "    .dataframe tbody tr th {\n",
       "        vertical-align: top;\n",
       "    }\n",
       "\n",
       "    .dataframe thead th {\n",
       "        text-align: right;\n",
       "    }\n",
       "</style>\n",
       "<table border=\"1\" class=\"dataframe\">\n",
       "  <thead>\n",
       "    <tr style=\"text-align: right;\">\n",
       "      <th></th>\n",
       "      <th>credit.policy</th>\n",
       "      <th>purpose</th>\n",
       "      <th>int.rate</th>\n",
       "      <th>installment</th>\n",
       "      <th>log.annual.inc</th>\n",
       "      <th>dti</th>\n",
       "      <th>fico</th>\n",
       "      <th>days.with.cr.line</th>\n",
       "      <th>revol.bal</th>\n",
       "      <th>revol.util</th>\n",
       "      <th>inq.last.6mths</th>\n",
       "      <th>delinq.2yrs</th>\n",
       "      <th>pub.rec</th>\n",
       "      <th>not.fully.paid</th>\n",
       "    </tr>\n",
       "  </thead>\n",
       "  <tbody>\n",
       "    <tr>\n",
       "      <th>0</th>\n",
       "      <td>1</td>\n",
       "      <td>debt_consolidation</td>\n",
       "      <td>0.1189</td>\n",
       "      <td>829.10</td>\n",
       "      <td>11.350407</td>\n",
       "      <td>19.48</td>\n",
       "      <td>737</td>\n",
       "      <td>5639.958333</td>\n",
       "      <td>28854</td>\n",
       "      <td>52.1</td>\n",
       "      <td>0</td>\n",
       "      <td>0</td>\n",
       "      <td>0</td>\n",
       "      <td>0</td>\n",
       "    </tr>\n",
       "    <tr>\n",
       "      <th>1</th>\n",
       "      <td>1</td>\n",
       "      <td>credit_card</td>\n",
       "      <td>0.1071</td>\n",
       "      <td>228.22</td>\n",
       "      <td>11.082143</td>\n",
       "      <td>14.29</td>\n",
       "      <td>707</td>\n",
       "      <td>2760.000000</td>\n",
       "      <td>33623</td>\n",
       "      <td>76.7</td>\n",
       "      <td>0</td>\n",
       "      <td>0</td>\n",
       "      <td>0</td>\n",
       "      <td>0</td>\n",
       "    </tr>\n",
       "    <tr>\n",
       "      <th>2</th>\n",
       "      <td>1</td>\n",
       "      <td>debt_consolidation</td>\n",
       "      <td>0.1357</td>\n",
       "      <td>366.86</td>\n",
       "      <td>10.373491</td>\n",
       "      <td>11.63</td>\n",
       "      <td>682</td>\n",
       "      <td>4710.000000</td>\n",
       "      <td>3511</td>\n",
       "      <td>25.6</td>\n",
       "      <td>1</td>\n",
       "      <td>0</td>\n",
       "      <td>0</td>\n",
       "      <td>0</td>\n",
       "    </tr>\n",
       "    <tr>\n",
       "      <th>3</th>\n",
       "      <td>1</td>\n",
       "      <td>debt_consolidation</td>\n",
       "      <td>0.1008</td>\n",
       "      <td>162.34</td>\n",
       "      <td>11.350407</td>\n",
       "      <td>8.10</td>\n",
       "      <td>712</td>\n",
       "      <td>2699.958333</td>\n",
       "      <td>33667</td>\n",
       "      <td>73.2</td>\n",
       "      <td>1</td>\n",
       "      <td>0</td>\n",
       "      <td>0</td>\n",
       "      <td>0</td>\n",
       "    </tr>\n",
       "    <tr>\n",
       "      <th>4</th>\n",
       "      <td>1</td>\n",
       "      <td>credit_card</td>\n",
       "      <td>0.1426</td>\n",
       "      <td>102.92</td>\n",
       "      <td>11.299732</td>\n",
       "      <td>14.97</td>\n",
       "      <td>667</td>\n",
       "      <td>4066.000000</td>\n",
       "      <td>4740</td>\n",
       "      <td>39.5</td>\n",
       "      <td>0</td>\n",
       "      <td>1</td>\n",
       "      <td>0</td>\n",
       "      <td>0</td>\n",
       "    </tr>\n",
       "  </tbody>\n",
       "</table>\n",
       "</div>"
      ],
      "text/plain": [
       "   credit.policy             purpose  int.rate  installment  log.annual.inc  \\\n",
       "0              1  debt_consolidation    0.1189       829.10       11.350407   \n",
       "1              1         credit_card    0.1071       228.22       11.082143   \n",
       "2              1  debt_consolidation    0.1357       366.86       10.373491   \n",
       "3              1  debt_consolidation    0.1008       162.34       11.350407   \n",
       "4              1         credit_card    0.1426       102.92       11.299732   \n",
       "\n",
       "     dti  fico  days.with.cr.line  revol.bal  revol.util  inq.last.6mths  \\\n",
       "0  19.48   737        5639.958333      28854        52.1               0   \n",
       "1  14.29   707        2760.000000      33623        76.7               0   \n",
       "2  11.63   682        4710.000000       3511        25.6               1   \n",
       "3   8.10   712        2699.958333      33667        73.2               1   \n",
       "4  14.97   667        4066.000000       4740        39.5               0   \n",
       "\n",
       "   delinq.2yrs  pub.rec  not.fully.paid  \n",
       "0            0        0               0  \n",
       "1            0        0               0  \n",
       "2            0        0               0  \n",
       "3            0        0               0  \n",
       "4            1        0               0  "
      ]
     },
     "execution_count": 9,
     "metadata": {},
     "output_type": "execute_result"
    }
   ],
   "source": [
    "loan.head()"
   ]
  },
  {
   "cell_type": "code",
   "execution_count": 10,
   "metadata": {},
   "outputs": [
    {
     "name": "stdout",
     "output_type": "stream",
     "text": [
      "<class 'pandas.core.frame.DataFrame'>\n",
      "RangeIndex: 9578 entries, 0 to 9577\n",
      "Data columns (total 14 columns):\n",
      "credit.policy        9578 non-null int64\n",
      "purpose              9578 non-null object\n",
      "int.rate             9578 non-null float64\n",
      "installment          9578 non-null float64\n",
      "log.annual.inc       9578 non-null float64\n",
      "dti                  9578 non-null float64\n",
      "fico                 9578 non-null int64\n",
      "days.with.cr.line    9578 non-null float64\n",
      "revol.bal            9578 non-null int64\n",
      "revol.util           9578 non-null float64\n",
      "inq.last.6mths       9578 non-null int64\n",
      "delinq.2yrs          9578 non-null int64\n",
      "pub.rec              9578 non-null int64\n",
      "not.fully.paid       9578 non-null int64\n",
      "dtypes: float64(6), int64(7), object(1)\n",
      "memory usage: 1.0+ MB\n"
     ]
    }
   ],
   "source": [
    "loan.info()"
   ]
  },
  {
   "cell_type": "code",
   "execution_count": 11,
   "metadata": {},
   "outputs": [
    {
     "data": {
      "text/plain": [
       "credit.policy        0\n",
       "purpose              0\n",
       "int.rate             0\n",
       "installment          0\n",
       "log.annual.inc       0\n",
       "dti                  0\n",
       "fico                 0\n",
       "days.with.cr.line    0\n",
       "revol.bal            0\n",
       "revol.util           0\n",
       "inq.last.6mths       0\n",
       "delinq.2yrs          0\n",
       "pub.rec              0\n",
       "not.fully.paid       0\n",
       "dtype: int64"
      ]
     },
     "execution_count": 11,
     "metadata": {},
     "output_type": "execute_result"
    }
   ],
   "source": [
    "loan.isna().sum()"
   ]
  },
  {
   "cell_type": "code",
   "execution_count": 12,
   "metadata": {},
   "outputs": [
    {
     "data": {
      "text/plain": [
       "debt_consolidation    3957\n",
       "all_other             2331\n",
       "credit_card           1262\n",
       "home_improvement       629\n",
       "small_business         619\n",
       "major_purchase         437\n",
       "educational            343\n",
       "Name: purpose, dtype: int64"
      ]
     },
     "execution_count": 12,
     "metadata": {},
     "output_type": "execute_result"
    }
   ],
   "source": [
    "loan.purpose.value_counts()"
   ]
  },
  {
   "cell_type": "code",
   "execution_count": 13,
   "metadata": {},
   "outputs": [
    {
     "data": {
      "text/html": [
       "<div>\n",
       "<style scoped>\n",
       "    .dataframe tbody tr th:only-of-type {\n",
       "        vertical-align: middle;\n",
       "    }\n",
       "\n",
       "    .dataframe tbody tr th {\n",
       "        vertical-align: top;\n",
       "    }\n",
       "\n",
       "    .dataframe thead th {\n",
       "        text-align: right;\n",
       "    }\n",
       "</style>\n",
       "<table border=\"1\" class=\"dataframe\">\n",
       "  <thead>\n",
       "    <tr style=\"text-align: right;\">\n",
       "      <th></th>\n",
       "      <th>credit.policy</th>\n",
       "      <th>int.rate</th>\n",
       "      <th>installment</th>\n",
       "      <th>log.annual.inc</th>\n",
       "      <th>dti</th>\n",
       "      <th>fico</th>\n",
       "      <th>days.with.cr.line</th>\n",
       "      <th>revol.bal</th>\n",
       "      <th>revol.util</th>\n",
       "      <th>inq.last.6mths</th>\n",
       "      <th>delinq.2yrs</th>\n",
       "      <th>pub.rec</th>\n",
       "      <th>not.fully.paid</th>\n",
       "    </tr>\n",
       "  </thead>\n",
       "  <tbody>\n",
       "    <tr>\n",
       "      <th>count</th>\n",
       "      <td>9578.000000</td>\n",
       "      <td>9578.000000</td>\n",
       "      <td>9578.000000</td>\n",
       "      <td>9578.000000</td>\n",
       "      <td>9578.000000</td>\n",
       "      <td>9578.000000</td>\n",
       "      <td>9578.000000</td>\n",
       "      <td>9.578000e+03</td>\n",
       "      <td>9578.000000</td>\n",
       "      <td>9578.000000</td>\n",
       "      <td>9578.000000</td>\n",
       "      <td>9578.000000</td>\n",
       "      <td>9578.000000</td>\n",
       "    </tr>\n",
       "    <tr>\n",
       "      <th>mean</th>\n",
       "      <td>0.804970</td>\n",
       "      <td>0.122640</td>\n",
       "      <td>319.089413</td>\n",
       "      <td>10.932117</td>\n",
       "      <td>12.606679</td>\n",
       "      <td>710.846314</td>\n",
       "      <td>4560.767197</td>\n",
       "      <td>1.691396e+04</td>\n",
       "      <td>46.799236</td>\n",
       "      <td>1.577469</td>\n",
       "      <td>0.163708</td>\n",
       "      <td>0.062122</td>\n",
       "      <td>0.160054</td>\n",
       "    </tr>\n",
       "    <tr>\n",
       "      <th>std</th>\n",
       "      <td>0.396245</td>\n",
       "      <td>0.026847</td>\n",
       "      <td>207.071301</td>\n",
       "      <td>0.614813</td>\n",
       "      <td>6.883970</td>\n",
       "      <td>37.970537</td>\n",
       "      <td>2496.930377</td>\n",
       "      <td>3.375619e+04</td>\n",
       "      <td>29.014417</td>\n",
       "      <td>2.200245</td>\n",
       "      <td>0.546215</td>\n",
       "      <td>0.262126</td>\n",
       "      <td>0.366676</td>\n",
       "    </tr>\n",
       "    <tr>\n",
       "      <th>min</th>\n",
       "      <td>0.000000</td>\n",
       "      <td>0.060000</td>\n",
       "      <td>15.670000</td>\n",
       "      <td>7.547502</td>\n",
       "      <td>0.000000</td>\n",
       "      <td>612.000000</td>\n",
       "      <td>178.958333</td>\n",
       "      <td>0.000000e+00</td>\n",
       "      <td>0.000000</td>\n",
       "      <td>0.000000</td>\n",
       "      <td>0.000000</td>\n",
       "      <td>0.000000</td>\n",
       "      <td>0.000000</td>\n",
       "    </tr>\n",
       "    <tr>\n",
       "      <th>25%</th>\n",
       "      <td>1.000000</td>\n",
       "      <td>0.103900</td>\n",
       "      <td>163.770000</td>\n",
       "      <td>10.558414</td>\n",
       "      <td>7.212500</td>\n",
       "      <td>682.000000</td>\n",
       "      <td>2820.000000</td>\n",
       "      <td>3.187000e+03</td>\n",
       "      <td>22.600000</td>\n",
       "      <td>0.000000</td>\n",
       "      <td>0.000000</td>\n",
       "      <td>0.000000</td>\n",
       "      <td>0.000000</td>\n",
       "    </tr>\n",
       "    <tr>\n",
       "      <th>50%</th>\n",
       "      <td>1.000000</td>\n",
       "      <td>0.122100</td>\n",
       "      <td>268.950000</td>\n",
       "      <td>10.928884</td>\n",
       "      <td>12.665000</td>\n",
       "      <td>707.000000</td>\n",
       "      <td>4139.958333</td>\n",
       "      <td>8.596000e+03</td>\n",
       "      <td>46.300000</td>\n",
       "      <td>1.000000</td>\n",
       "      <td>0.000000</td>\n",
       "      <td>0.000000</td>\n",
       "      <td>0.000000</td>\n",
       "    </tr>\n",
       "    <tr>\n",
       "      <th>75%</th>\n",
       "      <td>1.000000</td>\n",
       "      <td>0.140700</td>\n",
       "      <td>432.762500</td>\n",
       "      <td>11.291293</td>\n",
       "      <td>17.950000</td>\n",
       "      <td>737.000000</td>\n",
       "      <td>5730.000000</td>\n",
       "      <td>1.824950e+04</td>\n",
       "      <td>70.900000</td>\n",
       "      <td>2.000000</td>\n",
       "      <td>0.000000</td>\n",
       "      <td>0.000000</td>\n",
       "      <td>0.000000</td>\n",
       "    </tr>\n",
       "    <tr>\n",
       "      <th>max</th>\n",
       "      <td>1.000000</td>\n",
       "      <td>0.216400</td>\n",
       "      <td>940.140000</td>\n",
       "      <td>14.528354</td>\n",
       "      <td>29.960000</td>\n",
       "      <td>827.000000</td>\n",
       "      <td>17639.958330</td>\n",
       "      <td>1.207359e+06</td>\n",
       "      <td>119.000000</td>\n",
       "      <td>33.000000</td>\n",
       "      <td>13.000000</td>\n",
       "      <td>5.000000</td>\n",
       "      <td>1.000000</td>\n",
       "    </tr>\n",
       "  </tbody>\n",
       "</table>\n",
       "</div>"
      ],
      "text/plain": [
       "       credit.policy     int.rate  installment  log.annual.inc          dti  \\\n",
       "count    9578.000000  9578.000000  9578.000000     9578.000000  9578.000000   \n",
       "mean        0.804970     0.122640   319.089413       10.932117    12.606679   \n",
       "std         0.396245     0.026847   207.071301        0.614813     6.883970   \n",
       "min         0.000000     0.060000    15.670000        7.547502     0.000000   \n",
       "25%         1.000000     0.103900   163.770000       10.558414     7.212500   \n",
       "50%         1.000000     0.122100   268.950000       10.928884    12.665000   \n",
       "75%         1.000000     0.140700   432.762500       11.291293    17.950000   \n",
       "max         1.000000     0.216400   940.140000       14.528354    29.960000   \n",
       "\n",
       "              fico  days.with.cr.line     revol.bal   revol.util  \\\n",
       "count  9578.000000        9578.000000  9.578000e+03  9578.000000   \n",
       "mean    710.846314        4560.767197  1.691396e+04    46.799236   \n",
       "std      37.970537        2496.930377  3.375619e+04    29.014417   \n",
       "min     612.000000         178.958333  0.000000e+00     0.000000   \n",
       "25%     682.000000        2820.000000  3.187000e+03    22.600000   \n",
       "50%     707.000000        4139.958333  8.596000e+03    46.300000   \n",
       "75%     737.000000        5730.000000  1.824950e+04    70.900000   \n",
       "max     827.000000       17639.958330  1.207359e+06   119.000000   \n",
       "\n",
       "       inq.last.6mths  delinq.2yrs      pub.rec  not.fully.paid  \n",
       "count     9578.000000  9578.000000  9578.000000     9578.000000  \n",
       "mean         1.577469     0.163708     0.062122        0.160054  \n",
       "std          2.200245     0.546215     0.262126        0.366676  \n",
       "min          0.000000     0.000000     0.000000        0.000000  \n",
       "25%          0.000000     0.000000     0.000000        0.000000  \n",
       "50%          1.000000     0.000000     0.000000        0.000000  \n",
       "75%          2.000000     0.000000     0.000000        0.000000  \n",
       "max         33.000000    13.000000     5.000000        1.000000  "
      ]
     },
     "execution_count": 13,
     "metadata": {},
     "output_type": "execute_result"
    }
   ],
   "source": [
    "loan.describe()"
   ]
  },
  {
   "cell_type": "code",
   "execution_count": 14,
   "metadata": {},
   "outputs": [
    {
     "data": {
      "text/html": [
       "<div>\n",
       "<style scoped>\n",
       "    .dataframe tbody tr th:only-of-type {\n",
       "        vertical-align: middle;\n",
       "    }\n",
       "\n",
       "    .dataframe tbody tr th {\n",
       "        vertical-align: top;\n",
       "    }\n",
       "\n",
       "    .dataframe thead th {\n",
       "        text-align: right;\n",
       "    }\n",
       "</style>\n",
       "<table border=\"1\" class=\"dataframe\">\n",
       "  <thead>\n",
       "    <tr style=\"text-align: right;\">\n",
       "      <th></th>\n",
       "      <th>purp_all_other</th>\n",
       "      <th>purp_credit_card</th>\n",
       "      <th>purp_debt_consolidation</th>\n",
       "      <th>purp_educational</th>\n",
       "      <th>purp_home_improvement</th>\n",
       "      <th>purp_major_purchase</th>\n",
       "      <th>purp_small_business</th>\n",
       "    </tr>\n",
       "  </thead>\n",
       "  <tbody>\n",
       "    <tr>\n",
       "      <th>0</th>\n",
       "      <td>0</td>\n",
       "      <td>0</td>\n",
       "      <td>1</td>\n",
       "      <td>0</td>\n",
       "      <td>0</td>\n",
       "      <td>0</td>\n",
       "      <td>0</td>\n",
       "    </tr>\n",
       "    <tr>\n",
       "      <th>1</th>\n",
       "      <td>0</td>\n",
       "      <td>1</td>\n",
       "      <td>0</td>\n",
       "      <td>0</td>\n",
       "      <td>0</td>\n",
       "      <td>0</td>\n",
       "      <td>0</td>\n",
       "    </tr>\n",
       "    <tr>\n",
       "      <th>2</th>\n",
       "      <td>0</td>\n",
       "      <td>0</td>\n",
       "      <td>1</td>\n",
       "      <td>0</td>\n",
       "      <td>0</td>\n",
       "      <td>0</td>\n",
       "      <td>0</td>\n",
       "    </tr>\n",
       "    <tr>\n",
       "      <th>3</th>\n",
       "      <td>0</td>\n",
       "      <td>0</td>\n",
       "      <td>1</td>\n",
       "      <td>0</td>\n",
       "      <td>0</td>\n",
       "      <td>0</td>\n",
       "      <td>0</td>\n",
       "    </tr>\n",
       "    <tr>\n",
       "      <th>4</th>\n",
       "      <td>0</td>\n",
       "      <td>1</td>\n",
       "      <td>0</td>\n",
       "      <td>0</td>\n",
       "      <td>0</td>\n",
       "      <td>0</td>\n",
       "      <td>0</td>\n",
       "    </tr>\n",
       "    <tr>\n",
       "      <th>5</th>\n",
       "      <td>0</td>\n",
       "      <td>1</td>\n",
       "      <td>0</td>\n",
       "      <td>0</td>\n",
       "      <td>0</td>\n",
       "      <td>0</td>\n",
       "      <td>0</td>\n",
       "    </tr>\n",
       "    <tr>\n",
       "      <th>6</th>\n",
       "      <td>0</td>\n",
       "      <td>0</td>\n",
       "      <td>1</td>\n",
       "      <td>0</td>\n",
       "      <td>0</td>\n",
       "      <td>0</td>\n",
       "      <td>0</td>\n",
       "    </tr>\n",
       "    <tr>\n",
       "      <th>7</th>\n",
       "      <td>1</td>\n",
       "      <td>0</td>\n",
       "      <td>0</td>\n",
       "      <td>0</td>\n",
       "      <td>0</td>\n",
       "      <td>0</td>\n",
       "      <td>0</td>\n",
       "    </tr>\n",
       "    <tr>\n",
       "      <th>8</th>\n",
       "      <td>0</td>\n",
       "      <td>0</td>\n",
       "      <td>0</td>\n",
       "      <td>0</td>\n",
       "      <td>1</td>\n",
       "      <td>0</td>\n",
       "      <td>0</td>\n",
       "    </tr>\n",
       "    <tr>\n",
       "      <th>9</th>\n",
       "      <td>0</td>\n",
       "      <td>0</td>\n",
       "      <td>1</td>\n",
       "      <td>0</td>\n",
       "      <td>0</td>\n",
       "      <td>0</td>\n",
       "      <td>0</td>\n",
       "    </tr>\n",
       "    <tr>\n",
       "      <th>10</th>\n",
       "      <td>0</td>\n",
       "      <td>0</td>\n",
       "      <td>1</td>\n",
       "      <td>0</td>\n",
       "      <td>0</td>\n",
       "      <td>0</td>\n",
       "      <td>0</td>\n",
       "    </tr>\n",
       "    <tr>\n",
       "      <th>11</th>\n",
       "      <td>0</td>\n",
       "      <td>0</td>\n",
       "      <td>1</td>\n",
       "      <td>0</td>\n",
       "      <td>0</td>\n",
       "      <td>0</td>\n",
       "      <td>0</td>\n",
       "    </tr>\n",
       "    <tr>\n",
       "      <th>12</th>\n",
       "      <td>0</td>\n",
       "      <td>0</td>\n",
       "      <td>1</td>\n",
       "      <td>0</td>\n",
       "      <td>0</td>\n",
       "      <td>0</td>\n",
       "      <td>0</td>\n",
       "    </tr>\n",
       "    <tr>\n",
       "      <th>13</th>\n",
       "      <td>0</td>\n",
       "      <td>0</td>\n",
       "      <td>0</td>\n",
       "      <td>0</td>\n",
       "      <td>0</td>\n",
       "      <td>0</td>\n",
       "      <td>1</td>\n",
       "    </tr>\n",
       "    <tr>\n",
       "      <th>14</th>\n",
       "      <td>0</td>\n",
       "      <td>0</td>\n",
       "      <td>1</td>\n",
       "      <td>0</td>\n",
       "      <td>0</td>\n",
       "      <td>0</td>\n",
       "      <td>0</td>\n",
       "    </tr>\n",
       "    <tr>\n",
       "      <th>15</th>\n",
       "      <td>0</td>\n",
       "      <td>0</td>\n",
       "      <td>0</td>\n",
       "      <td>0</td>\n",
       "      <td>0</td>\n",
       "      <td>1</td>\n",
       "      <td>0</td>\n",
       "    </tr>\n",
       "    <tr>\n",
       "      <th>16</th>\n",
       "      <td>1</td>\n",
       "      <td>0</td>\n",
       "      <td>0</td>\n",
       "      <td>0</td>\n",
       "      <td>0</td>\n",
       "      <td>0</td>\n",
       "      <td>0</td>\n",
       "    </tr>\n",
       "    <tr>\n",
       "      <th>17</th>\n",
       "      <td>0</td>\n",
       "      <td>1</td>\n",
       "      <td>0</td>\n",
       "      <td>0</td>\n",
       "      <td>0</td>\n",
       "      <td>0</td>\n",
       "      <td>0</td>\n",
       "    </tr>\n",
       "    <tr>\n",
       "      <th>18</th>\n",
       "      <td>0</td>\n",
       "      <td>0</td>\n",
       "      <td>1</td>\n",
       "      <td>0</td>\n",
       "      <td>0</td>\n",
       "      <td>0</td>\n",
       "      <td>0</td>\n",
       "    </tr>\n",
       "    <tr>\n",
       "      <th>19</th>\n",
       "      <td>0</td>\n",
       "      <td>0</td>\n",
       "      <td>0</td>\n",
       "      <td>0</td>\n",
       "      <td>0</td>\n",
       "      <td>1</td>\n",
       "      <td>0</td>\n",
       "    </tr>\n",
       "    <tr>\n",
       "      <th>20</th>\n",
       "      <td>1</td>\n",
       "      <td>0</td>\n",
       "      <td>0</td>\n",
       "      <td>0</td>\n",
       "      <td>0</td>\n",
       "      <td>0</td>\n",
       "      <td>0</td>\n",
       "    </tr>\n",
       "    <tr>\n",
       "      <th>21</th>\n",
       "      <td>1</td>\n",
       "      <td>0</td>\n",
       "      <td>0</td>\n",
       "      <td>0</td>\n",
       "      <td>0</td>\n",
       "      <td>0</td>\n",
       "      <td>0</td>\n",
       "    </tr>\n",
       "    <tr>\n",
       "      <th>22</th>\n",
       "      <td>0</td>\n",
       "      <td>1</td>\n",
       "      <td>0</td>\n",
       "      <td>0</td>\n",
       "      <td>0</td>\n",
       "      <td>0</td>\n",
       "      <td>0</td>\n",
       "    </tr>\n",
       "    <tr>\n",
       "      <th>23</th>\n",
       "      <td>0</td>\n",
       "      <td>1</td>\n",
       "      <td>0</td>\n",
       "      <td>0</td>\n",
       "      <td>0</td>\n",
       "      <td>0</td>\n",
       "      <td>0</td>\n",
       "    </tr>\n",
       "    <tr>\n",
       "      <th>24</th>\n",
       "      <td>0</td>\n",
       "      <td>0</td>\n",
       "      <td>1</td>\n",
       "      <td>0</td>\n",
       "      <td>0</td>\n",
       "      <td>0</td>\n",
       "      <td>0</td>\n",
       "    </tr>\n",
       "    <tr>\n",
       "      <th>25</th>\n",
       "      <td>1</td>\n",
       "      <td>0</td>\n",
       "      <td>0</td>\n",
       "      <td>0</td>\n",
       "      <td>0</td>\n",
       "      <td>0</td>\n",
       "      <td>0</td>\n",
       "    </tr>\n",
       "    <tr>\n",
       "      <th>26</th>\n",
       "      <td>1</td>\n",
       "      <td>0</td>\n",
       "      <td>0</td>\n",
       "      <td>0</td>\n",
       "      <td>0</td>\n",
       "      <td>0</td>\n",
       "      <td>0</td>\n",
       "    </tr>\n",
       "    <tr>\n",
       "      <th>27</th>\n",
       "      <td>0</td>\n",
       "      <td>0</td>\n",
       "      <td>1</td>\n",
       "      <td>0</td>\n",
       "      <td>0</td>\n",
       "      <td>0</td>\n",
       "      <td>0</td>\n",
       "    </tr>\n",
       "    <tr>\n",
       "      <th>28</th>\n",
       "      <td>1</td>\n",
       "      <td>0</td>\n",
       "      <td>0</td>\n",
       "      <td>0</td>\n",
       "      <td>0</td>\n",
       "      <td>0</td>\n",
       "      <td>0</td>\n",
       "    </tr>\n",
       "    <tr>\n",
       "      <th>29</th>\n",
       "      <td>1</td>\n",
       "      <td>0</td>\n",
       "      <td>0</td>\n",
       "      <td>0</td>\n",
       "      <td>0</td>\n",
       "      <td>0</td>\n",
       "      <td>0</td>\n",
       "    </tr>\n",
       "    <tr>\n",
       "      <th>...</th>\n",
       "      <td>...</td>\n",
       "      <td>...</td>\n",
       "      <td>...</td>\n",
       "      <td>...</td>\n",
       "      <td>...</td>\n",
       "      <td>...</td>\n",
       "      <td>...</td>\n",
       "    </tr>\n",
       "    <tr>\n",
       "      <th>9548</th>\n",
       "      <td>0</td>\n",
       "      <td>0</td>\n",
       "      <td>0</td>\n",
       "      <td>0</td>\n",
       "      <td>1</td>\n",
       "      <td>0</td>\n",
       "      <td>0</td>\n",
       "    </tr>\n",
       "    <tr>\n",
       "      <th>9549</th>\n",
       "      <td>0</td>\n",
       "      <td>0</td>\n",
       "      <td>0</td>\n",
       "      <td>0</td>\n",
       "      <td>1</td>\n",
       "      <td>0</td>\n",
       "      <td>0</td>\n",
       "    </tr>\n",
       "    <tr>\n",
       "      <th>9550</th>\n",
       "      <td>1</td>\n",
       "      <td>0</td>\n",
       "      <td>0</td>\n",
       "      <td>0</td>\n",
       "      <td>0</td>\n",
       "      <td>0</td>\n",
       "      <td>0</td>\n",
       "    </tr>\n",
       "    <tr>\n",
       "      <th>9551</th>\n",
       "      <td>0</td>\n",
       "      <td>0</td>\n",
       "      <td>0</td>\n",
       "      <td>0</td>\n",
       "      <td>1</td>\n",
       "      <td>0</td>\n",
       "      <td>0</td>\n",
       "    </tr>\n",
       "    <tr>\n",
       "      <th>9552</th>\n",
       "      <td>0</td>\n",
       "      <td>0</td>\n",
       "      <td>1</td>\n",
       "      <td>0</td>\n",
       "      <td>0</td>\n",
       "      <td>0</td>\n",
       "      <td>0</td>\n",
       "    </tr>\n",
       "    <tr>\n",
       "      <th>9553</th>\n",
       "      <td>0</td>\n",
       "      <td>0</td>\n",
       "      <td>1</td>\n",
       "      <td>0</td>\n",
       "      <td>0</td>\n",
       "      <td>0</td>\n",
       "      <td>0</td>\n",
       "    </tr>\n",
       "    <tr>\n",
       "      <th>9554</th>\n",
       "      <td>0</td>\n",
       "      <td>0</td>\n",
       "      <td>0</td>\n",
       "      <td>0</td>\n",
       "      <td>0</td>\n",
       "      <td>0</td>\n",
       "      <td>1</td>\n",
       "    </tr>\n",
       "    <tr>\n",
       "      <th>9555</th>\n",
       "      <td>0</td>\n",
       "      <td>0</td>\n",
       "      <td>0</td>\n",
       "      <td>0</td>\n",
       "      <td>1</td>\n",
       "      <td>0</td>\n",
       "      <td>0</td>\n",
       "    </tr>\n",
       "    <tr>\n",
       "      <th>9556</th>\n",
       "      <td>0</td>\n",
       "      <td>0</td>\n",
       "      <td>1</td>\n",
       "      <td>0</td>\n",
       "      <td>0</td>\n",
       "      <td>0</td>\n",
       "      <td>0</td>\n",
       "    </tr>\n",
       "    <tr>\n",
       "      <th>9557</th>\n",
       "      <td>0</td>\n",
       "      <td>1</td>\n",
       "      <td>0</td>\n",
       "      <td>0</td>\n",
       "      <td>0</td>\n",
       "      <td>0</td>\n",
       "      <td>0</td>\n",
       "    </tr>\n",
       "    <tr>\n",
       "      <th>9558</th>\n",
       "      <td>0</td>\n",
       "      <td>0</td>\n",
       "      <td>1</td>\n",
       "      <td>0</td>\n",
       "      <td>0</td>\n",
       "      <td>0</td>\n",
       "      <td>0</td>\n",
       "    </tr>\n",
       "    <tr>\n",
       "      <th>9559</th>\n",
       "      <td>0</td>\n",
       "      <td>1</td>\n",
       "      <td>0</td>\n",
       "      <td>0</td>\n",
       "      <td>0</td>\n",
       "      <td>0</td>\n",
       "      <td>0</td>\n",
       "    </tr>\n",
       "    <tr>\n",
       "      <th>9560</th>\n",
       "      <td>1</td>\n",
       "      <td>0</td>\n",
       "      <td>0</td>\n",
       "      <td>0</td>\n",
       "      <td>0</td>\n",
       "      <td>0</td>\n",
       "      <td>0</td>\n",
       "    </tr>\n",
       "    <tr>\n",
       "      <th>9561</th>\n",
       "      <td>1</td>\n",
       "      <td>0</td>\n",
       "      <td>0</td>\n",
       "      <td>0</td>\n",
       "      <td>0</td>\n",
       "      <td>0</td>\n",
       "      <td>0</td>\n",
       "    </tr>\n",
       "    <tr>\n",
       "      <th>9562</th>\n",
       "      <td>0</td>\n",
       "      <td>0</td>\n",
       "      <td>1</td>\n",
       "      <td>0</td>\n",
       "      <td>0</td>\n",
       "      <td>0</td>\n",
       "      <td>0</td>\n",
       "    </tr>\n",
       "    <tr>\n",
       "      <th>9563</th>\n",
       "      <td>0</td>\n",
       "      <td>0</td>\n",
       "      <td>1</td>\n",
       "      <td>0</td>\n",
       "      <td>0</td>\n",
       "      <td>0</td>\n",
       "      <td>0</td>\n",
       "    </tr>\n",
       "    <tr>\n",
       "      <th>9564</th>\n",
       "      <td>1</td>\n",
       "      <td>0</td>\n",
       "      <td>0</td>\n",
       "      <td>0</td>\n",
       "      <td>0</td>\n",
       "      <td>0</td>\n",
       "      <td>0</td>\n",
       "    </tr>\n",
       "    <tr>\n",
       "      <th>9565</th>\n",
       "      <td>1</td>\n",
       "      <td>0</td>\n",
       "      <td>0</td>\n",
       "      <td>0</td>\n",
       "      <td>0</td>\n",
       "      <td>0</td>\n",
       "      <td>0</td>\n",
       "    </tr>\n",
       "    <tr>\n",
       "      <th>9566</th>\n",
       "      <td>1</td>\n",
       "      <td>0</td>\n",
       "      <td>0</td>\n",
       "      <td>0</td>\n",
       "      <td>0</td>\n",
       "      <td>0</td>\n",
       "      <td>0</td>\n",
       "    </tr>\n",
       "    <tr>\n",
       "      <th>9567</th>\n",
       "      <td>1</td>\n",
       "      <td>0</td>\n",
       "      <td>0</td>\n",
       "      <td>0</td>\n",
       "      <td>0</td>\n",
       "      <td>0</td>\n",
       "      <td>0</td>\n",
       "    </tr>\n",
       "    <tr>\n",
       "      <th>9568</th>\n",
       "      <td>1</td>\n",
       "      <td>0</td>\n",
       "      <td>0</td>\n",
       "      <td>0</td>\n",
       "      <td>0</td>\n",
       "      <td>0</td>\n",
       "      <td>0</td>\n",
       "    </tr>\n",
       "    <tr>\n",
       "      <th>9569</th>\n",
       "      <td>0</td>\n",
       "      <td>0</td>\n",
       "      <td>0</td>\n",
       "      <td>0</td>\n",
       "      <td>1</td>\n",
       "      <td>0</td>\n",
       "      <td>0</td>\n",
       "    </tr>\n",
       "    <tr>\n",
       "      <th>9570</th>\n",
       "      <td>1</td>\n",
       "      <td>0</td>\n",
       "      <td>0</td>\n",
       "      <td>0</td>\n",
       "      <td>0</td>\n",
       "      <td>0</td>\n",
       "      <td>0</td>\n",
       "    </tr>\n",
       "    <tr>\n",
       "      <th>9571</th>\n",
       "      <td>1</td>\n",
       "      <td>0</td>\n",
       "      <td>0</td>\n",
       "      <td>0</td>\n",
       "      <td>0</td>\n",
       "      <td>0</td>\n",
       "      <td>0</td>\n",
       "    </tr>\n",
       "    <tr>\n",
       "      <th>9572</th>\n",
       "      <td>0</td>\n",
       "      <td>0</td>\n",
       "      <td>1</td>\n",
       "      <td>0</td>\n",
       "      <td>0</td>\n",
       "      <td>0</td>\n",
       "      <td>0</td>\n",
       "    </tr>\n",
       "    <tr>\n",
       "      <th>9573</th>\n",
       "      <td>1</td>\n",
       "      <td>0</td>\n",
       "      <td>0</td>\n",
       "      <td>0</td>\n",
       "      <td>0</td>\n",
       "      <td>0</td>\n",
       "      <td>0</td>\n",
       "    </tr>\n",
       "    <tr>\n",
       "      <th>9574</th>\n",
       "      <td>1</td>\n",
       "      <td>0</td>\n",
       "      <td>0</td>\n",
       "      <td>0</td>\n",
       "      <td>0</td>\n",
       "      <td>0</td>\n",
       "      <td>0</td>\n",
       "    </tr>\n",
       "    <tr>\n",
       "      <th>9575</th>\n",
       "      <td>0</td>\n",
       "      <td>0</td>\n",
       "      <td>1</td>\n",
       "      <td>0</td>\n",
       "      <td>0</td>\n",
       "      <td>0</td>\n",
       "      <td>0</td>\n",
       "    </tr>\n",
       "    <tr>\n",
       "      <th>9576</th>\n",
       "      <td>0</td>\n",
       "      <td>0</td>\n",
       "      <td>0</td>\n",
       "      <td>0</td>\n",
       "      <td>1</td>\n",
       "      <td>0</td>\n",
       "      <td>0</td>\n",
       "    </tr>\n",
       "    <tr>\n",
       "      <th>9577</th>\n",
       "      <td>0</td>\n",
       "      <td>0</td>\n",
       "      <td>1</td>\n",
       "      <td>0</td>\n",
       "      <td>0</td>\n",
       "      <td>0</td>\n",
       "      <td>0</td>\n",
       "    </tr>\n",
       "  </tbody>\n",
       "</table>\n",
       "<p>9578 rows × 7 columns</p>\n",
       "</div>"
      ],
      "text/plain": [
       "      purp_all_other  purp_credit_card  purp_debt_consolidation  \\\n",
       "0                  0                 0                        1   \n",
       "1                  0                 1                        0   \n",
       "2                  0                 0                        1   \n",
       "3                  0                 0                        1   \n",
       "4                  0                 1                        0   \n",
       "5                  0                 1                        0   \n",
       "6                  0                 0                        1   \n",
       "7                  1                 0                        0   \n",
       "8                  0                 0                        0   \n",
       "9                  0                 0                        1   \n",
       "10                 0                 0                        1   \n",
       "11                 0                 0                        1   \n",
       "12                 0                 0                        1   \n",
       "13                 0                 0                        0   \n",
       "14                 0                 0                        1   \n",
       "15                 0                 0                        0   \n",
       "16                 1                 0                        0   \n",
       "17                 0                 1                        0   \n",
       "18                 0                 0                        1   \n",
       "19                 0                 0                        0   \n",
       "20                 1                 0                        0   \n",
       "21                 1                 0                        0   \n",
       "22                 0                 1                        0   \n",
       "23                 0                 1                        0   \n",
       "24                 0                 0                        1   \n",
       "25                 1                 0                        0   \n",
       "26                 1                 0                        0   \n",
       "27                 0                 0                        1   \n",
       "28                 1                 0                        0   \n",
       "29                 1                 0                        0   \n",
       "...              ...               ...                      ...   \n",
       "9548               0                 0                        0   \n",
       "9549               0                 0                        0   \n",
       "9550               1                 0                        0   \n",
       "9551               0                 0                        0   \n",
       "9552               0                 0                        1   \n",
       "9553               0                 0                        1   \n",
       "9554               0                 0                        0   \n",
       "9555               0                 0                        0   \n",
       "9556               0                 0                        1   \n",
       "9557               0                 1                        0   \n",
       "9558               0                 0                        1   \n",
       "9559               0                 1                        0   \n",
       "9560               1                 0                        0   \n",
       "9561               1                 0                        0   \n",
       "9562               0                 0                        1   \n",
       "9563               0                 0                        1   \n",
       "9564               1                 0                        0   \n",
       "9565               1                 0                        0   \n",
       "9566               1                 0                        0   \n",
       "9567               1                 0                        0   \n",
       "9568               1                 0                        0   \n",
       "9569               0                 0                        0   \n",
       "9570               1                 0                        0   \n",
       "9571               1                 0                        0   \n",
       "9572               0                 0                        1   \n",
       "9573               1                 0                        0   \n",
       "9574               1                 0                        0   \n",
       "9575               0                 0                        1   \n",
       "9576               0                 0                        0   \n",
       "9577               0                 0                        1   \n",
       "\n",
       "      purp_educational  purp_home_improvement  purp_major_purchase  \\\n",
       "0                    0                      0                    0   \n",
       "1                    0                      0                    0   \n",
       "2                    0                      0                    0   \n",
       "3                    0                      0                    0   \n",
       "4                    0                      0                    0   \n",
       "5                    0                      0                    0   \n",
       "6                    0                      0                    0   \n",
       "7                    0                      0                    0   \n",
       "8                    0                      1                    0   \n",
       "9                    0                      0                    0   \n",
       "10                   0                      0                    0   \n",
       "11                   0                      0                    0   \n",
       "12                   0                      0                    0   \n",
       "13                   0                      0                    0   \n",
       "14                   0                      0                    0   \n",
       "15                   0                      0                    1   \n",
       "16                   0                      0                    0   \n",
       "17                   0                      0                    0   \n",
       "18                   0                      0                    0   \n",
       "19                   0                      0                    1   \n",
       "20                   0                      0                    0   \n",
       "21                   0                      0                    0   \n",
       "22                   0                      0                    0   \n",
       "23                   0                      0                    0   \n",
       "24                   0                      0                    0   \n",
       "25                   0                      0                    0   \n",
       "26                   0                      0                    0   \n",
       "27                   0                      0                    0   \n",
       "28                   0                      0                    0   \n",
       "29                   0                      0                    0   \n",
       "...                ...                    ...                  ...   \n",
       "9548                 0                      1                    0   \n",
       "9549                 0                      1                    0   \n",
       "9550                 0                      0                    0   \n",
       "9551                 0                      1                    0   \n",
       "9552                 0                      0                    0   \n",
       "9553                 0                      0                    0   \n",
       "9554                 0                      0                    0   \n",
       "9555                 0                      1                    0   \n",
       "9556                 0                      0                    0   \n",
       "9557                 0                      0                    0   \n",
       "9558                 0                      0                    0   \n",
       "9559                 0                      0                    0   \n",
       "9560                 0                      0                    0   \n",
       "9561                 0                      0                    0   \n",
       "9562                 0                      0                    0   \n",
       "9563                 0                      0                    0   \n",
       "9564                 0                      0                    0   \n",
       "9565                 0                      0                    0   \n",
       "9566                 0                      0                    0   \n",
       "9567                 0                      0                    0   \n",
       "9568                 0                      0                    0   \n",
       "9569                 0                      1                    0   \n",
       "9570                 0                      0                    0   \n",
       "9571                 0                      0                    0   \n",
       "9572                 0                      0                    0   \n",
       "9573                 0                      0                    0   \n",
       "9574                 0                      0                    0   \n",
       "9575                 0                      0                    0   \n",
       "9576                 0                      1                    0   \n",
       "9577                 0                      0                    0   \n",
       "\n",
       "      purp_small_business  \n",
       "0                       0  \n",
       "1                       0  \n",
       "2                       0  \n",
       "3                       0  \n",
       "4                       0  \n",
       "5                       0  \n",
       "6                       0  \n",
       "7                       0  \n",
       "8                       0  \n",
       "9                       0  \n",
       "10                      0  \n",
       "11                      0  \n",
       "12                      0  \n",
       "13                      1  \n",
       "14                      0  \n",
       "15                      0  \n",
       "16                      0  \n",
       "17                      0  \n",
       "18                      0  \n",
       "19                      0  \n",
       "20                      0  \n",
       "21                      0  \n",
       "22                      0  \n",
       "23                      0  \n",
       "24                      0  \n",
       "25                      0  \n",
       "26                      0  \n",
       "27                      0  \n",
       "28                      0  \n",
       "29                      0  \n",
       "...                   ...  \n",
       "9548                    0  \n",
       "9549                    0  \n",
       "9550                    0  \n",
       "9551                    0  \n",
       "9552                    0  \n",
       "9553                    0  \n",
       "9554                    1  \n",
       "9555                    0  \n",
       "9556                    0  \n",
       "9557                    0  \n",
       "9558                    0  \n",
       "9559                    0  \n",
       "9560                    0  \n",
       "9561                    0  \n",
       "9562                    0  \n",
       "9563                    0  \n",
       "9564                    0  \n",
       "9565                    0  \n",
       "9566                    0  \n",
       "9567                    0  \n",
       "9568                    0  \n",
       "9569                    0  \n",
       "9570                    0  \n",
       "9571                    0  \n",
       "9572                    0  \n",
       "9573                    0  \n",
       "9574                    0  \n",
       "9575                    0  \n",
       "9576                    0  \n",
       "9577                    0  \n",
       "\n",
       "[9578 rows x 7 columns]"
      ]
     },
     "execution_count": 14,
     "metadata": {},
     "output_type": "execute_result"
    }
   ],
   "source": [
    "pd.get_dummies(loan['purpose'],prefix='purp')"
   ]
  },
  {
   "cell_type": "code",
   "execution_count": 15,
   "metadata": {},
   "outputs": [],
   "source": [
    "encodedDF=pd.get_dummies(loan['purpose'],prefix='purp')"
   ]
  },
  {
   "cell_type": "code",
   "execution_count": 16,
   "metadata": {},
   "outputs": [
    {
     "data": {
      "text/plain": [
       "(9578, 7)"
      ]
     },
     "execution_count": 16,
     "metadata": {},
     "output_type": "execute_result"
    }
   ],
   "source": [
    "encodedDF.shape"
   ]
  },
  {
   "cell_type": "code",
   "execution_count": 17,
   "metadata": {},
   "outputs": [
    {
     "data": {
      "text/plain": [
       "(9578, 14)"
      ]
     },
     "execution_count": 17,
     "metadata": {},
     "output_type": "execute_result"
    }
   ],
   "source": [
    "loan.shape"
   ]
  },
  {
   "cell_type": "code",
   "execution_count": 18,
   "metadata": {},
   "outputs": [
    {
     "data": {
      "text/plain": [
       "purp_all_other             0\n",
       "purp_credit_card           0\n",
       "purp_debt_consolidation    0\n",
       "purp_educational           0\n",
       "purp_home_improvement      0\n",
       "purp_major_purchase        0\n",
       "purp_small_business        0\n",
       "dtype: int64"
      ]
     },
     "execution_count": 18,
     "metadata": {},
     "output_type": "execute_result"
    }
   ],
   "source": [
    "encodedDF.isna().sum()"
   ]
  },
  {
   "cell_type": "code",
   "execution_count": 19,
   "metadata": {},
   "outputs": [
    {
     "data": {
      "text/plain": [
       "Index(['credit.policy', 'purpose', 'int.rate', 'installment', 'log.annual.inc',\n",
       "       'dti', 'fico', 'days.with.cr.line', 'revol.bal', 'revol.util',\n",
       "       'inq.last.6mths', 'delinq.2yrs', 'pub.rec', 'not.fully.paid'],\n",
       "      dtype='object')"
      ]
     },
     "execution_count": 19,
     "metadata": {},
     "output_type": "execute_result"
    }
   ],
   "source": [
    "loan.columns"
   ]
  },
  {
   "cell_type": "code",
   "execution_count": 20,
   "metadata": {},
   "outputs": [
    {
     "data": {
      "text/plain": [
       "Index(['purp_all_other', 'purp_credit_card', 'purp_debt_consolidation',\n",
       "       'purp_educational', 'purp_home_improvement', 'purp_major_purchase',\n",
       "       'purp_small_business'],\n",
       "      dtype='object')"
      ]
     },
     "execution_count": 20,
     "metadata": {},
     "output_type": "execute_result"
    }
   ],
   "source": [
    "encodedDF.columns"
   ]
  },
  {
   "cell_type": "code",
   "execution_count": 21,
   "metadata": {},
   "outputs": [
    {
     "data": {
      "text/plain": [
       "0    8045\n",
       "1    1533\n",
       "Name: not.fully.paid, dtype: int64"
      ]
     },
     "execution_count": 21,
     "metadata": {},
     "output_type": "execute_result"
    }
   ],
   "source": [
    "loan['not.fully.paid'].value_counts()"
   ]
  },
  {
   "cell_type": "code",
   "execution_count": 22,
   "metadata": {},
   "outputs": [
    {
     "data": {
      "text/plain": [
       "1    7710\n",
       "0    1868\n",
       "Name: credit.policy, dtype: int64"
      ]
     },
     "execution_count": 22,
     "metadata": {},
     "output_type": "execute_result"
    }
   ],
   "source": [
    "loan['credit.policy'].value_counts()"
   ]
  },
  {
   "cell_type": "code",
   "execution_count": 31,
   "metadata": {},
   "outputs": [
    {
     "data": {
      "text/plain": [
       "0     3637\n",
       "1     2462\n",
       "2     1384\n",
       "3      864\n",
       "4      475\n",
       "5      278\n",
       "6      165\n",
       "7      100\n",
       "8       72\n",
       "9       47\n",
       "10      23\n",
       "11      15\n",
       "12      15\n",
       "15       9\n",
       "13       6\n",
       "14       6\n",
       "18       4\n",
       "16       3\n",
       "24       2\n",
       "19       2\n",
       "17       2\n",
       "27       1\n",
       "28       1\n",
       "25       1\n",
       "32       1\n",
       "20       1\n",
       "33       1\n",
       "31       1\n",
       "Name: inq.last.6mths, dtype: int64"
      ]
     },
     "execution_count": 31,
     "metadata": {},
     "output_type": "execute_result"
    }
   ],
   "source": [
    "#loan['dti'].value_counts()\n",
    "#loan['fico'].value_counts()\n",
    "#loan['days.with.cr.line'].value_counts()\n",
    "#loan['revol.bal'].value_counts()\n",
    "loan['inq.last.6mths'].value_counts()"
   ]
  },
  {
   "cell_type": "code",
   "execution_count": 32,
   "metadata": {},
   "outputs": [],
   "source": [
    "#loan['log.annual.inc'].value_counts()"
   ]
  },
  {
   "cell_type": "code",
   "execution_count": 33,
   "metadata": {},
   "outputs": [],
   "source": [
    "#loan['installment'].value_counts()"
   ]
  },
  {
   "cell_type": "code",
   "execution_count": 35,
   "metadata": {},
   "outputs": [
    {
     "data": {
      "text/plain": [
       "0.1253    354\n",
       "0.0894    299\n",
       "0.1183    243\n",
       "0.1218    215\n",
       "0.0963    210\n",
       "0.1114    206\n",
       "0.0800    198\n",
       "0.1287    197\n",
       "0.1148    193\n",
       "0.0932    187\n",
       "0.0859    187\n",
       "0.1221    182\n",
       "0.1189    165\n",
       "0.1322    159\n",
       "0.0774    154\n",
       "0.1284    152\n",
       "0.1357    152\n",
       "0.1347    146\n",
       "0.1392    142\n",
       "0.1316    141\n",
       "0.1496    138\n",
       "0.1426    138\n",
       "0.1600    126\n",
       "0.1379    125\n",
       "0.1461    113\n",
       "0.1531    113\n",
       "0.1411    113\n",
       "0.1158    107\n",
       "0.1442    106\n",
       "0.1126     95\n",
       "         ... \n",
       "0.1462      4\n",
       "0.1659      4\n",
       "0.1457      3\n",
       "0.1904      3\n",
       "0.1467      3\n",
       "0.1886      3\n",
       "0.1646      3\n",
       "0.1349      3\n",
       "0.1793      3\n",
       "0.2090      2\n",
       "0.2164      2\n",
       "0.1728      2\n",
       "0.1854      2\n",
       "0.1709      2\n",
       "0.1830      2\n",
       "0.1759      2\n",
       "0.1633      2\n",
       "0.1791      2\n",
       "0.1936      2\n",
       "0.1772      1\n",
       "0.2016      1\n",
       "0.1867      1\n",
       "0.1778      1\n",
       "0.1872      1\n",
       "0.1683      1\n",
       "0.1941      1\n",
       "0.1741      1\n",
       "0.1620      1\n",
       "0.1746      1\n",
       "0.1756      1\n",
       "Name: int.rate, Length: 249, dtype: int64"
      ]
     },
     "execution_count": 35,
     "metadata": {},
     "output_type": "execute_result"
    }
   ],
   "source": [
    "loan['int.rate'].value_counts()"
   ]
  },
  {
   "cell_type": "code",
   "execution_count": 79,
   "metadata": {},
   "outputs": [
    {
     "data": {
      "text/plain": [
       "(9578, 14)"
      ]
     },
     "execution_count": 79,
     "metadata": {},
     "output_type": "execute_result"
    }
   ],
   "source": [
    "loan.shape"
   ]
  },
  {
   "cell_type": "code",
   "execution_count": 81,
   "metadata": {},
   "outputs": [
    {
     "data": {
      "text/plain": [
       "(9578, 7)"
      ]
     },
     "execution_count": 81,
     "metadata": {},
     "output_type": "execute_result"
    }
   ],
   "source": [
    "encodedDF.shape"
   ]
  },
  {
   "cell_type": "code",
   "execution_count": 36,
   "metadata": {},
   "outputs": [],
   "source": [
    "x=pd.concat([encodedDF,loan.drop(['purpose','not.fully.paid'],axis=1)],axis=1)\n",
    "y=loan['not.fully.paid']"
   ]
  },
  {
   "cell_type": "code",
   "execution_count": 37,
   "metadata": {},
   "outputs": [
    {
     "data": {
      "text/plain": [
       "(9578, 19)"
      ]
     },
     "execution_count": 37,
     "metadata": {},
     "output_type": "execute_result"
    }
   ],
   "source": [
    "x.shape"
   ]
  },
  {
   "cell_type": "code",
   "execution_count": 38,
   "metadata": {},
   "outputs": [
    {
     "data": {
      "text/plain": [
       "(9578,)"
      ]
     },
     "execution_count": 38,
     "metadata": {},
     "output_type": "execute_result"
    }
   ],
   "source": [
    "y.shape"
   ]
  },
  {
   "cell_type": "code",
   "execution_count": 39,
   "metadata": {},
   "outputs": [],
   "source": [
    "from sklearn.model_selection import train_test_split"
   ]
  },
  {
   "cell_type": "code",
   "execution_count": 93,
   "metadata": {},
   "outputs": [],
   "source": [
    "x_train,x_test,y_train,y_test=train_test_split(x,y,test_size=0.2,random_state=102)"
   ]
  },
  {
   "cell_type": "code",
   "execution_count": 92,
   "metadata": {},
   "outputs": [],
   "source": [
    "lr = LogisticRegression()"
   ]
  },
  {
   "cell_type": "code",
   "execution_count": 94,
   "metadata": {},
   "outputs": [
    {
     "data": {
      "text/plain": [
       "LogisticRegression(C=1.0, class_weight=None, dual=False, fit_intercept=True,\n",
       "          intercept_scaling=1, max_iter=100, multi_class='ovr', n_jobs=1,\n",
       "          penalty='l2', random_state=None, solver='liblinear', tol=0.0001,\n",
       "          verbose=0, warm_start=False)"
      ]
     },
     "execution_count": 94,
     "metadata": {},
     "output_type": "execute_result"
    }
   ],
   "source": [
    "lr.fit(x_train, y_train)"
   ]
  },
  {
   "cell_type": "code",
   "execution_count": 95,
   "metadata": {},
   "outputs": [],
   "source": [
    "y_pred = lr.predict(x_test)"
   ]
  },
  {
   "cell_type": "code",
   "execution_count": 45,
   "metadata": {},
   "outputs": [
    {
     "name": "stdout",
     "output_type": "stream",
     "text": [
      "Accuracy score of Logistic regression: 0.8215031315240083\n"
     ]
    }
   ],
   "source": [
    "print('Accuracy score of Logistic regression:', accuracy_score(y_test, y_pred))"
   ]
  },
  {
   "cell_type": "code",
   "execution_count": 96,
   "metadata": {},
   "outputs": [
    {
     "name": "stdout",
     "output_type": "stream",
     "text": [
      "Accuracy score of Logistic regression: 0.8215031315240083\n"
     ]
    }
   ],
   "source": [
    "print('Accuracy score of Logistic regression:', accuracy_score(y_test, y_pred))"
   ]
  },
  {
   "cell_type": "code",
   "execution_count": 97,
   "metadata": {},
   "outputs": [],
   "source": [
    "def fit_predict(train,test,y_train,y_test,scaler,max_depth,\n",
    "                criterion='entropy',max_features=1,min_samples_split=4):\n",
    "    train_scaled=scaler.fit_transform(train)\n",
    "    test_scaled=scaler.transform(test)\n",
    "    dt= DecisionTreeClassifier(criterion=criterion,max_depth=max_depth,\n",
    "                              random_state=42,max_features=max_features,\n",
    "                              min_samples_split=min_samples_split)\n",
    "    dt.fit(train_scaled,y_train)\n",
    "    y_pred=dt.predict(test_scaled)\n",
    "    print(accuracy_score(y_test,y_pred))"
   ]
  },
  {
   "cell_type": "code",
   "execution_count": 98,
   "metadata": {},
   "outputs": [
    {
     "data": {
      "text/plain": [
       "(7662, 19)"
      ]
     },
     "execution_count": 98,
     "metadata": {},
     "output_type": "execute_result"
    }
   ],
   "source": [
    "x_train.shape"
   ]
  },
  {
   "cell_type": "code",
   "execution_count": 100,
   "metadata": {},
   "outputs": [
    {
     "data": {
      "text/plain": [
       "(1916, 19)"
      ]
     },
     "execution_count": 100,
     "metadata": {},
     "output_type": "execute_result"
    }
   ],
   "source": [
    "x_test.shape"
   ]
  },
  {
   "cell_type": "code",
   "execution_count": 99,
   "metadata": {},
   "outputs": [
    {
     "data": {
      "text/plain": [
       "(7662,)"
      ]
     },
     "execution_count": 99,
     "metadata": {},
     "output_type": "execute_result"
    }
   ],
   "source": [
    "y_train.shape"
   ]
  },
  {
   "cell_type": "code",
   "execution_count": 90,
   "metadata": {},
   "outputs": [
    {
     "data": {
      "text/plain": [
       "(1916, 7)"
      ]
     },
     "execution_count": 90,
     "metadata": {},
     "output_type": "execute_result"
    }
   ],
   "source": [
    "x_test.shape"
   ]
  },
  {
   "cell_type": "code",
   "execution_count": 70,
   "metadata": {},
   "outputs": [
    {
     "data": {
      "text/plain": [
       "(1916,)"
      ]
     },
     "execution_count": 70,
     "metadata": {},
     "output_type": "execute_result"
    }
   ],
   "source": [
    "y_test.shape"
   ]
  },
  {
   "cell_type": "code",
   "execution_count": 64,
   "metadata": {},
   "outputs": [
    {
     "data": {
      "text/plain": [
       "array([[1],\n",
       "       [0],\n",
       "       [1],\n",
       "       ...,\n",
       "       [0],\n",
       "       [0],\n",
       "       [0]], dtype=int64)"
      ]
     },
     "execution_count": 64,
     "metadata": {},
     "output_type": "execute_result"
    }
   ],
   "source": [
    "y_train.values.reshape(-1, 1)"
   ]
  },
  {
   "cell_type": "code",
   "execution_count": 63,
   "metadata": {},
   "outputs": [
    {
     "data": {
      "text/plain": [
       "array([[0],\n",
       "       [0],\n",
       "       [0],\n",
       "       ...,\n",
       "       [1],\n",
       "       [0],\n",
       "       [0]], dtype=int64)"
      ]
     },
     "execution_count": 63,
     "metadata": {},
     "output_type": "execute_result"
    }
   ],
   "source": [
    "y_test.values.reshape(-1, 1)"
   ]
  },
  {
   "cell_type": "code",
   "execution_count": null,
   "metadata": {},
   "outputs": [],
   "source": []
  },
  {
   "cell_type": "code",
   "execution_count": 71,
   "metadata": {},
   "outputs": [
    {
     "data": {
      "text/plain": [
       "DecisionTreeClassifier(class_weight=None, criterion='gini', max_depth=None,\n",
       "            max_features=None, max_leaf_nodes=None,\n",
       "            min_impurity_decrease=0.0, min_impurity_split=None,\n",
       "            min_samples_leaf=1, min_samples_split=2,\n",
       "            min_weight_fraction_leaf=0.0, presort=False, random_state=None,\n",
       "            splitter='best')"
      ]
     },
     "execution_count": 71,
     "metadata": {},
     "output_type": "execute_result"
    }
   ],
   "source": [
    "dt= DecisionTreeClassifier()\n",
    "dt.fit(x_train,y_train)\n"
   ]
  },
  {
   "cell_type": "code",
   "execution_count": 73,
   "metadata": {},
   "outputs": [
    {
     "data": {
      "text/plain": [
       "(1916,)"
      ]
     },
     "execution_count": 73,
     "metadata": {},
     "output_type": "execute_result"
    }
   ],
   "source": [
    "y_test.shape"
   ]
  },
  {
   "cell_type": "code",
   "execution_count": 74,
   "metadata": {},
   "outputs": [
    {
     "data": {
      "text/plain": [
       "array([[0],\n",
       "       [0],\n",
       "       [0],\n",
       "       ...,\n",
       "       [1],\n",
       "       [0],\n",
       "       [0]], dtype=int64)"
      ]
     },
     "execution_count": 74,
     "metadata": {},
     "output_type": "execute_result"
    }
   ],
   "source": [
    "y_test.values.reshape(-1, 1)"
   ]
  },
  {
   "cell_type": "code",
   "execution_count": 76,
   "metadata": {},
   "outputs": [],
   "source": [
    "y_test=y_test.values.reshape(-1, 1)"
   ]
  },
  {
   "cell_type": "code",
   "execution_count": 104,
   "metadata": {},
   "outputs": [
    {
     "data": {
      "text/plain": [
       "(7662, 19)"
      ]
     },
     "execution_count": 104,
     "metadata": {},
     "output_type": "execute_result"
    }
   ],
   "source": [
    "x_train.shape"
   ]
  },
  {
   "cell_type": "code",
   "execution_count": 105,
   "metadata": {},
   "outputs": [
    {
     "data": {
      "text/plain": [
       "(7662,)"
      ]
     },
     "execution_count": 105,
     "metadata": {},
     "output_type": "execute_result"
    }
   ],
   "source": [
    "y_train.shape"
   ]
  },
  {
   "cell_type": "code",
   "execution_count": 106,
   "metadata": {},
   "outputs": [
    {
     "data": {
      "text/plain": [
       "(1916, 19)"
      ]
     },
     "execution_count": 106,
     "metadata": {},
     "output_type": "execute_result"
    }
   ],
   "source": [
    "x_test.shape"
   ]
  },
  {
   "cell_type": "code",
   "execution_count": 107,
   "metadata": {},
   "outputs": [
    {
     "data": {
      "text/plain": [
       "(1916,)"
      ]
     },
     "execution_count": 107,
     "metadata": {},
     "output_type": "execute_result"
    }
   ],
   "source": [
    "y_test.shape"
   ]
  },
  {
   "cell_type": "code",
   "execution_count": 108,
   "metadata": {},
   "outputs": [
    {
     "data": {
      "text/plain": [
       "401     1\n",
       "5426    0\n",
       "3314    1\n",
       "557     0\n",
       "5338    0\n",
       "Name: not.fully.paid, dtype: int64"
      ]
     },
     "execution_count": 108,
     "metadata": {},
     "output_type": "execute_result"
    }
   ],
   "source": [
    "y_train.head()"
   ]
  },
  {
   "cell_type": "code",
   "execution_count": 109,
   "metadata": {},
   "outputs": [
    {
     "data": {
      "text/plain": [
       "6084    0\n",
       "595     0\n",
       "1690    0\n",
       "4484    0\n",
       "3586    0\n",
       "Name: not.fully.paid, dtype: int64"
      ]
     },
     "execution_count": 109,
     "metadata": {},
     "output_type": "execute_result"
    }
   ],
   "source": [
    "y_test.head()"
   ]
  },
  {
   "cell_type": "code",
   "execution_count": 103,
   "metadata": {},
   "outputs": [
    {
     "data": {
      "text/plain": [
       "DecisionTreeClassifier(class_weight=None, criterion='gini', max_depth=None,\n",
       "            max_features=None, max_leaf_nodes=None,\n",
       "            min_impurity_decrease=0.0, min_impurity_split=None,\n",
       "            min_samples_leaf=1, min_samples_split=2,\n",
       "            min_weight_fraction_leaf=0.0, presort=False, random_state=None,\n",
       "            splitter='best')"
      ]
     },
     "execution_count": 103,
     "metadata": {},
     "output_type": "execute_result"
    }
   ],
   "source": [
    "dt= DecisionTreeClassifier()\n",
    "dt.fit(x_train,y_train)\n"
   ]
  },
  {
   "cell_type": "code",
   "execution_count": 110,
   "metadata": {},
   "outputs": [
    {
     "ename": "ValueError",
     "evalue": "Expected 2D array, got 1D array instead:\narray=[0. 0. 0. ... 1. 0. 0.].\nReshape your data either using array.reshape(-1, 1) if your data has a single feature or array.reshape(1, -1) if it contains a single sample.",
     "output_type": "error",
     "traceback": [
      "\u001b[1;31m---------------------------------------------------------------------------\u001b[0m",
      "\u001b[1;31mValueError\u001b[0m                                Traceback (most recent call last)",
      "\u001b[1;32m<ipython-input-110-3c9900d3eb7a>\u001b[0m in \u001b[0;36m<module>\u001b[1;34m()\u001b[0m\n\u001b[1;32m----> 1\u001b[1;33m \u001b[0my_pred\u001b[0m\u001b[1;33m=\u001b[0m\u001b[0mdt\u001b[0m\u001b[1;33m.\u001b[0m\u001b[0mpredict\u001b[0m\u001b[1;33m(\u001b[0m\u001b[0my_test\u001b[0m\u001b[1;33m)\u001b[0m\u001b[1;33m\u001b[0m\u001b[0m\n\u001b[0m",
      "\u001b[1;32m~\\AppData\\Local\\Continuum\\anaconda3\\lib\\site-packages\\sklearn\\tree\\tree.py\u001b[0m in \u001b[0;36mpredict\u001b[1;34m(self, X, check_input)\u001b[0m\n\u001b[0;32m    410\u001b[0m         \"\"\"\n\u001b[0;32m    411\u001b[0m         \u001b[0mcheck_is_fitted\u001b[0m\u001b[1;33m(\u001b[0m\u001b[0mself\u001b[0m\u001b[1;33m,\u001b[0m \u001b[1;34m'tree_'\u001b[0m\u001b[1;33m)\u001b[0m\u001b[1;33m\u001b[0m\u001b[0m\n\u001b[1;32m--> 412\u001b[1;33m         \u001b[0mX\u001b[0m \u001b[1;33m=\u001b[0m \u001b[0mself\u001b[0m\u001b[1;33m.\u001b[0m\u001b[0m_validate_X_predict\u001b[0m\u001b[1;33m(\u001b[0m\u001b[0mX\u001b[0m\u001b[1;33m,\u001b[0m \u001b[0mcheck_input\u001b[0m\u001b[1;33m)\u001b[0m\u001b[1;33m\u001b[0m\u001b[0m\n\u001b[0m\u001b[0;32m    413\u001b[0m         \u001b[0mproba\u001b[0m \u001b[1;33m=\u001b[0m \u001b[0mself\u001b[0m\u001b[1;33m.\u001b[0m\u001b[0mtree_\u001b[0m\u001b[1;33m.\u001b[0m\u001b[0mpredict\u001b[0m\u001b[1;33m(\u001b[0m\u001b[0mX\u001b[0m\u001b[1;33m)\u001b[0m\u001b[1;33m\u001b[0m\u001b[0m\n\u001b[0;32m    414\u001b[0m         \u001b[0mn_samples\u001b[0m \u001b[1;33m=\u001b[0m \u001b[0mX\u001b[0m\u001b[1;33m.\u001b[0m\u001b[0mshape\u001b[0m\u001b[1;33m[\u001b[0m\u001b[1;36m0\u001b[0m\u001b[1;33m]\u001b[0m\u001b[1;33m\u001b[0m\u001b[0m\n",
      "\u001b[1;32m~\\AppData\\Local\\Continuum\\anaconda3\\lib\\site-packages\\sklearn\\tree\\tree.py\u001b[0m in \u001b[0;36m_validate_X_predict\u001b[1;34m(self, X, check_input)\u001b[0m\n\u001b[0;32m    371\u001b[0m         \u001b[1;34m\"\"\"Validate X whenever one tries to predict, apply, predict_proba\"\"\"\u001b[0m\u001b[1;33m\u001b[0m\u001b[0m\n\u001b[0;32m    372\u001b[0m         \u001b[1;32mif\u001b[0m \u001b[0mcheck_input\u001b[0m\u001b[1;33m:\u001b[0m\u001b[1;33m\u001b[0m\u001b[0m\n\u001b[1;32m--> 373\u001b[1;33m             \u001b[0mX\u001b[0m \u001b[1;33m=\u001b[0m \u001b[0mcheck_array\u001b[0m\u001b[1;33m(\u001b[0m\u001b[0mX\u001b[0m\u001b[1;33m,\u001b[0m \u001b[0mdtype\u001b[0m\u001b[1;33m=\u001b[0m\u001b[0mDTYPE\u001b[0m\u001b[1;33m,\u001b[0m \u001b[0maccept_sparse\u001b[0m\u001b[1;33m=\u001b[0m\u001b[1;34m\"csr\"\u001b[0m\u001b[1;33m)\u001b[0m\u001b[1;33m\u001b[0m\u001b[0m\n\u001b[0m\u001b[0;32m    374\u001b[0m             if issparse(X) and (X.indices.dtype != np.intc or\n\u001b[0;32m    375\u001b[0m                                 X.indptr.dtype != np.intc):\n",
      "\u001b[1;32m~\\AppData\\Local\\Continuum\\anaconda3\\lib\\site-packages\\sklearn\\utils\\validation.py\u001b[0m in \u001b[0;36mcheck_array\u001b[1;34m(array, accept_sparse, dtype, order, copy, force_all_finite, ensure_2d, allow_nd, ensure_min_samples, ensure_min_features, warn_on_dtype, estimator)\u001b[0m\n\u001b[0;32m    439\u001b[0m                     \u001b[1;34m\"Reshape your data either using array.reshape(-1, 1) if \"\u001b[0m\u001b[1;33m\u001b[0m\u001b[0m\n\u001b[0;32m    440\u001b[0m                     \u001b[1;34m\"your data has a single feature or array.reshape(1, -1) \"\u001b[0m\u001b[1;33m\u001b[0m\u001b[0m\n\u001b[1;32m--> 441\u001b[1;33m                     \"if it contains a single sample.\".format(array))\n\u001b[0m\u001b[0;32m    442\u001b[0m             \u001b[0marray\u001b[0m \u001b[1;33m=\u001b[0m \u001b[0mnp\u001b[0m\u001b[1;33m.\u001b[0m\u001b[0matleast_2d\u001b[0m\u001b[1;33m(\u001b[0m\u001b[0marray\u001b[0m\u001b[1;33m)\u001b[0m\u001b[1;33m\u001b[0m\u001b[0m\n\u001b[0;32m    443\u001b[0m             \u001b[1;31m# To ensure that array flags are maintained\u001b[0m\u001b[1;33m\u001b[0m\u001b[1;33m\u001b[0m\u001b[0m\n",
      "\u001b[1;31mValueError\u001b[0m: Expected 2D array, got 1D array instead:\narray=[0. 0. 0. ... 1. 0. 0.].\nReshape your data either using array.reshape(-1, 1) if your data has a single feature or array.reshape(1, -1) if it contains a single sample."
     ]
    }
   ],
   "source": [
    "y_pred=dt.predict(y_test)"
   ]
  },
  {
   "cell_type": "code",
   "execution_count": null,
   "metadata": {},
   "outputs": [],
   "source": [
    "#MAX DEPTH TUNING"
   ]
  },
  {
   "cell_type": "code",
   "execution_count": 112,
   "metadata": {},
   "outputs": [
    {
     "name": "stdout",
     "output_type": "stream",
     "text": [
      "Accuracy score using max depth=  1: 0.8230688935281837\n",
      "Accuracy score using max depth=  2: 0.8230688935281837\n",
      "Accuracy score using max depth=  3: 0.8230688935281837\n",
      "Accuracy score using max depth=  4: 0.8225469728601252\n",
      "Accuracy score using max depth=  5: 0.8225469728601252\n",
      "Accuracy score using max depth=  6: 0.8204592901878914\n",
      "Accuracy score using max depth=  7: 0.8178496868475992\n",
      "Accuracy score using max depth=  8: 0.8188935281837161\n",
      "Accuracy score using max depth=  9: 0.8162839248434238\n",
      "Accuracy score using max depth=  10: 0.81419624217119\n",
      "Accuracy score using max depth=  11: 0.8105427974947808\n",
      "Accuracy score using max depth=  12: 0.8089770354906054\n",
      "Accuracy score using max depth=  13: 0.808455114822547\n",
      "Accuracy score using max depth=  14: 0.8110647181628392\n",
      "Accuracy score using max depth=  15: 0.7938413361169102\n",
      "Accuracy score using max depth=  16: 0.7860125260960334\n",
      "Accuracy score using max depth=  17: 0.7865344467640919\n",
      "Accuracy score using max depth=  18: 0.7839248434237995\n",
      "Accuracy score using max depth=  19: 0.7640918580375783\n",
      "Accuracy score using max depth=  20: 0.7651356993736952\n",
      "Accuracy score using max depth=  21: 0.7750521920668059\n",
      "Accuracy score using max depth=  22: 0.7599164926931107\n",
      "Accuracy score using max depth=  23: 0.7604384133611691\n",
      "Accuracy score using max depth=  24: 0.7395615866388309\n",
      "Accuracy score using max depth=  25: 0.7526096033402923\n",
      "Accuracy score using max depth=  26: 0.7567849686847599\n",
      "Accuracy score using max depth=  27: 0.7374739039665971\n",
      "Accuracy score using max depth=  28: 0.7400835073068893\n",
      "Accuracy score using max depth=  29: 0.7593945720250522\n"
     ]
    }
   ],
   "source": [
    "for i in range(1,30):\n",
    "    print('Accuracy score using max depth= ',i, end=': ')\n",
    "    fit_predict(x_train,x_test,y_train,y_test,StandardScaler(),i)"
   ]
  },
  {
   "cell_type": "code",
   "execution_count": 111,
   "metadata": {},
   "outputs": [],
   "source": [
    "#y_pred=dt.predict(y_test)\n",
    "#print(accuracy_score(y_test,y_pred))"
   ]
  },
  {
   "cell_type": "code",
   "execution_count": 114,
   "metadata": {},
   "outputs": [
    {
     "name": "stdout",
     "output_type": "stream",
     "text": [
      "Accuracy score using MAX FEATURES=  0.1 : 0.7463465553235908\n",
      "Accuracy score using MAX FEATURES=  0.15000000000000002 : 0.7510438413361169\n",
      "Accuracy score using MAX FEATURES=  0.20000000000000004 : 0.7379958246346555\n",
      "Accuracy score using MAX FEATURES=  0.25000000000000006 : 0.7489561586638831\n",
      "Accuracy score using MAX FEATURES=  0.30000000000000004 : 0.732776617954071\n",
      "Accuracy score using MAX FEATURES=  0.3500000000000001 : 0.7348643006263048\n",
      "Accuracy score using MAX FEATURES=  0.40000000000000013 : 0.7432150313152401\n",
      "Accuracy score using MAX FEATURES=  0.45000000000000007 : 0.7406054279749478\n",
      "Accuracy score using MAX FEATURES=  0.5000000000000001 : 0.7343423799582464\n",
      "Accuracy score using MAX FEATURES=  0.5500000000000002 : 0.7291231732776617\n",
      "Accuracy score using MAX FEATURES=  0.6000000000000002 : 0.7406054279749478\n",
      "Accuracy score using MAX FEATURES=  0.6500000000000001 : 0.7312108559498957\n",
      "Accuracy score using MAX FEATURES=  0.7000000000000002 : 0.7359081419624217\n",
      "Accuracy score using MAX FEATURES=  0.7500000000000002 : 0.7338204592901879\n",
      "Accuracy score using MAX FEATURES=  0.8000000000000002 : 0.7364300626304802\n",
      "Accuracy score using MAX FEATURES=  0.8500000000000002 : 0.7437369519832986\n",
      "Accuracy score using MAX FEATURES=  0.9000000000000002 : 0.7447807933194155\n",
      "Accuracy score using MAX FEATURES=  0.9500000000000003 : 0.7364300626304802\n"
     ]
    }
   ],
   "source": [
    "#MAX FEATURES TUNING\n",
    "for i in np.arange(0.1,1.0,0.05):\n",
    "    print('Accuracy score using MAX FEATURES= ',i,end=' : ')\n",
    "    fit_predict(x_train,x_test,y_train,y_test,StandardScaler(),max_depth=30,max_features=i)"
   ]
  },
  {
   "cell_type": "code",
   "execution_count": null,
   "metadata": {},
   "outputs": [],
   "source": [
    "MIN samples split tuning"
   ]
  },
  {
   "cell_type": "code",
   "execution_count": 115,
   "metadata": {},
   "outputs": [
    {
     "name": "stdout",
     "output_type": "stream",
     "text": [
      "Accuracy score using min samples split= 2: 0.7395615866388309\n",
      "Accuracy score using min samples split= 3: 0.7426931106471816\n",
      "Accuracy score using min samples split= 4: 0.732776617954071\n",
      "Accuracy score using min samples split= 5: 0.7489561586638831\n",
      "Accuracy score using min samples split= 6: 0.7369519832985386\n",
      "Accuracy score using min samples split= 7: 0.7473903966597077\n",
      "Accuracy score using min samples split= 8: 0.7567849686847599\n",
      "Accuracy score using min samples split= 9: 0.7541753653444676\n",
      "Accuracy score using min samples split= 10: 0.7578288100208769\n",
      "Accuracy score using min samples split= 11: 0.7437369519832986\n",
      "Accuracy score using min samples split= 12: 0.7620041753653445\n",
      "Accuracy score using min samples split= 13: 0.7682672233820459\n",
      "Accuracy score using min samples split= 14: 0.7573068893528184\n",
      "Accuracy score using min samples split= 15: 0.7573068893528184\n",
      "Accuracy score using min samples split= 16: 0.7724425887265136\n",
      "Accuracy score using min samples split= 17: 0.7708768267223383\n",
      "Accuracy score using min samples split= 18: 0.7677453027139874\n",
      "Accuracy score using min samples split= 19: 0.7693110647181628\n"
     ]
    }
   ],
   "source": [
    "for i in range(2,20):\n",
    "    print('Accuracy score using min samples split=',i,end=': ')\n",
    "    fit_predict(x_train,x_test,y_train,y_test,StandardScaler(),30,max_features=0.3,min_samples_split=i)"
   ]
  },
  {
   "cell_type": "code",
   "execution_count": 116,
   "metadata": {},
   "outputs": [
    {
     "name": "stdout",
     "output_type": "stream",
     "text": [
      "Accuracy score using min samples split= 0.1: 0.8230688935281837\n",
      "Accuracy score using min samples split= 0.2: 0.8230688935281837\n",
      "Accuracy score using min samples split= 0.30000000000000004: 0.8230688935281837\n",
      "Accuracy score using min samples split= 0.4: 0.8230688935281837\n",
      "Accuracy score using min samples split= 0.5: 0.8230688935281837\n",
      "Accuracy score using min samples split= 0.6: 0.8230688935281837\n",
      "Accuracy score using min samples split= 0.7000000000000001: 0.8230688935281837\n",
      "Accuracy score using min samples split= 0.8: 0.8230688935281837\n",
      "Accuracy score using min samples split= 0.9: 0.8230688935281837\n"
     ]
    }
   ],
   "source": [
    "for i in np.arange(0.1,1.0,0.1):\n",
    "    print('Accuracy score using min samples split=',i,end=': ')\n",
    "    fit_predict(x_train,x_test,y_train,y_test,StandardScaler(),18,max_features=0.3,min_samples_split=i)"
   ]
  },
  {
   "cell_type": "code",
   "execution_count": 117,
   "metadata": {},
   "outputs": [
    {
     "name": "stdout",
     "output_type": "stream",
     "text": [
      "Accuracy score using criterion= gini: 0.7646137787056367\n",
      "Accuracy score using criterion= entropy: 0.767223382045929\n"
     ]
    }
   ],
   "source": [
    "for i in ['gini','entropy']:\n",
    "    print('Accuracy score using criterion=',i,end=': ')\n",
    "    fit_predict(x_train,x_test,y_train,y_test,StandardScaler(),19,\n",
    "               max_features=0.3,min_samples_split=2,criterion=i)"
   ]
  },
  {
   "cell_type": "code",
   "execution_count": 118,
   "metadata": {},
   "outputs": [],
   "source": [
    "def create_poly(train,test,degree):\n",
    "    poly=PolynomialFeatures(degree=degree)\n",
    "    train_poly =poly.fit_transform(train)\n",
    "    test_poly=poly.fit_transform(test)\n",
    "    return train_poly,test_poly"
   ]
  },
  {
   "cell_type": "code",
   "execution_count": 120,
   "metadata": {},
   "outputs": [
    {
     "name": "stdout",
     "output_type": "stream",
     "text": [
      "Polynomial degree= 1\n",
      "0.7573068893528184\n",
      "----------\n",
      "Polynomial degree= 2\n",
      "0.7625260960334029\n",
      "----------\n",
      "Polynomial degree= 3\n",
      "0.7583507306889353\n",
      "----------\n",
      "Polynomial degree= 4\n",
      "0.7719206680584552\n",
      "----------\n"
     ]
    }
   ],
   "source": [
    "for degree in [1,2,3,4]:\n",
    "    train_poly,test_poly= create_poly(x_train,x_test,degree)\n",
    "    print('Polynomial degree=',degree)\n",
    "    fit_predict(train_poly,test_poly,y_train,y_test,StandardScaler(),18,\n",
    "               max_features=0.3,min_samples_split=2,criterion='entropy')\n",
    "    print(10*'-')\n",
    "    \n",
    "train_poly,test_poly=create_poly(x_train,x_test,2)    "
   ]
  },
  {
   "cell_type": "code",
   "execution_count": 122,
   "metadata": {},
   "outputs": [],
   "source": [
    "from sklearn.ensemble import RandomForestClassifier"
   ]
  },
  {
   "cell_type": "code",
   "execution_count": 123,
   "metadata": {},
   "outputs": [],
   "source": [
    "rf=RandomForestClassifier(criterion='gini')"
   ]
  },
  {
   "cell_type": "code",
   "execution_count": 124,
   "metadata": {},
   "outputs": [
    {
     "data": {
      "text/plain": [
       "RandomForestClassifier(bootstrap=True, class_weight=None, criterion='gini',\n",
       "            max_depth=None, max_features='auto', max_leaf_nodes=None,\n",
       "            min_impurity_decrease=0.0, min_impurity_split=None,\n",
       "            min_samples_leaf=1, min_samples_split=2,\n",
       "            min_weight_fraction_leaf=0.0, n_estimators=10, n_jobs=1,\n",
       "            oob_score=False, random_state=None, verbose=0,\n",
       "            warm_start=False)"
      ]
     },
     "execution_count": 124,
     "metadata": {},
     "output_type": "execute_result"
    }
   ],
   "source": [
    "rf.fit(x_train,y_train)"
   ]
  },
  {
   "cell_type": "code",
   "execution_count": 126,
   "metadata": {},
   "outputs": [],
   "source": [
    "pred_rf=rf.predict(x_test)"
   ]
  },
  {
   "cell_type": "code",
   "execution_count": 127,
   "metadata": {},
   "outputs": [],
   "source": [
    "from sklearn.metrics import accuracy_score"
   ]
  },
  {
   "cell_type": "code",
   "execution_count": 128,
   "metadata": {},
   "outputs": [],
   "source": [
    "from sklearn.model_selection import GridSearchCV"
   ]
  },
  {
   "cell_type": "code",
   "execution_count": 129,
   "metadata": {},
   "outputs": [],
   "source": [
    "from sklearn.model_selection import cross_val_score"
   ]
  },
  {
   "cell_type": "code",
   "execution_count": 130,
   "metadata": {},
   "outputs": [],
   "source": [
    "cross_val_accuracy=cross_val_score(rf,x,y,scoring='accuracy',cv=10)"
   ]
  },
  {
   "cell_type": "code",
   "execution_count": 131,
   "metadata": {},
   "outputs": [],
   "source": [
    "from sklearn.metrics import confusion_matrix,classification_report"
   ]
  },
  {
   "cell_type": "code",
   "execution_count": 132,
   "metadata": {},
   "outputs": [
    {
     "name": "stdout",
     "output_type": "stream",
     "text": [
      "[[1546   31]\n",
      " [ 318   21]]\n"
     ]
    }
   ],
   "source": [
    "print(confusion_matrix(y_test,pred_rf))"
   ]
  },
  {
   "cell_type": "code",
   "execution_count": 134,
   "metadata": {},
   "outputs": [
    {
     "name": "stdout",
     "output_type": "stream",
     "text": [
      "             precision    recall  f1-score   support\n",
      "\n",
      "          0       0.83      0.98      0.90      1577\n",
      "          1       0.40      0.06      0.11       339\n",
      "\n",
      "avg / total       0.75      0.82      0.76      1916\n",
      "\n"
     ]
    }
   ],
   "source": [
    "print(classification_report(y_test,pred_rf))"
   ]
  },
  {
   "cell_type": "code",
   "execution_count": 135,
   "metadata": {},
   "outputs": [],
   "source": [
    "from sklearn.model_selection import GridSearchCV"
   ]
  },
  {
   "cell_type": "code",
   "execution_count": 136,
   "metadata": {},
   "outputs": [],
   "source": [
    "params={'n_estimators':[10,20,30,40,50],'max_depth':[10,15,18,20],\n",
    "       'min_samples_leaf':[3,5,7,8]}"
   ]
  },
  {
   "cell_type": "code",
   "execution_count": 137,
   "metadata": {},
   "outputs": [],
   "source": [
    "gs=GridSearchCV(rf,params,verbose=3)"
   ]
  },
  {
   "cell_type": "code",
   "execution_count": 138,
   "metadata": {},
   "outputs": [
    {
     "name": "stdout",
     "output_type": "stream",
     "text": [
      "Fitting 3 folds for each of 80 candidates, totalling 240 fits\n",
      "[CV] max_depth=10, min_samples_leaf=3, n_estimators=10 ...............\n",
      "[CV]  max_depth=10, min_samples_leaf=3, n_estimators=10, score=0.8433829287392326, total=   0.0s\n",
      "[CV] max_depth=10, min_samples_leaf=3, n_estimators=10 ...............\n",
      "[CV]  max_depth=10, min_samples_leaf=3, n_estimators=10, score=0.8406421299921691, total=   0.0s\n",
      "[CV] max_depth=10, min_samples_leaf=3, n_estimators=10 ...............\n"
     ]
    },
    {
     "name": "stderr",
     "output_type": "stream",
     "text": [
      "[Parallel(n_jobs=1)]: Done   1 out of   1 | elapsed:    0.0s remaining:    0.0s\n",
      "[Parallel(n_jobs=1)]: Done   2 out of   2 | elapsed:    0.1s remaining:    0.0s\n"
     ]
    },
    {
     "name": "stdout",
     "output_type": "stream",
     "text": [
      "[CV]  max_depth=10, min_samples_leaf=3, n_estimators=10, score=0.8429913860610807, total=   0.0s\n",
      "[CV] max_depth=10, min_samples_leaf=3, n_estimators=20 ...............\n",
      "[CV]  max_depth=10, min_samples_leaf=3, n_estimators=20, score=0.8445575567736884, total=   0.1s\n",
      "[CV] max_depth=10, min_samples_leaf=3, n_estimators=20 ...............\n",
      "[CV]  max_depth=10, min_samples_leaf=3, n_estimators=20, score=0.8398590446358654, total=   0.2s\n",
      "[CV] max_depth=10, min_samples_leaf=3, n_estimators=20 ...............\n",
      "[CV]  max_depth=10, min_samples_leaf=3, n_estimators=20, score=0.8441660140955364, total=   0.1s\n",
      "[CV] max_depth=10, min_samples_leaf=3, n_estimators=30 ...............\n",
      "[CV]  max_depth=10, min_samples_leaf=3, n_estimators=30, score=0.8422083007047768, total=   0.3s\n",
      "[CV] max_depth=10, min_samples_leaf=3, n_estimators=30 ...............\n",
      "[CV]  max_depth=10, min_samples_leaf=3, n_estimators=30, score=0.8422083007047768, total=   0.3s\n",
      "[CV] max_depth=10, min_samples_leaf=3, n_estimators=30 ...............\n",
      "[CV]  max_depth=10, min_samples_leaf=3, n_estimators=30, score=0.8429913860610807, total=   0.3s\n",
      "[CV] max_depth=10, min_samples_leaf=3, n_estimators=40 ...............\n",
      "[CV]  max_depth=10, min_samples_leaf=3, n_estimators=40, score=0.8437744714173845, total=   0.3s\n",
      "[CV] max_depth=10, min_samples_leaf=3, n_estimators=40 ...............\n",
      "[CV]  max_depth=10, min_samples_leaf=3, n_estimators=40, score=0.841425215348473, total=   0.4s\n",
      "[CV] max_depth=10, min_samples_leaf=3, n_estimators=40 ...............\n",
      "[CV]  max_depth=10, min_samples_leaf=3, n_estimators=40, score=0.8433829287392326, total=   0.4s\n",
      "[CV] max_depth=10, min_samples_leaf=3, n_estimators=50 ...............\n",
      "[CV]  max_depth=10, min_samples_leaf=3, n_estimators=50, score=0.8422083007047768, total=   0.5s\n",
      "[CV] max_depth=10, min_samples_leaf=3, n_estimators=50 ...............\n",
      "[CV]  max_depth=10, min_samples_leaf=3, n_estimators=50, score=0.841033672670321, total=   0.6s\n",
      "[CV] max_depth=10, min_samples_leaf=3, n_estimators=50 ...............\n",
      "[CV]  max_depth=10, min_samples_leaf=3, n_estimators=50, score=0.8425998433829287, total=   0.6s\n",
      "[CV] max_depth=10, min_samples_leaf=5, n_estimators=10 ...............\n",
      "[CV]  max_depth=10, min_samples_leaf=5, n_estimators=10, score=0.841425215348473, total=   0.0s\n",
      "[CV] max_depth=10, min_samples_leaf=5, n_estimators=10 ...............\n",
      "[CV]  max_depth=10, min_samples_leaf=5, n_estimators=10, score=0.8379013312451057, total=   0.0s\n",
      "[CV] max_depth=10, min_samples_leaf=5, n_estimators=10 ...............\n",
      "[CV]  max_depth=10, min_samples_leaf=5, n_estimators=10, score=0.8429913860610807, total=   0.0s\n",
      "[CV] max_depth=10, min_samples_leaf=5, n_estimators=20 ...............\n",
      "[CV]  max_depth=10, min_samples_leaf=5, n_estimators=20, score=0.8429913860610807, total=   0.1s\n",
      "[CV] max_depth=10, min_samples_leaf=5, n_estimators=20 ...............\n",
      "[CV]  max_depth=10, min_samples_leaf=5, n_estimators=20, score=0.8402505873140172, total=   0.2s\n",
      "[CV] max_depth=10, min_samples_leaf=5, n_estimators=20 ...............\n",
      "[CV]  max_depth=10, min_samples_leaf=5, n_estimators=20, score=0.8433829287392326, total=   0.2s\n",
      "[CV] max_depth=10, min_samples_leaf=5, n_estimators=30 ...............\n",
      "[CV]  max_depth=10, min_samples_leaf=5, n_estimators=30, score=0.8437744714173845, total=   0.3s\n",
      "[CV] max_depth=10, min_samples_leaf=5, n_estimators=30 ...............\n",
      "[CV]  max_depth=10, min_samples_leaf=5, n_estimators=30, score=0.841033672670321, total=   0.3s\n",
      "[CV] max_depth=10, min_samples_leaf=5, n_estimators=30 ...............\n",
      "[CV]  max_depth=10, min_samples_leaf=5, n_estimators=30, score=0.8453406421299922, total=   0.3s\n",
      "[CV] max_depth=10, min_samples_leaf=5, n_estimators=40 ...............\n",
      "[CV]  max_depth=10, min_samples_leaf=5, n_estimators=40, score=0.8433829287392326, total=   0.4s\n",
      "[CV] max_depth=10, min_samples_leaf=5, n_estimators=40 ...............\n",
      "[CV]  max_depth=10, min_samples_leaf=5, n_estimators=40, score=0.8425998433829287, total=   0.4s\n",
      "[CV] max_depth=10, min_samples_leaf=5, n_estimators=40 ...............\n",
      "[CV]  max_depth=10, min_samples_leaf=5, n_estimators=40, score=0.8425998433829287, total=   0.4s\n",
      "[CV] max_depth=10, min_samples_leaf=5, n_estimators=50 ...............\n",
      "[CV]  max_depth=10, min_samples_leaf=5, n_estimators=50, score=0.8437744714173845, total=   0.6s\n",
      "[CV] max_depth=10, min_samples_leaf=5, n_estimators=50 ...............\n",
      "[CV]  max_depth=10, min_samples_leaf=5, n_estimators=50, score=0.8433829287392326, total=   0.5s\n",
      "[CV] max_depth=10, min_samples_leaf=5, n_estimators=50 ...............\n",
      "[CV]  max_depth=10, min_samples_leaf=5, n_estimators=50, score=0.8433829287392326, total=   0.5s\n",
      "[CV] max_depth=10, min_samples_leaf=7, n_estimators=10 ...............\n",
      "[CV]  max_depth=10, min_samples_leaf=7, n_estimators=10, score=0.8437744714173845, total=   0.0s\n",
      "[CV] max_depth=10, min_samples_leaf=7, n_estimators=10 ...............\n",
      "[CV]  max_depth=10, min_samples_leaf=7, n_estimators=10, score=0.8425998433829287, total=   0.1s\n",
      "[CV] max_depth=10, min_samples_leaf=7, n_estimators=10 ...............\n",
      "[CV]  max_depth=10, min_samples_leaf=7, n_estimators=10, score=0.8418167580266249, total=   0.0s\n",
      "[CV] max_depth=10, min_samples_leaf=7, n_estimators=20 ...............\n",
      "[CV]  max_depth=10, min_samples_leaf=7, n_estimators=20, score=0.8425998433829287, total=   0.3s\n",
      "[CV] max_depth=10, min_samples_leaf=7, n_estimators=20 ...............\n",
      "[CV]  max_depth=10, min_samples_leaf=7, n_estimators=20, score=0.841033672670321, total=   0.2s\n",
      "[CV] max_depth=10, min_samples_leaf=7, n_estimators=20 ...............\n",
      "[CV]  max_depth=10, min_samples_leaf=7, n_estimators=20, score=0.8429913860610807, total=   0.2s\n",
      "[CV] max_depth=10, min_samples_leaf=7, n_estimators=30 ...............\n",
      "[CV]  max_depth=10, min_samples_leaf=7, n_estimators=30, score=0.8441660140955364, total=   0.3s\n",
      "[CV] max_depth=10, min_samples_leaf=7, n_estimators=30 ...............\n",
      "[CV]  max_depth=10, min_samples_leaf=7, n_estimators=30, score=0.8425998433829287, total=   0.3s\n",
      "[CV] max_depth=10, min_samples_leaf=7, n_estimators=30 ...............\n",
      "[CV]  max_depth=10, min_samples_leaf=7, n_estimators=30, score=0.8437744714173845, total=   0.3s\n",
      "[CV] max_depth=10, min_samples_leaf=7, n_estimators=40 ...............\n",
      "[CV]  max_depth=10, min_samples_leaf=7, n_estimators=40, score=0.8445575567736884, total=   0.4s\n",
      "[CV] max_depth=10, min_samples_leaf=7, n_estimators=40 ...............\n",
      "[CV]  max_depth=10, min_samples_leaf=7, n_estimators=40, score=0.8429913860610807, total=   0.4s\n",
      "[CV] max_depth=10, min_samples_leaf=7, n_estimators=40 ...............\n",
      "[CV]  max_depth=10, min_samples_leaf=7, n_estimators=40, score=0.8437744714173845, total=   0.4s\n",
      "[CV] max_depth=10, min_samples_leaf=7, n_estimators=50 ...............\n",
      "[CV]  max_depth=10, min_samples_leaf=7, n_estimators=50, score=0.8441660140955364, total=   0.5s\n",
      "[CV] max_depth=10, min_samples_leaf=7, n_estimators=50 ...............\n",
      "[CV]  max_depth=10, min_samples_leaf=7, n_estimators=50, score=0.8422083007047768, total=   0.5s\n",
      "[CV] max_depth=10, min_samples_leaf=7, n_estimators=50 ...............\n",
      "[CV]  max_depth=10, min_samples_leaf=7, n_estimators=50, score=0.8445575567736884, total=   0.5s\n",
      "[CV] max_depth=10, min_samples_leaf=8, n_estimators=10 ...............\n",
      "[CV]  max_depth=10, min_samples_leaf=8, n_estimators=10, score=0.8425998433829287, total=   0.0s\n",
      "[CV] max_depth=10, min_samples_leaf=8, n_estimators=10 ...............\n",
      "[CV]  max_depth=10, min_samples_leaf=8, n_estimators=10, score=0.8422083007047768, total=   0.0s\n",
      "[CV] max_depth=10, min_samples_leaf=8, n_estimators=10 ...............\n",
      "[CV]  max_depth=10, min_samples_leaf=8, n_estimators=10, score=0.8445575567736884, total=   0.0s\n",
      "[CV] max_depth=10, min_samples_leaf=8, n_estimators=20 ...............\n",
      "[CV]  max_depth=10, min_samples_leaf=8, n_estimators=20, score=0.8449490994518403, total=   0.2s\n",
      "[CV] max_depth=10, min_samples_leaf=8, n_estimators=20 ...............\n",
      "[CV]  max_depth=10, min_samples_leaf=8, n_estimators=20, score=0.8433829287392326, total=   0.2s\n",
      "[CV] max_depth=10, min_samples_leaf=8, n_estimators=20 ...............\n",
      "[CV]  max_depth=10, min_samples_leaf=8, n_estimators=20, score=0.8445575567736884, total=   0.2s\n",
      "[CV] max_depth=10, min_samples_leaf=8, n_estimators=30 ...............\n"
     ]
    },
    {
     "name": "stdout",
     "output_type": "stream",
     "text": [
      "[CV]  max_depth=10, min_samples_leaf=8, n_estimators=30, score=0.8437744714173845, total=   0.3s\n",
      "[CV] max_depth=10, min_samples_leaf=8, n_estimators=30 ...............\n",
      "[CV]  max_depth=10, min_samples_leaf=8, n_estimators=30, score=0.8429913860610807, total=   0.3s\n",
      "[CV] max_depth=10, min_samples_leaf=8, n_estimators=30 ...............\n",
      "[CV]  max_depth=10, min_samples_leaf=8, n_estimators=30, score=0.8433829287392326, total=   0.3s\n",
      "[CV] max_depth=10, min_samples_leaf=8, n_estimators=40 ...............\n",
      "[CV]  max_depth=10, min_samples_leaf=8, n_estimators=40, score=0.8441660140955364, total=   0.4s\n",
      "[CV] max_depth=10, min_samples_leaf=8, n_estimators=40 ...............\n",
      "[CV]  max_depth=10, min_samples_leaf=8, n_estimators=40, score=0.8429913860610807, total=   0.4s\n",
      "[CV] max_depth=10, min_samples_leaf=8, n_estimators=40 ...............\n",
      "[CV]  max_depth=10, min_samples_leaf=8, n_estimators=40, score=0.8441660140955364, total=   0.4s\n",
      "[CV] max_depth=10, min_samples_leaf=8, n_estimators=50 ...............\n",
      "[CV]  max_depth=10, min_samples_leaf=8, n_estimators=50, score=0.8437744714173845, total=   0.5s\n",
      "[CV] max_depth=10, min_samples_leaf=8, n_estimators=50 ...............\n",
      "[CV]  max_depth=10, min_samples_leaf=8, n_estimators=50, score=0.8418167580266249, total=   0.5s\n",
      "[CV] max_depth=10, min_samples_leaf=8, n_estimators=50 ...............\n",
      "[CV]  max_depth=10, min_samples_leaf=8, n_estimators=50, score=0.8441660140955364, total=   0.6s\n",
      "[CV] max_depth=15, min_samples_leaf=3, n_estimators=10 ...............\n",
      "[CV]  max_depth=15, min_samples_leaf=3, n_estimators=10, score=0.8406421299921691, total=   0.1s\n",
      "[CV] max_depth=15, min_samples_leaf=3, n_estimators=10 ...............\n",
      "[CV]  max_depth=15, min_samples_leaf=3, n_estimators=10, score=0.8406421299921691, total=   0.1s\n",
      "[CV] max_depth=15, min_samples_leaf=3, n_estimators=10 ...............\n",
      "[CV]  max_depth=15, min_samples_leaf=3, n_estimators=10, score=0.8390759592795615, total=   0.1s\n",
      "[CV] max_depth=15, min_samples_leaf=3, n_estimators=20 ...............\n",
      "[CV]  max_depth=15, min_samples_leaf=3, n_estimators=20, score=0.8433829287392326, total=   0.2s\n",
      "[CV] max_depth=15, min_samples_leaf=3, n_estimators=20 ...............\n",
      "[CV]  max_depth=15, min_samples_leaf=3, n_estimators=20, score=0.8386844166014096, total=   0.2s\n",
      "[CV] max_depth=15, min_samples_leaf=3, n_estimators=20 ...............\n",
      "[CV]  max_depth=15, min_samples_leaf=3, n_estimators=20, score=0.8422083007047768, total=   0.2s\n",
      "[CV] max_depth=15, min_samples_leaf=3, n_estimators=30 ...............\n",
      "[CV]  max_depth=15, min_samples_leaf=3, n_estimators=30, score=0.8441660140955364, total=   0.4s\n",
      "[CV] max_depth=15, min_samples_leaf=3, n_estimators=30 ...............\n",
      "[CV]  max_depth=15, min_samples_leaf=3, n_estimators=30, score=0.8422083007047768, total=   0.3s\n",
      "[CV] max_depth=15, min_samples_leaf=3, n_estimators=30 ...............\n",
      "[CV]  max_depth=15, min_samples_leaf=3, n_estimators=30, score=0.8422083007047768, total=   0.4s\n",
      "[CV] max_depth=15, min_samples_leaf=3, n_estimators=40 ...............\n",
      "[CV]  max_depth=15, min_samples_leaf=3, n_estimators=40, score=0.8418167580266249, total=   0.5s\n",
      "[CV] max_depth=15, min_samples_leaf=3, n_estimators=40 ...............\n",
      "[CV]  max_depth=15, min_samples_leaf=3, n_estimators=40, score=0.8418167580266249, total=   0.6s\n",
      "[CV] max_depth=15, min_samples_leaf=3, n_estimators=40 ...............\n",
      "[CV]  max_depth=15, min_samples_leaf=3, n_estimators=40, score=0.8422083007047768, total=   0.6s\n",
      "[CV] max_depth=15, min_samples_leaf=3, n_estimators=50 ...............\n",
      "[CV]  max_depth=15, min_samples_leaf=3, n_estimators=50, score=0.8433829287392326, total=   0.7s\n",
      "[CV] max_depth=15, min_samples_leaf=3, n_estimators=50 ...............\n",
      "[CV]  max_depth=15, min_samples_leaf=3, n_estimators=50, score=0.8406421299921691, total=   0.7s\n",
      "[CV] max_depth=15, min_samples_leaf=3, n_estimators=50 ...............\n",
      "[CV]  max_depth=15, min_samples_leaf=3, n_estimators=50, score=0.8433829287392326, total=   0.6s\n",
      "[CV] max_depth=15, min_samples_leaf=5, n_estimators=10 ...............\n",
      "[CV]  max_depth=15, min_samples_leaf=5, n_estimators=10, score=0.8386844166014096, total=   0.1s\n",
      "[CV] max_depth=15, min_samples_leaf=5, n_estimators=10 ...............\n",
      "[CV]  max_depth=15, min_samples_leaf=5, n_estimators=10, score=0.8390759592795615, total=   0.1s\n",
      "[CV] max_depth=15, min_samples_leaf=5, n_estimators=10 ...............\n",
      "[CV]  max_depth=15, min_samples_leaf=5, n_estimators=10, score=0.8445575567736884, total=   0.1s\n",
      "[CV] max_depth=15, min_samples_leaf=5, n_estimators=20 ...............\n",
      "[CV]  max_depth=15, min_samples_leaf=5, n_estimators=20, score=0.8422083007047768, total=   0.2s\n",
      "[CV] max_depth=15, min_samples_leaf=5, n_estimators=20 ...............\n",
      "[CV]  max_depth=15, min_samples_leaf=5, n_estimators=20, score=0.8422083007047768, total=   0.2s\n",
      "[CV] max_depth=15, min_samples_leaf=5, n_estimators=20 ...............\n",
      "[CV]  max_depth=15, min_samples_leaf=5, n_estimators=20, score=0.8449490994518403, total=   0.2s\n",
      "[CV] max_depth=15, min_samples_leaf=5, n_estimators=30 ...............\n",
      "[CV]  max_depth=15, min_samples_leaf=5, n_estimators=30, score=0.841425215348473, total=   0.4s\n",
      "[CV] max_depth=15, min_samples_leaf=5, n_estimators=30 ...............\n",
      "[CV]  max_depth=15, min_samples_leaf=5, n_estimators=30, score=0.8425998433829287, total=   0.4s\n",
      "[CV] max_depth=15, min_samples_leaf=5, n_estimators=30 ...............\n",
      "[CV]  max_depth=15, min_samples_leaf=5, n_estimators=30, score=0.8441660140955364, total=   0.4s\n",
      "[CV] max_depth=15, min_samples_leaf=5, n_estimators=40 ...............\n",
      "[CV]  max_depth=15, min_samples_leaf=5, n_estimators=40, score=0.8429913860610807, total=   0.5s\n",
      "[CV] max_depth=15, min_samples_leaf=5, n_estimators=40 ...............\n",
      "[CV]  max_depth=15, min_samples_leaf=5, n_estimators=40, score=0.841033672670321, total=   0.4s\n",
      "[CV] max_depth=15, min_samples_leaf=5, n_estimators=40 ...............\n",
      "[CV]  max_depth=15, min_samples_leaf=5, n_estimators=40, score=0.8422083007047768, total=   0.5s\n",
      "[CV] max_depth=15, min_samples_leaf=5, n_estimators=50 ...............\n",
      "[CV]  max_depth=15, min_samples_leaf=5, n_estimators=50, score=0.8441660140955364, total=   0.7s\n",
      "[CV] max_depth=15, min_samples_leaf=5, n_estimators=50 ...............\n",
      "[CV]  max_depth=15, min_samples_leaf=5, n_estimators=50, score=0.8429913860610807, total=   0.7s\n",
      "[CV] max_depth=15, min_samples_leaf=5, n_estimators=50 ...............\n",
      "[CV]  max_depth=15, min_samples_leaf=5, n_estimators=50, score=0.8433829287392326, total=   0.7s\n",
      "[CV] max_depth=15, min_samples_leaf=7, n_estimators=10 ...............\n",
      "[CV]  max_depth=15, min_samples_leaf=7, n_estimators=10, score=0.8402505873140172, total=   0.0s\n",
      "[CV] max_depth=15, min_samples_leaf=7, n_estimators=10 ...............\n",
      "[CV]  max_depth=15, min_samples_leaf=7, n_estimators=10, score=0.8425998433829287, total=   0.1s\n",
      "[CV] max_depth=15, min_samples_leaf=7, n_estimators=10 ...............\n",
      "[CV]  max_depth=15, min_samples_leaf=7, n_estimators=10, score=0.8406421299921691, total=   0.1s\n",
      "[CV] max_depth=15, min_samples_leaf=7, n_estimators=20 ...............\n",
      "[CV]  max_depth=15, min_samples_leaf=7, n_estimators=20, score=0.8437744714173845, total=   0.2s\n",
      "[CV] max_depth=15, min_samples_leaf=7, n_estimators=20 ...............\n",
      "[CV]  max_depth=15, min_samples_leaf=7, n_estimators=20, score=0.8429913860610807, total=   0.2s\n",
      "[CV] max_depth=15, min_samples_leaf=7, n_estimators=20 ...............\n",
      "[CV]  max_depth=15, min_samples_leaf=7, n_estimators=20, score=0.8425998433829287, total=   0.2s\n",
      "[CV] max_depth=15, min_samples_leaf=7, n_estimators=30 ...............\n",
      "[CV]  max_depth=15, min_samples_leaf=7, n_estimators=30, score=0.8441660140955364, total=   0.4s\n",
      "[CV] max_depth=15, min_samples_leaf=7, n_estimators=30 ...............\n",
      "[CV]  max_depth=15, min_samples_leaf=7, n_estimators=30, score=0.8422083007047768, total=   0.5s\n",
      "[CV] max_depth=15, min_samples_leaf=7, n_estimators=30 ...............\n",
      "[CV]  max_depth=15, min_samples_leaf=7, n_estimators=30, score=0.8441660140955364, total=   0.4s\n",
      "[CV] max_depth=15, min_samples_leaf=7, n_estimators=40 ...............\n",
      "[CV]  max_depth=15, min_samples_leaf=7, n_estimators=40, score=0.8441660140955364, total=   0.6s\n",
      "[CV] max_depth=15, min_samples_leaf=7, n_estimators=40 ...............\n"
     ]
    },
    {
     "name": "stdout",
     "output_type": "stream",
     "text": [
      "[CV]  max_depth=15, min_samples_leaf=7, n_estimators=40, score=0.841033672670321, total=   0.6s\n",
      "[CV] max_depth=15, min_samples_leaf=7, n_estimators=40 ...............\n",
      "[CV]  max_depth=15, min_samples_leaf=7, n_estimators=40, score=0.8441660140955364, total=   0.6s\n",
      "[CV] max_depth=15, min_samples_leaf=7, n_estimators=50 ...............\n",
      "[CV]  max_depth=15, min_samples_leaf=7, n_estimators=50, score=0.8429913860610807, total=   0.8s\n",
      "[CV] max_depth=15, min_samples_leaf=7, n_estimators=50 ...............\n",
      "[CV]  max_depth=15, min_samples_leaf=7, n_estimators=50, score=0.8422083007047768, total=   0.7s\n",
      "[CV] max_depth=15, min_samples_leaf=7, n_estimators=50 ...............\n",
      "[CV]  max_depth=15, min_samples_leaf=7, n_estimators=50, score=0.8441660140955364, total=   0.6s\n",
      "[CV] max_depth=15, min_samples_leaf=8, n_estimators=10 ...............\n",
      "[CV]  max_depth=15, min_samples_leaf=8, n_estimators=10, score=0.841033672670321, total=   0.1s\n",
      "[CV] max_depth=15, min_samples_leaf=8, n_estimators=10 ...............\n",
      "[CV]  max_depth=15, min_samples_leaf=8, n_estimators=10, score=0.8441660140955364, total=   0.1s\n",
      "[CV] max_depth=15, min_samples_leaf=8, n_estimators=10 ...............\n",
      "[CV]  max_depth=15, min_samples_leaf=8, n_estimators=10, score=0.8453406421299922, total=   0.0s\n",
      "[CV] max_depth=15, min_samples_leaf=8, n_estimators=20 ...............\n",
      "[CV]  max_depth=15, min_samples_leaf=8, n_estimators=20, score=0.8429913860610807, total=   0.2s\n",
      "[CV] max_depth=15, min_samples_leaf=8, n_estimators=20 ...............\n",
      "[CV]  max_depth=15, min_samples_leaf=8, n_estimators=20, score=0.841425215348473, total=   0.2s\n",
      "[CV] max_depth=15, min_samples_leaf=8, n_estimators=20 ...............\n",
      "[CV]  max_depth=15, min_samples_leaf=8, n_estimators=20, score=0.8437744714173845, total=   0.2s\n",
      "[CV] max_depth=15, min_samples_leaf=8, n_estimators=30 ...............\n",
      "[CV]  max_depth=15, min_samples_leaf=8, n_estimators=30, score=0.8441660140955364, total=   0.4s\n",
      "[CV] max_depth=15, min_samples_leaf=8, n_estimators=30 ...............\n",
      "[CV]  max_depth=15, min_samples_leaf=8, n_estimators=30, score=0.8437744714173845, total=   0.3s\n",
      "[CV] max_depth=15, min_samples_leaf=8, n_estimators=30 ...............\n",
      "[CV]  max_depth=15, min_samples_leaf=8, n_estimators=30, score=0.8437744714173845, total=   0.3s\n",
      "[CV] max_depth=15, min_samples_leaf=8, n_estimators=40 ...............\n",
      "[CV]  max_depth=15, min_samples_leaf=8, n_estimators=40, score=0.8425998433829287, total=   0.4s\n",
      "[CV] max_depth=15, min_samples_leaf=8, n_estimators=40 ...............\n",
      "[CV]  max_depth=15, min_samples_leaf=8, n_estimators=40, score=0.8425998433829287, total=   0.3s\n",
      "[CV] max_depth=15, min_samples_leaf=8, n_estimators=40 ...............\n",
      "[CV]  max_depth=15, min_samples_leaf=8, n_estimators=40, score=0.8433829287392326, total=   0.5s\n",
      "[CV] max_depth=15, min_samples_leaf=8, n_estimators=50 ...............\n",
      "[CV]  max_depth=15, min_samples_leaf=8, n_estimators=50, score=0.8429913860610807, total=   0.7s\n",
      "[CV] max_depth=15, min_samples_leaf=8, n_estimators=50 ...............\n",
      "[CV]  max_depth=15, min_samples_leaf=8, n_estimators=50, score=0.8429913860610807, total=   0.7s\n",
      "[CV] max_depth=15, min_samples_leaf=8, n_estimators=50 ...............\n",
      "[CV]  max_depth=15, min_samples_leaf=8, n_estimators=50, score=0.8445575567736884, total=   0.7s\n",
      "[CV] max_depth=18, min_samples_leaf=3, n_estimators=10 ...............\n",
      "[CV]  max_depth=18, min_samples_leaf=3, n_estimators=10, score=0.8406421299921691, total=   0.1s\n",
      "[CV] max_depth=18, min_samples_leaf=3, n_estimators=10 ...............\n",
      "[CV]  max_depth=18, min_samples_leaf=3, n_estimators=10, score=0.8398590446358654, total=   0.1s\n",
      "[CV] max_depth=18, min_samples_leaf=3, n_estimators=10 ...............\n",
      "[CV]  max_depth=18, min_samples_leaf=3, n_estimators=10, score=0.8394675019577134, total=   0.0s\n",
      "[CV] max_depth=18, min_samples_leaf=3, n_estimators=20 ...............\n",
      "[CV]  max_depth=18, min_samples_leaf=3, n_estimators=20, score=0.841033672670321, total=   0.2s\n",
      "[CV] max_depth=18, min_samples_leaf=3, n_estimators=20 ...............\n",
      "[CV]  max_depth=18, min_samples_leaf=3, n_estimators=20, score=0.8406421299921691, total=   0.2s\n",
      "[CV] max_depth=18, min_samples_leaf=3, n_estimators=20 ...............\n",
      "[CV]  max_depth=18, min_samples_leaf=3, n_estimators=20, score=0.8429913860610807, total=   0.2s\n",
      "[CV] max_depth=18, min_samples_leaf=3, n_estimators=30 ...............\n",
      "[CV]  max_depth=18, min_samples_leaf=3, n_estimators=30, score=0.841033672670321, total=   0.4s\n",
      "[CV] max_depth=18, min_samples_leaf=3, n_estimators=30 ...............\n",
      "[CV]  max_depth=18, min_samples_leaf=3, n_estimators=30, score=0.8406421299921691, total=   0.3s\n",
      "[CV] max_depth=18, min_samples_leaf=3, n_estimators=30 ...............\n",
      "[CV]  max_depth=18, min_samples_leaf=3, n_estimators=30, score=0.8406421299921691, total=   0.5s\n",
      "[CV] max_depth=18, min_samples_leaf=3, n_estimators=40 ...............\n",
      "[CV]  max_depth=18, min_samples_leaf=3, n_estimators=40, score=0.8437744714173845, total=   0.6s\n",
      "[CV] max_depth=18, min_samples_leaf=3, n_estimators=40 ...............\n",
      "[CV]  max_depth=18, min_samples_leaf=3, n_estimators=40, score=0.841033672670321, total=   0.6s\n",
      "[CV] max_depth=18, min_samples_leaf=3, n_estimators=40 ...............\n",
      "[CV]  max_depth=18, min_samples_leaf=3, n_estimators=40, score=0.8441660140955364, total=   0.6s\n",
      "[CV] max_depth=18, min_samples_leaf=3, n_estimators=50 ...............\n",
      "[CV]  max_depth=18, min_samples_leaf=3, n_estimators=50, score=0.8429913860610807, total=   0.6s\n",
      "[CV] max_depth=18, min_samples_leaf=3, n_estimators=50 ...............\n",
      "[CV]  max_depth=18, min_samples_leaf=3, n_estimators=50, score=0.8394675019577134, total=   0.7s\n",
      "[CV] max_depth=18, min_samples_leaf=3, n_estimators=50 ...............\n",
      "[CV]  max_depth=18, min_samples_leaf=3, n_estimators=50, score=0.8433829287392326, total=   0.8s\n",
      "[CV] max_depth=18, min_samples_leaf=5, n_estimators=10 ...............\n",
      "[CV]  max_depth=18, min_samples_leaf=5, n_estimators=10, score=0.8418167580266249, total=   0.1s\n",
      "[CV] max_depth=18, min_samples_leaf=5, n_estimators=10 ...............\n",
      "[CV]  max_depth=18, min_samples_leaf=5, n_estimators=10, score=0.8406421299921691, total=   0.1s\n",
      "[CV] max_depth=18, min_samples_leaf=5, n_estimators=10 ...............\n",
      "[CV]  max_depth=18, min_samples_leaf=5, n_estimators=10, score=0.8390759592795615, total=   0.1s\n",
      "[CV] max_depth=18, min_samples_leaf=5, n_estimators=20 ...............\n",
      "[CV]  max_depth=18, min_samples_leaf=5, n_estimators=20, score=0.841033672670321, total=   0.3s\n",
      "[CV] max_depth=18, min_samples_leaf=5, n_estimators=20 ...............\n",
      "[CV]  max_depth=18, min_samples_leaf=5, n_estimators=20, score=0.8422083007047768, total=   0.2s\n",
      "[CV] max_depth=18, min_samples_leaf=5, n_estimators=20 ...............\n",
      "[CV]  max_depth=18, min_samples_leaf=5, n_estimators=20, score=0.8441660140955364, total=   0.3s\n",
      "[CV] max_depth=18, min_samples_leaf=5, n_estimators=30 ...............\n",
      "[CV]  max_depth=18, min_samples_leaf=5, n_estimators=30, score=0.841425215348473, total=   0.4s\n",
      "[CV] max_depth=18, min_samples_leaf=5, n_estimators=30 ...............\n",
      "[CV]  max_depth=18, min_samples_leaf=5, n_estimators=30, score=0.841033672670321, total=   0.3s\n",
      "[CV] max_depth=18, min_samples_leaf=5, n_estimators=30 ...............\n",
      "[CV]  max_depth=18, min_samples_leaf=5, n_estimators=30, score=0.8433829287392326, total=   0.4s\n",
      "[CV] max_depth=18, min_samples_leaf=5, n_estimators=40 ...............\n",
      "[CV]  max_depth=18, min_samples_leaf=5, n_estimators=40, score=0.8441660140955364, total=   0.6s\n",
      "[CV] max_depth=18, min_samples_leaf=5, n_estimators=40 ...............\n",
      "[CV]  max_depth=18, min_samples_leaf=5, n_estimators=40, score=0.841425215348473, total=   0.5s\n",
      "[CV] max_depth=18, min_samples_leaf=5, n_estimators=40 ...............\n",
      "[CV]  max_depth=18, min_samples_leaf=5, n_estimators=40, score=0.8441660140955364, total=   0.6s\n",
      "[CV] max_depth=18, min_samples_leaf=5, n_estimators=50 ...............\n",
      "[CV]  max_depth=18, min_samples_leaf=5, n_estimators=50, score=0.8441660140955364, total=   0.7s\n",
      "[CV] max_depth=18, min_samples_leaf=5, n_estimators=50 ...............\n",
      "[CV]  max_depth=18, min_samples_leaf=5, n_estimators=50, score=0.8425998433829287, total=   0.8s\n",
      "[CV] max_depth=18, min_samples_leaf=5, n_estimators=50 ...............\n"
     ]
    },
    {
     "name": "stdout",
     "output_type": "stream",
     "text": [
      "[CV]  max_depth=18, min_samples_leaf=5, n_estimators=50, score=0.8449490994518403, total=   0.9s\n",
      "[CV] max_depth=18, min_samples_leaf=7, n_estimators=10 ...............\n",
      "[CV]  max_depth=18, min_samples_leaf=7, n_estimators=10, score=0.8433829287392326, total=   0.1s\n",
      "[CV] max_depth=18, min_samples_leaf=7, n_estimators=10 ...............\n",
      "[CV]  max_depth=18, min_samples_leaf=7, n_estimators=10, score=0.8406421299921691, total=   0.1s\n",
      "[CV] max_depth=18, min_samples_leaf=7, n_estimators=10 ...............\n",
      "[CV]  max_depth=18, min_samples_leaf=7, n_estimators=10, score=0.841425215348473, total=   0.1s\n",
      "[CV] max_depth=18, min_samples_leaf=7, n_estimators=20 ...............\n",
      "[CV]  max_depth=18, min_samples_leaf=7, n_estimators=20, score=0.8418167580266249, total=   0.6s\n",
      "[CV] max_depth=18, min_samples_leaf=7, n_estimators=20 ...............\n",
      "[CV]  max_depth=18, min_samples_leaf=7, n_estimators=20, score=0.8386844166014096, total=   0.3s\n",
      "[CV] max_depth=18, min_samples_leaf=7, n_estimators=20 ...............\n",
      "[CV]  max_depth=18, min_samples_leaf=7, n_estimators=20, score=0.8441660140955364, total=   0.3s\n",
      "[CV] max_depth=18, min_samples_leaf=7, n_estimators=30 ...............\n",
      "[CV]  max_depth=18, min_samples_leaf=7, n_estimators=30, score=0.8437744714173845, total=   0.4s\n",
      "[CV] max_depth=18, min_samples_leaf=7, n_estimators=30 ...............\n",
      "[CV]  max_depth=18, min_samples_leaf=7, n_estimators=30, score=0.8422083007047768, total=   0.4s\n",
      "[CV] max_depth=18, min_samples_leaf=7, n_estimators=30 ...............\n",
      "[CV]  max_depth=18, min_samples_leaf=7, n_estimators=30, score=0.8441660140955364, total=   0.4s\n",
      "[CV] max_depth=18, min_samples_leaf=7, n_estimators=40 ...............\n",
      "[CV]  max_depth=18, min_samples_leaf=7, n_estimators=40, score=0.8433829287392326, total=   0.5s\n",
      "[CV] max_depth=18, min_samples_leaf=7, n_estimators=40 ...............\n",
      "[CV]  max_depth=18, min_samples_leaf=7, n_estimators=40, score=0.8398590446358654, total=   0.5s\n",
      "[CV] max_depth=18, min_samples_leaf=7, n_estimators=40 ...............\n",
      "[CV]  max_depth=18, min_samples_leaf=7, n_estimators=40, score=0.8453406421299922, total=   0.5s\n",
      "[CV] max_depth=18, min_samples_leaf=7, n_estimators=50 ...............\n",
      "[CV]  max_depth=18, min_samples_leaf=7, n_estimators=50, score=0.8441660140955364, total=   0.7s\n",
      "[CV] max_depth=18, min_samples_leaf=7, n_estimators=50 ...............\n",
      "[CV]  max_depth=18, min_samples_leaf=7, n_estimators=50, score=0.8437744714173845, total=   0.8s\n",
      "[CV] max_depth=18, min_samples_leaf=7, n_estimators=50 ...............\n",
      "[CV]  max_depth=18, min_samples_leaf=7, n_estimators=50, score=0.8441660140955364, total=   0.7s\n",
      "[CV] max_depth=18, min_samples_leaf=8, n_estimators=10 ...............\n",
      "[CV]  max_depth=18, min_samples_leaf=8, n_estimators=10, score=0.841425215348473, total=   0.1s\n",
      "[CV] max_depth=18, min_samples_leaf=8, n_estimators=10 ...............\n",
      "[CV]  max_depth=18, min_samples_leaf=8, n_estimators=10, score=0.841425215348473, total=   0.0s\n",
      "[CV] max_depth=18, min_samples_leaf=8, n_estimators=10 ...............\n",
      "[CV]  max_depth=18, min_samples_leaf=8, n_estimators=10, score=0.8418167580266249, total=   0.0s\n",
      "[CV] max_depth=18, min_samples_leaf=8, n_estimators=20 ...............\n",
      "[CV]  max_depth=18, min_samples_leaf=8, n_estimators=20, score=0.8433829287392326, total=   0.3s\n",
      "[CV] max_depth=18, min_samples_leaf=8, n_estimators=20 ...............\n",
      "[CV]  max_depth=18, min_samples_leaf=8, n_estimators=20, score=0.8402505873140172, total=   0.2s\n",
      "[CV] max_depth=18, min_samples_leaf=8, n_estimators=20 ...............\n",
      "[CV]  max_depth=18, min_samples_leaf=8, n_estimators=20, score=0.8441660140955364, total=   0.2s\n",
      "[CV] max_depth=18, min_samples_leaf=8, n_estimators=30 ...............\n",
      "[CV]  max_depth=18, min_samples_leaf=8, n_estimators=30, score=0.8418167580266249, total=   0.4s\n",
      "[CV] max_depth=18, min_samples_leaf=8, n_estimators=30 ...............\n",
      "[CV]  max_depth=18, min_samples_leaf=8, n_estimators=30, score=0.8394675019577134, total=   0.3s\n",
      "[CV] max_depth=18, min_samples_leaf=8, n_estimators=30 ...............\n",
      "[CV]  max_depth=18, min_samples_leaf=8, n_estimators=30, score=0.8437744714173845, total=   0.4s\n",
      "[CV] max_depth=18, min_samples_leaf=8, n_estimators=40 ...............\n",
      "[CV]  max_depth=18, min_samples_leaf=8, n_estimators=40, score=0.8429913860610807, total=   0.5s\n",
      "[CV] max_depth=18, min_samples_leaf=8, n_estimators=40 ...............\n",
      "[CV]  max_depth=18, min_samples_leaf=8, n_estimators=40, score=0.841425215348473, total=   0.5s\n",
      "[CV] max_depth=18, min_samples_leaf=8, n_estimators=40 ...............\n",
      "[CV]  max_depth=18, min_samples_leaf=8, n_estimators=40, score=0.8433829287392326, total=   0.5s\n",
      "[CV] max_depth=18, min_samples_leaf=8, n_estimators=50 ...............\n",
      "[CV]  max_depth=18, min_samples_leaf=8, n_estimators=50, score=0.8441660140955364, total=   0.6s\n",
      "[CV] max_depth=18, min_samples_leaf=8, n_estimators=50 ...............\n",
      "[CV]  max_depth=18, min_samples_leaf=8, n_estimators=50, score=0.8418167580266249, total=   0.7s\n",
      "[CV] max_depth=18, min_samples_leaf=8, n_estimators=50 ...............\n",
      "[CV]  max_depth=18, min_samples_leaf=8, n_estimators=50, score=0.8441660140955364, total=   0.7s\n",
      "[CV] max_depth=20, min_samples_leaf=3, n_estimators=10 ...............\n",
      "[CV]  max_depth=20, min_samples_leaf=3, n_estimators=10, score=0.8379013312451057, total=   0.1s\n",
      "[CV] max_depth=20, min_samples_leaf=3, n_estimators=10 ...............\n",
      "[CV]  max_depth=20, min_samples_leaf=3, n_estimators=10, score=0.841033672670321, total=   0.1s\n",
      "[CV] max_depth=20, min_samples_leaf=3, n_estimators=10 ...............\n",
      "[CV]  max_depth=20, min_samples_leaf=3, n_estimators=10, score=0.8379013312451057, total=   0.1s\n",
      "[CV] max_depth=20, min_samples_leaf=3, n_estimators=20 ...............\n",
      "[CV]  max_depth=20, min_samples_leaf=3, n_estimators=20, score=0.841425215348473, total=   0.3s\n",
      "[CV] max_depth=20, min_samples_leaf=3, n_estimators=20 ...............\n",
      "[CV]  max_depth=20, min_samples_leaf=3, n_estimators=20, score=0.841033672670321, total=   0.2s\n",
      "[CV] max_depth=20, min_samples_leaf=3, n_estimators=20 ...............\n",
      "[CV]  max_depth=20, min_samples_leaf=3, n_estimators=20, score=0.8418167580266249, total=   0.3s\n",
      "[CV] max_depth=20, min_samples_leaf=3, n_estimators=30 ...............\n",
      "[CV]  max_depth=20, min_samples_leaf=3, n_estimators=30, score=0.8441660140955364, total=   0.4s\n",
      "[CV] max_depth=20, min_samples_leaf=3, n_estimators=30 ...............\n",
      "[CV]  max_depth=20, min_samples_leaf=3, n_estimators=30, score=0.841425215348473, total=   0.4s\n",
      "[CV] max_depth=20, min_samples_leaf=3, n_estimators=30 ...............\n",
      "[CV]  max_depth=20, min_samples_leaf=3, n_estimators=30, score=0.8433829287392326, total=   0.4s\n",
      "[CV] max_depth=20, min_samples_leaf=3, n_estimators=40 ...............\n",
      "[CV]  max_depth=20, min_samples_leaf=3, n_estimators=40, score=0.841425215348473, total=   0.6s\n",
      "[CV] max_depth=20, min_samples_leaf=3, n_estimators=40 ...............\n",
      "[CV]  max_depth=20, min_samples_leaf=3, n_estimators=40, score=0.8433829287392326, total=   0.6s\n",
      "[CV] max_depth=20, min_samples_leaf=3, n_estimators=40 ...............\n",
      "[CV]  max_depth=20, min_samples_leaf=3, n_estimators=40, score=0.8429913860610807, total=   0.6s\n",
      "[CV] max_depth=20, min_samples_leaf=3, n_estimators=50 ...............\n",
      "[CV]  max_depth=20, min_samples_leaf=3, n_estimators=50, score=0.8429913860610807, total=   0.8s\n",
      "[CV] max_depth=20, min_samples_leaf=3, n_estimators=50 ...............\n",
      "[CV]  max_depth=20, min_samples_leaf=3, n_estimators=50, score=0.8402505873140172, total=   0.7s\n",
      "[CV] max_depth=20, min_samples_leaf=3, n_estimators=50 ...............\n",
      "[CV]  max_depth=20, min_samples_leaf=3, n_estimators=50, score=0.8425998433829287, total=   0.8s\n",
      "[CV] max_depth=20, min_samples_leaf=5, n_estimators=10 ...............\n",
      "[CV]  max_depth=20, min_samples_leaf=5, n_estimators=10, score=0.8418167580266249, total=   0.1s\n",
      "[CV] max_depth=20, min_samples_leaf=5, n_estimators=10 ...............\n",
      "[CV]  max_depth=20, min_samples_leaf=5, n_estimators=10, score=0.8422083007047768, total=   0.1s\n",
      "[CV] max_depth=20, min_samples_leaf=5, n_estimators=10 ...............\n",
      "[CV]  max_depth=20, min_samples_leaf=5, n_estimators=10, score=0.8453406421299922, total=   0.1s\n",
      "[CV] max_depth=20, min_samples_leaf=5, n_estimators=20 ...............\n"
     ]
    },
    {
     "name": "stdout",
     "output_type": "stream",
     "text": [
      "[CV]  max_depth=20, min_samples_leaf=5, n_estimators=20, score=0.8402505873140172, total=   0.2s\n",
      "[CV] max_depth=20, min_samples_leaf=5, n_estimators=20 ...............\n",
      "[CV]  max_depth=20, min_samples_leaf=5, n_estimators=20, score=0.841425215348473, total=   0.1s\n",
      "[CV] max_depth=20, min_samples_leaf=5, n_estimators=20 ...............\n",
      "[CV]  max_depth=20, min_samples_leaf=5, n_estimators=20, score=0.8433829287392326, total=   0.2s\n",
      "[CV] max_depth=20, min_samples_leaf=5, n_estimators=30 ...............\n",
      "[CV]  max_depth=20, min_samples_leaf=5, n_estimators=30, score=0.8433829287392326, total=   0.4s\n",
      "[CV] max_depth=20, min_samples_leaf=5, n_estimators=30 ...............\n",
      "[CV]  max_depth=20, min_samples_leaf=5, n_estimators=30, score=0.8429913860610807, total=   0.4s\n",
      "[CV] max_depth=20, min_samples_leaf=5, n_estimators=30 ...............\n",
      "[CV]  max_depth=20, min_samples_leaf=5, n_estimators=30, score=0.8429913860610807, total=   0.4s\n",
      "[CV] max_depth=20, min_samples_leaf=5, n_estimators=40 ...............\n",
      "[CV]  max_depth=20, min_samples_leaf=5, n_estimators=40, score=0.8418167580266249, total=   0.6s\n",
      "[CV] max_depth=20, min_samples_leaf=5, n_estimators=40 ...............\n",
      "[CV]  max_depth=20, min_samples_leaf=5, n_estimators=40, score=0.8418167580266249, total=   0.5s\n",
      "[CV] max_depth=20, min_samples_leaf=5, n_estimators=40 ...............\n",
      "[CV]  max_depth=20, min_samples_leaf=5, n_estimators=40, score=0.8437744714173845, total=   0.5s\n",
      "[CV] max_depth=20, min_samples_leaf=5, n_estimators=50 ...............\n",
      "[CV]  max_depth=20, min_samples_leaf=5, n_estimators=50, score=0.8453406421299922, total=   0.6s\n",
      "[CV] max_depth=20, min_samples_leaf=5, n_estimators=50 ...............\n",
      "[CV]  max_depth=20, min_samples_leaf=5, n_estimators=50, score=0.8433829287392326, total=   0.7s\n",
      "[CV] max_depth=20, min_samples_leaf=5, n_estimators=50 ...............\n",
      "[CV]  max_depth=20, min_samples_leaf=5, n_estimators=50, score=0.8425998433829287, total=   0.8s\n",
      "[CV] max_depth=20, min_samples_leaf=7, n_estimators=10 ...............\n",
      "[CV]  max_depth=20, min_samples_leaf=7, n_estimators=10, score=0.8429913860610807, total=   0.1s\n",
      "[CV] max_depth=20, min_samples_leaf=7, n_estimators=10 ...............\n",
      "[CV]  max_depth=20, min_samples_leaf=7, n_estimators=10, score=0.841033672670321, total=   0.1s\n",
      "[CV] max_depth=20, min_samples_leaf=7, n_estimators=10 ...............\n",
      "[CV]  max_depth=20, min_samples_leaf=7, n_estimators=10, score=0.841425215348473, total=   0.1s\n",
      "[CV] max_depth=20, min_samples_leaf=7, n_estimators=20 ...............\n",
      "[CV]  max_depth=20, min_samples_leaf=7, n_estimators=20, score=0.8429913860610807, total=   0.2s\n",
      "[CV] max_depth=20, min_samples_leaf=7, n_estimators=20 ...............\n",
      "[CV]  max_depth=20, min_samples_leaf=7, n_estimators=20, score=0.841425215348473, total=   0.2s\n",
      "[CV] max_depth=20, min_samples_leaf=7, n_estimators=20 ...............\n",
      "[CV]  max_depth=20, min_samples_leaf=7, n_estimators=20, score=0.8429913860610807, total=   0.2s\n",
      "[CV] max_depth=20, min_samples_leaf=7, n_estimators=30 ...............\n",
      "[CV]  max_depth=20, min_samples_leaf=7, n_estimators=30, score=0.8429913860610807, total=   0.3s\n",
      "[CV] max_depth=20, min_samples_leaf=7, n_estimators=30 ...............\n",
      "[CV]  max_depth=20, min_samples_leaf=7, n_estimators=30, score=0.8425998433829287, total=   0.4s\n",
      "[CV] max_depth=20, min_samples_leaf=7, n_estimators=30 ...............\n",
      "[CV]  max_depth=20, min_samples_leaf=7, n_estimators=30, score=0.8437744714173845, total=   0.4s\n",
      "[CV] max_depth=20, min_samples_leaf=7, n_estimators=40 ...............\n",
      "[CV]  max_depth=20, min_samples_leaf=7, n_estimators=40, score=0.8441660140955364, total=   0.6s\n",
      "[CV] max_depth=20, min_samples_leaf=7, n_estimators=40 ...............\n",
      "[CV]  max_depth=20, min_samples_leaf=7, n_estimators=40, score=0.8422083007047768, total=   0.5s\n",
      "[CV] max_depth=20, min_samples_leaf=7, n_estimators=40 ...............\n",
      "[CV]  max_depth=20, min_samples_leaf=7, n_estimators=40, score=0.8437744714173845, total=   0.6s\n",
      "[CV] max_depth=20, min_samples_leaf=7, n_estimators=50 ...............\n",
      "[CV]  max_depth=20, min_samples_leaf=7, n_estimators=50, score=0.8418167580266249, total=   0.7s\n",
      "[CV] max_depth=20, min_samples_leaf=7, n_estimators=50 ...............\n",
      "[CV]  max_depth=20, min_samples_leaf=7, n_estimators=50, score=0.8429913860610807, total=   0.8s\n",
      "[CV] max_depth=20, min_samples_leaf=7, n_estimators=50 ...............\n",
      "[CV]  max_depth=20, min_samples_leaf=7, n_estimators=50, score=0.8425998433829287, total=   0.8s\n",
      "[CV] max_depth=20, min_samples_leaf=8, n_estimators=10 ...............\n",
      "[CV]  max_depth=20, min_samples_leaf=8, n_estimators=10, score=0.8433829287392326, total=   0.1s\n",
      "[CV] max_depth=20, min_samples_leaf=8, n_estimators=10 ...............\n",
      "[CV]  max_depth=20, min_samples_leaf=8, n_estimators=10, score=0.8398590446358654, total=   0.1s\n",
      "[CV] max_depth=20, min_samples_leaf=8, n_estimators=10 ...............\n",
      "[CV]  max_depth=20, min_samples_leaf=8, n_estimators=10, score=0.8422083007047768, total=   0.1s\n",
      "[CV] max_depth=20, min_samples_leaf=8, n_estimators=20 ...............\n",
      "[CV]  max_depth=20, min_samples_leaf=8, n_estimators=20, score=0.8445575567736884, total=   0.2s\n",
      "[CV] max_depth=20, min_samples_leaf=8, n_estimators=20 ...............\n",
      "[CV]  max_depth=20, min_samples_leaf=8, n_estimators=20, score=0.8425998433829287, total=   0.2s\n",
      "[CV] max_depth=20, min_samples_leaf=8, n_estimators=20 ...............\n",
      "[CV]  max_depth=20, min_samples_leaf=8, n_estimators=20, score=0.8425998433829287, total=   0.2s\n",
      "[CV] max_depth=20, min_samples_leaf=8, n_estimators=30 ...............\n",
      "[CV]  max_depth=20, min_samples_leaf=8, n_estimators=30, score=0.8437744714173845, total=   0.4s\n",
      "[CV] max_depth=20, min_samples_leaf=8, n_estimators=30 ...............\n",
      "[CV]  max_depth=20, min_samples_leaf=8, n_estimators=30, score=0.8445575567736884, total=   0.4s\n",
      "[CV] max_depth=20, min_samples_leaf=8, n_estimators=30 ...............\n",
      "[CV]  max_depth=20, min_samples_leaf=8, n_estimators=30, score=0.8449490994518403, total=   0.4s\n",
      "[CV] max_depth=20, min_samples_leaf=8, n_estimators=40 ...............\n",
      "[CV]  max_depth=20, min_samples_leaf=8, n_estimators=40, score=0.8449490994518403, total=   0.4s\n",
      "[CV] max_depth=20, min_samples_leaf=8, n_estimators=40 ...............\n",
      "[CV]  max_depth=20, min_samples_leaf=8, n_estimators=40, score=0.8441660140955364, total=   0.6s\n",
      "[CV] max_depth=20, min_samples_leaf=8, n_estimators=40 ...............\n",
      "[CV]  max_depth=20, min_samples_leaf=8, n_estimators=40, score=0.8449490994518403, total=   0.5s\n",
      "[CV] max_depth=20, min_samples_leaf=8, n_estimators=50 ...............\n",
      "[CV]  max_depth=20, min_samples_leaf=8, n_estimators=50, score=0.8437744714173845, total=   0.7s\n",
      "[CV] max_depth=20, min_samples_leaf=8, n_estimators=50 ...............\n",
      "[CV]  max_depth=20, min_samples_leaf=8, n_estimators=50, score=0.8429913860610807, total=   0.7s\n",
      "[CV] max_depth=20, min_samples_leaf=8, n_estimators=50 ...............\n",
      "[CV]  max_depth=20, min_samples_leaf=8, n_estimators=50, score=0.8441660140955364, total=   0.7s\n"
     ]
    },
    {
     "name": "stderr",
     "output_type": "stream",
     "text": [
      "[Parallel(n_jobs=1)]: Done 240 out of 240 | elapsed:  2.0min finished\n"
     ]
    },
    {
     "data": {
      "text/plain": [
       "GridSearchCV(cv=None, error_score='raise',\n",
       "       estimator=RandomForestClassifier(bootstrap=True, class_weight=None, criterion='gini',\n",
       "            max_depth=None, max_features='auto', max_leaf_nodes=None,\n",
       "            min_impurity_decrease=0.0, min_impurity_split=None,\n",
       "            min_samples_leaf=1, min_samples_split=2,\n",
       "            min_weight_fraction_leaf=0.0, n_estimators=10, n_jobs=1,\n",
       "            oob_score=False, random_state=None, verbose=0,\n",
       "            warm_start=False),\n",
       "       fit_params=None, iid=True, n_jobs=1,\n",
       "       param_grid={'n_estimators': [10, 20, 30, 40, 50], 'max_depth': [10, 15, 18, 20], 'min_samples_leaf': [3, 5, 7, 8]},\n",
       "       pre_dispatch='2*n_jobs', refit=True, return_train_score='warn',\n",
       "       scoring=None, verbose=3)"
      ]
     },
     "execution_count": 138,
     "metadata": {},
     "output_type": "execute_result"
    }
   ],
   "source": [
    "gs.fit(x_train,y_train)"
   ]
  },
  {
   "cell_type": "code",
   "execution_count": 139,
   "metadata": {},
   "outputs": [
    {
     "data": {
      "text/plain": [
       "{'max_depth': 20, 'min_samples_leaf': 8, 'n_estimators': 40}"
      ]
     },
     "execution_count": 139,
     "metadata": {},
     "output_type": "execute_result"
    }
   ],
   "source": [
    "gs.best_params_"
   ]
  },
  {
   "cell_type": "code",
   "execution_count": 140,
   "metadata": {},
   "outputs": [
    {
     "data": {
      "text/plain": [
       "RandomForestClassifier(bootstrap=True, class_weight=None, criterion='gini',\n",
       "            max_depth=20, max_features='auto', max_leaf_nodes=None,\n",
       "            min_impurity_decrease=0.0, min_impurity_split=None,\n",
       "            min_samples_leaf=8, min_samples_split=2,\n",
       "            min_weight_fraction_leaf=0.0, n_estimators=40, n_jobs=1,\n",
       "            oob_score=False, random_state=None, verbose=0,\n",
       "            warm_start=False)"
      ]
     },
     "execution_count": 140,
     "metadata": {},
     "output_type": "execute_result"
    }
   ],
   "source": [
    "gs.best_estimator_"
   ]
  },
  {
   "cell_type": "code",
   "execution_count": 141,
   "metadata": {},
   "outputs": [],
   "source": [
    "rf1=RandomForestClassifier(bootstrap=True, class_weight=None, criterion='gini',\n",
    "            max_depth=20, max_features='auto', max_leaf_nodes=None,\n",
    "            min_impurity_decrease=0.0, min_impurity_split=None,\n",
    "            min_samples_leaf=8, min_samples_split=2,\n",
    "            min_weight_fraction_leaf=0.0, n_estimators=40, n_jobs=None,\n",
    "            oob_score=True, random_state=101, verbose=0,\n",
    "            warm_start=False)"
   ]
  },
  {
   "cell_type": "code",
   "execution_count": 149,
   "metadata": {},
   "outputs": [],
   "source": [
    "rf1=RandomForestClassifier(bootstrap=True, class_weight=None, criterion='gini',\n",
    "            max_depth=20, max_features='auto', max_leaf_nodes=None,\n",
    "            min_impurity_decrease=0.0, min_impurity_split=None,\n",
    "            min_samples_leaf=8, min_samples_split=2,\n",
    "            min_weight_fraction_leaf=0.0, n_estimators=40, n_jobs=-1,\n",
    "            oob_score=True, random_state=101, verbose=0,\n",
    "            warm_start=False)"
   ]
  },
  {
   "cell_type": "code",
   "execution_count": 143,
   "metadata": {},
   "outputs": [
    {
     "data": {
      "text/plain": [
       "RandomForestClassifier(bootstrap=True, class_weight=None, criterion='gini',\n",
       "            max_depth=20, max_features='auto', max_leaf_nodes=None,\n",
       "            min_impurity_decrease=0.0, min_impurity_split=None,\n",
       "            min_samples_leaf=8, min_samples_split=2,\n",
       "            min_weight_fraction_leaf=0.0, n_estimators=40, n_jobs=None,\n",
       "            oob_score=True, random_state=101, verbose=0, warm_start=False)"
      ]
     },
     "execution_count": 143,
     "metadata": {},
     "output_type": "execute_result"
    }
   ],
   "source": [
    "rf1.fit(x_train,y_train)"
   ]
  },
  {
   "cell_type": "code",
   "execution_count": 150,
   "metadata": {},
   "outputs": [
    {
     "data": {
      "text/plain": [
       "RandomForestClassifier(bootstrap=True, class_weight=None, criterion='gini',\n",
       "            max_depth=20, max_features='auto', max_leaf_nodes=None,\n",
       "            min_impurity_decrease=0.0, min_impurity_split=None,\n",
       "            min_samples_leaf=8, min_samples_split=2,\n",
       "            min_weight_fraction_leaf=0.0, n_estimators=40, n_jobs=-1,\n",
       "            oob_score=True, random_state=101, verbose=0, warm_start=False)"
      ]
     },
     "execution_count": 150,
     "metadata": {},
     "output_type": "execute_result"
    }
   ],
   "source": [
    "rf1.fit(x_train,y_train)"
   ]
  },
  {
   "cell_type": "code",
   "execution_count": 144,
   "metadata": {},
   "outputs": [
    {
     "data": {
      "text/plain": [
       "0.8442965283215871"
      ]
     },
     "execution_count": 144,
     "metadata": {},
     "output_type": "execute_result"
    }
   ],
   "source": [
    "rf1.oob_score_"
   ]
  },
  {
   "cell_type": "code",
   "execution_count": 151,
   "metadata": {},
   "outputs": [
    {
     "data": {
      "text/plain": [
       "0.8442965283215871"
      ]
     },
     "execution_count": 151,
     "metadata": {},
     "output_type": "execute_result"
    }
   ],
   "source": [
    "rf1.oob_score_"
   ]
  },
  {
   "cell_type": "code",
   "execution_count": 152,
   "metadata": {},
   "outputs": [],
   "source": [
    "pred_rf1 = rf1.predict(x_test)"
   ]
  },
  {
   "cell_type": "code",
   "execution_count": 148,
   "metadata": {},
   "outputs": [
    {
     "ename": "TypeError",
     "evalue": "'<' not supported between instances of 'NoneType' and 'int'",
     "output_type": "error",
     "traceback": [
      "\u001b[1;31m---------------------------------------------------------------------------\u001b[0m",
      "\u001b[1;31mTypeError\u001b[0m                                 Traceback (most recent call last)",
      "\u001b[1;32m<ipython-input-148-f848bf21ffb5>\u001b[0m in \u001b[0;36m<module>\u001b[1;34m()\u001b[0m\n\u001b[1;32m----> 1\u001b[1;33m \u001b[0mpred_rf1\u001b[0m \u001b[1;33m=\u001b[0m \u001b[0mrf1\u001b[0m\u001b[1;33m.\u001b[0m\u001b[0mpredict\u001b[0m\u001b[1;33m(\u001b[0m\u001b[0mx_test\u001b[0m\u001b[1;33m)\u001b[0m\u001b[1;33m\u001b[0m\u001b[0m\n\u001b[0m",
      "\u001b[1;32m~\\AppData\\Local\\Continuum\\anaconda3\\lib\\site-packages\\sklearn\\ensemble\\forest.py\u001b[0m in \u001b[0;36mpredict\u001b[1;34m(self, X)\u001b[0m\n\u001b[0;32m    536\u001b[0m             \u001b[0mThe\u001b[0m \u001b[0mpredicted\u001b[0m \u001b[0mclasses\u001b[0m\u001b[1;33m.\u001b[0m\u001b[1;33m\u001b[0m\u001b[0m\n\u001b[0;32m    537\u001b[0m         \"\"\"\n\u001b[1;32m--> 538\u001b[1;33m         \u001b[0mproba\u001b[0m \u001b[1;33m=\u001b[0m \u001b[0mself\u001b[0m\u001b[1;33m.\u001b[0m\u001b[0mpredict_proba\u001b[0m\u001b[1;33m(\u001b[0m\u001b[0mX\u001b[0m\u001b[1;33m)\u001b[0m\u001b[1;33m\u001b[0m\u001b[0m\n\u001b[0m\u001b[0;32m    539\u001b[0m \u001b[1;33m\u001b[0m\u001b[0m\n\u001b[0;32m    540\u001b[0m         \u001b[1;32mif\u001b[0m \u001b[0mself\u001b[0m\u001b[1;33m.\u001b[0m\u001b[0mn_outputs_\u001b[0m \u001b[1;33m==\u001b[0m \u001b[1;36m1\u001b[0m\u001b[1;33m:\u001b[0m\u001b[1;33m\u001b[0m\u001b[0m\n",
      "\u001b[1;32m~\\AppData\\Local\\Continuum\\anaconda3\\lib\\site-packages\\sklearn\\ensemble\\forest.py\u001b[0m in \u001b[0;36mpredict_proba\u001b[1;34m(self, X)\u001b[0m\n\u001b[0;32m    579\u001b[0m \u001b[1;33m\u001b[0m\u001b[0m\n\u001b[0;32m    580\u001b[0m         \u001b[1;31m# Assign chunk of trees to jobs\u001b[0m\u001b[1;33m\u001b[0m\u001b[1;33m\u001b[0m\u001b[0m\n\u001b[1;32m--> 581\u001b[1;33m         \u001b[0mn_jobs\u001b[0m\u001b[1;33m,\u001b[0m \u001b[0m_\u001b[0m\u001b[1;33m,\u001b[0m \u001b[0m_\u001b[0m \u001b[1;33m=\u001b[0m \u001b[0m_partition_estimators\u001b[0m\u001b[1;33m(\u001b[0m\u001b[0mself\u001b[0m\u001b[1;33m.\u001b[0m\u001b[0mn_estimators\u001b[0m\u001b[1;33m,\u001b[0m \u001b[0mself\u001b[0m\u001b[1;33m.\u001b[0m\u001b[0mn_jobs\u001b[0m\u001b[1;33m)\u001b[0m\u001b[1;33m\u001b[0m\u001b[0m\n\u001b[0m\u001b[0;32m    582\u001b[0m \u001b[1;33m\u001b[0m\u001b[0m\n\u001b[0;32m    583\u001b[0m         \u001b[1;31m# avoid storing the output of every estimator by summing them here\u001b[0m\u001b[1;33m\u001b[0m\u001b[1;33m\u001b[0m\u001b[0m\n",
      "\u001b[1;32m~\\AppData\\Local\\Continuum\\anaconda3\\lib\\site-packages\\sklearn\\ensemble\\base.py\u001b[0m in \u001b[0;36m_partition_estimators\u001b[1;34m(n_estimators, n_jobs)\u001b[0m\n\u001b[0;32m    151\u001b[0m     \u001b[1;34m\"\"\"Private function used to partition estimators between jobs.\"\"\"\u001b[0m\u001b[1;33m\u001b[0m\u001b[0m\n\u001b[0;32m    152\u001b[0m     \u001b[1;31m# Compute the number of jobs\u001b[0m\u001b[1;33m\u001b[0m\u001b[1;33m\u001b[0m\u001b[0m\n\u001b[1;32m--> 153\u001b[1;33m     \u001b[0mn_jobs\u001b[0m \u001b[1;33m=\u001b[0m \u001b[0mmin\u001b[0m\u001b[1;33m(\u001b[0m\u001b[0m_get_n_jobs\u001b[0m\u001b[1;33m(\u001b[0m\u001b[0mn_jobs\u001b[0m\u001b[1;33m)\u001b[0m\u001b[1;33m,\u001b[0m \u001b[0mn_estimators\u001b[0m\u001b[1;33m)\u001b[0m\u001b[1;33m\u001b[0m\u001b[0m\n\u001b[0m\u001b[0;32m    154\u001b[0m \u001b[1;33m\u001b[0m\u001b[0m\n\u001b[0;32m    155\u001b[0m     \u001b[1;31m# Partition estimators between jobs\u001b[0m\u001b[1;33m\u001b[0m\u001b[1;33m\u001b[0m\u001b[0m\n",
      "\u001b[1;32m~\\AppData\\Local\\Continuum\\anaconda3\\lib\\site-packages\\sklearn\\utils\\__init__.py\u001b[0m in \u001b[0;36m_get_n_jobs\u001b[1;34m(n_jobs)\u001b[0m\n\u001b[0;32m    462\u001b[0m     \u001b[0mValueError\u001b[0m\u001b[1;33m:\u001b[0m \u001b[0mParameter\u001b[0m \u001b[0mn_jobs\u001b[0m \u001b[1;33m==\u001b[0m \u001b[1;36m0\u001b[0m \u001b[0mhas\u001b[0m \u001b[0mno\u001b[0m \u001b[0mmeaning\u001b[0m\u001b[1;33m.\u001b[0m\u001b[1;33m\u001b[0m\u001b[0m\n\u001b[0;32m    463\u001b[0m     \"\"\"\n\u001b[1;32m--> 464\u001b[1;33m     \u001b[1;32mif\u001b[0m \u001b[0mn_jobs\u001b[0m \u001b[1;33m<\u001b[0m \u001b[1;36m0\u001b[0m\u001b[1;33m:\u001b[0m\u001b[1;33m\u001b[0m\u001b[0m\n\u001b[0m\u001b[0;32m    465\u001b[0m         \u001b[1;32mreturn\u001b[0m \u001b[0mmax\u001b[0m\u001b[1;33m(\u001b[0m\u001b[0mcpu_count\u001b[0m\u001b[1;33m(\u001b[0m\u001b[1;33m)\u001b[0m \u001b[1;33m+\u001b[0m \u001b[1;36m1\u001b[0m \u001b[1;33m+\u001b[0m \u001b[0mn_jobs\u001b[0m\u001b[1;33m,\u001b[0m \u001b[1;36m1\u001b[0m\u001b[1;33m)\u001b[0m\u001b[1;33m\u001b[0m\u001b[0m\n\u001b[0;32m    466\u001b[0m     \u001b[1;32melif\u001b[0m \u001b[0mn_jobs\u001b[0m \u001b[1;33m==\u001b[0m \u001b[1;36m0\u001b[0m\u001b[1;33m:\u001b[0m\u001b[1;33m\u001b[0m\u001b[0m\n",
      "\u001b[1;31mTypeError\u001b[0m: '<' not supported between instances of 'NoneType' and 'int'"
     ]
    }
   ],
   "source": [
    "pred_rf1 = rf1.predict(x_test)"
   ]
  },
  {
   "cell_type": "code",
   "execution_count": 153,
   "metadata": {},
   "outputs": [
    {
     "name": "stdout",
     "output_type": "stream",
     "text": [
      "0.8230688935281837\n"
     ]
    }
   ],
   "source": [
    "print(accuracy_score(y_test,pred_rf1))"
   ]
  },
  {
   "cell_type": "code",
   "execution_count": 154,
   "metadata": {},
   "outputs": [
    {
     "data": {
      "text/plain": [
       "array([0.0082098 , 0.00444076, 0.01270369, 0.00293523, 0.00335102,\n",
       "       0.00196136, 0.02190251, 0.04173694, 0.11369733, 0.11364199,\n",
       "       0.10470372, 0.09348174, 0.08118594, 0.10326054, 0.10313454,\n",
       "       0.11150077, 0.06501466, 0.00667593, 0.00646155])"
      ]
     },
     "execution_count": 154,
     "metadata": {},
     "output_type": "execute_result"
    }
   ],
   "source": [
    "rf1.feature_importances_"
   ]
  },
  {
   "cell_type": "code",
   "execution_count": 157,
   "metadata": {},
   "outputs": [
    {
     "data": {
      "text/plain": [
       "[(0.11369732911940263, 'int.rate'),\n",
       " (0.1136419900012366, 'installment'),\n",
       " (0.11150076579142747, 'revol.util'),\n",
       " (0.1047037170971243, 'log.annual.inc'),\n",
       " (0.10326054436461433, 'days.with.cr.line'),\n",
       " (0.10313453578370382, 'revol.bal'),\n",
       " (0.09348173821275249, 'dti'),\n",
       " (0.08118593865869883, 'fico'),\n",
       " (0.0650146568985187, 'inq.last.6mths'),\n",
       " (0.041736941000193956, 'credit.policy'),\n",
       " (0.02190251335172473, 'purp_small_business'),\n",
       " (0.01270369123175411, 'purp_debt_consolidation'),\n",
       " (0.008209798861581125, 'purp_all_other'),\n",
       " (0.006675930838079586, 'delinq.2yrs'),\n",
       " (0.006461548137184954, 'pub.rec'),\n",
       " (0.0044407562499559055, 'purp_credit_card'),\n",
       " (0.003351016770488596, 'purp_home_improvement'),\n",
       " (0.002935225066821774, 'purp_educational'),\n",
       " (0.0019613625647361592, 'purp_major_purchase')]"
      ]
     },
     "execution_count": 157,
     "metadata": {},
     "output_type": "execute_result"
    }
   ],
   "source": [
    "sorted(list(zip(rf1.feature_importances_,x.columns)),reverse=True)"
   ]
  },
  {
   "cell_type": "code",
   "execution_count": 158,
   "metadata": {},
   "outputs": [
    {
     "data": {
      "text/plain": [
       "[(0.11369732911940263, 'revol.bal'),\n",
       " (0.1136419900012366, 'revol.util'),\n",
       " (0.1047037170971243, 'inq.last.6mths'),\n",
       " (0.10326054436461433, 'not.fully.paid'),\n",
       " (0.09348173821275249, 'delinq.2yrs'),\n",
       " (0.08118593865869883, 'pub.rec'),\n",
       " (0.041736941000193956, 'days.with.cr.line'),\n",
       " (0.02190251335172473, 'fico'),\n",
       " (0.01270369123175411, 'int.rate'),\n",
       " (0.008209798861581125, 'credit.policy'),\n",
       " (0.0044407562499559055, 'purpose'),\n",
       " (0.003351016770488596, 'log.annual.inc'),\n",
       " (0.002935225066821774, 'installment'),\n",
       " (0.0019613625647361592, 'dti')]"
      ]
     },
     "execution_count": 158,
     "metadata": {},
     "output_type": "execute_result"
    }
   ],
   "source": [
    "sorted(list(zip(rf1.feature_importances_,loan.columns)),reverse=True)"
   ]
  },
  {
   "cell_type": "code",
   "execution_count": null,
   "metadata": {},
   "outputs": [],
   "source": []
  }
 ],
 "metadata": {
  "kernelspec": {
   "display_name": "Python 3",
   "language": "python",
   "name": "python3"
  },
  "language_info": {
   "codemirror_mode": {
    "name": "ipython",
    "version": 3
   },
   "file_extension": ".py",
   "mimetype": "text/x-python",
   "name": "python",
   "nbconvert_exporter": "python",
   "pygments_lexer": "ipython3",
   "version": "3.6.4"
  }
 },
 "nbformat": 4,
 "nbformat_minor": 2
}
