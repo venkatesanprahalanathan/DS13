{
 "cells": [
  {
   "cell_type": "code",
   "execution_count": null,
   "metadata": {},
   "outputs": [],
   "source": [
    "Problem Statement:\n",
    "\n",
    "You just got some contract work with an Ecommerce company based in New York City that sells clothing online \n",
    "but they also have in-store style and clothing advice sessions. \n",
    "Customers come in to the store, have sessions/meetings with a personal stylist,\n",
    "then they can go home and order either on a mobile app or website for the clothes they want.\n",
    "\n",
    "The company is trying to decide whether to focus their efforts on their mobile app experience or their website. \n",
    "They've hired you on contract to help them figure it out."
   ]
  },
  {
   "cell_type": "code",
   "execution_count": 1,
   "metadata": {},
   "outputs": [],
   "source": [
    "import pandas as pd\n",
    "import numpy as np\n",
    "import matplotlib.pyplot as plt\n",
    "import seaborn as sns\n",
    "%matplotlib inline"
   ]
  },
  {
   "cell_type": "code",
   "execution_count": 2,
   "metadata": {},
   "outputs": [],
   "source": [
    "df=pd.read_csv(\"C:\\\\Users\\\\venkatesan-p\\\\Downloads\\\\Ecommerce_Customers.csv\")"
   ]
  },
  {
   "cell_type": "code",
   "execution_count": 3,
   "metadata": {},
   "outputs": [
    {
     "name": "stdout",
     "output_type": "stream",
     "text": [
      "<class 'pandas.core.frame.DataFrame'>\n",
      "RangeIndex: 500 entries, 0 to 499\n",
      "Data columns (total 8 columns):\n",
      "Email                   500 non-null object\n",
      "Address                 500 non-null object\n",
      "Avatar                  500 non-null object\n",
      "Avg. Session Length     500 non-null float64\n",
      "Time on App             500 non-null float64\n",
      "Time on Website         500 non-null float64\n",
      "Length of Membership    500 non-null float64\n",
      "Yearly Amount Spent     500 non-null float64\n",
      "dtypes: float64(5), object(3)\n",
      "memory usage: 31.3+ KB\n"
     ]
    }
   ],
   "source": [
    "df.info()"
   ]
  },
  {
   "cell_type": "code",
   "execution_count": 4,
   "metadata": {},
   "outputs": [
    {
     "data": {
      "text/html": [
       "<div>\n",
       "<style scoped>\n",
       "    .dataframe tbody tr th:only-of-type {\n",
       "        vertical-align: middle;\n",
       "    }\n",
       "\n",
       "    .dataframe tbody tr th {\n",
       "        vertical-align: top;\n",
       "    }\n",
       "\n",
       "    .dataframe thead th {\n",
       "        text-align: right;\n",
       "    }\n",
       "</style>\n",
       "<table border=\"1\" class=\"dataframe\">\n",
       "  <thead>\n",
       "    <tr style=\"text-align: right;\">\n",
       "      <th></th>\n",
       "      <th>Email</th>\n",
       "      <th>Address</th>\n",
       "      <th>Avatar</th>\n",
       "      <th>Avg. Session Length</th>\n",
       "      <th>Time on App</th>\n",
       "      <th>Time on Website</th>\n",
       "      <th>Length of Membership</th>\n",
       "      <th>Yearly Amount Spent</th>\n",
       "    </tr>\n",
       "  </thead>\n",
       "  <tbody>\n",
       "    <tr>\n",
       "      <th>0</th>\n",
       "      <td>mstephenson@fernandez.com</td>\n",
       "      <td>835 Frank Tunnel\\nWrightmouth, MI 82180-9605</td>\n",
       "      <td>Violet</td>\n",
       "      <td>34.497268</td>\n",
       "      <td>12.655651</td>\n",
       "      <td>39.577668</td>\n",
       "      <td>4.082621</td>\n",
       "      <td>587.951054</td>\n",
       "    </tr>\n",
       "    <tr>\n",
       "      <th>1</th>\n",
       "      <td>hduke@hotmail.com</td>\n",
       "      <td>4547 Archer Common\\nDiazchester, CA 06566-8576</td>\n",
       "      <td>DarkGreen</td>\n",
       "      <td>31.926272</td>\n",
       "      <td>11.109461</td>\n",
       "      <td>37.268959</td>\n",
       "      <td>2.664034</td>\n",
       "      <td>392.204933</td>\n",
       "    </tr>\n",
       "    <tr>\n",
       "      <th>2</th>\n",
       "      <td>pallen@yahoo.com</td>\n",
       "      <td>24645 Valerie Unions Suite 582\\nCobbborough, D...</td>\n",
       "      <td>Bisque</td>\n",
       "      <td>33.000915</td>\n",
       "      <td>11.330278</td>\n",
       "      <td>37.110597</td>\n",
       "      <td>4.104543</td>\n",
       "      <td>487.547505</td>\n",
       "    </tr>\n",
       "    <tr>\n",
       "      <th>3</th>\n",
       "      <td>riverarebecca@gmail.com</td>\n",
       "      <td>1414 David Throughway\\nPort Jason, OH 22070-1220</td>\n",
       "      <td>SaddleBrown</td>\n",
       "      <td>34.305557</td>\n",
       "      <td>13.717514</td>\n",
       "      <td>36.721283</td>\n",
       "      <td>3.120179</td>\n",
       "      <td>581.852344</td>\n",
       "    </tr>\n",
       "    <tr>\n",
       "      <th>4</th>\n",
       "      <td>mstephens@davidson-herman.com</td>\n",
       "      <td>14023 Rodriguez Passage\\nPort Jacobville, PR 3...</td>\n",
       "      <td>MediumAquaMarine</td>\n",
       "      <td>33.330673</td>\n",
       "      <td>12.795189</td>\n",
       "      <td>37.536653</td>\n",
       "      <td>4.446308</td>\n",
       "      <td>599.406092</td>\n",
       "    </tr>\n",
       "  </tbody>\n",
       "</table>\n",
       "</div>"
      ],
      "text/plain": [
       "                           Email  \\\n",
       "0      mstephenson@fernandez.com   \n",
       "1              hduke@hotmail.com   \n",
       "2               pallen@yahoo.com   \n",
       "3        riverarebecca@gmail.com   \n",
       "4  mstephens@davidson-herman.com   \n",
       "\n",
       "                                             Address            Avatar  \\\n",
       "0       835 Frank Tunnel\\nWrightmouth, MI 82180-9605            Violet   \n",
       "1     4547 Archer Common\\nDiazchester, CA 06566-8576         DarkGreen   \n",
       "2  24645 Valerie Unions Suite 582\\nCobbborough, D...            Bisque   \n",
       "3   1414 David Throughway\\nPort Jason, OH 22070-1220       SaddleBrown   \n",
       "4  14023 Rodriguez Passage\\nPort Jacobville, PR 3...  MediumAquaMarine   \n",
       "\n",
       "   Avg. Session Length  Time on App  Time on Website  Length of Membership  \\\n",
       "0            34.497268    12.655651        39.577668              4.082621   \n",
       "1            31.926272    11.109461        37.268959              2.664034   \n",
       "2            33.000915    11.330278        37.110597              4.104543   \n",
       "3            34.305557    13.717514        36.721283              3.120179   \n",
       "4            33.330673    12.795189        37.536653              4.446308   \n",
       "\n",
       "   Yearly Amount Spent  \n",
       "0           587.951054  \n",
       "1           392.204933  \n",
       "2           487.547505  \n",
       "3           581.852344  \n",
       "4           599.406092  "
      ]
     },
     "execution_count": 4,
     "metadata": {},
     "output_type": "execute_result"
    }
   ],
   "source": [
    "df.head()"
   ]
  },
  {
   "cell_type": "code",
   "execution_count": 5,
   "metadata": {},
   "outputs": [
    {
     "data": {
      "text/html": [
       "<div>\n",
       "<style scoped>\n",
       "    .dataframe tbody tr th:only-of-type {\n",
       "        vertical-align: middle;\n",
       "    }\n",
       "\n",
       "    .dataframe tbody tr th {\n",
       "        vertical-align: top;\n",
       "    }\n",
       "\n",
       "    .dataframe thead th {\n",
       "        text-align: right;\n",
       "    }\n",
       "</style>\n",
       "<table border=\"1\" class=\"dataframe\">\n",
       "  <thead>\n",
       "    <tr style=\"text-align: right;\">\n",
       "      <th></th>\n",
       "      <th>Avg. Session Length</th>\n",
       "      <th>Time on App</th>\n",
       "      <th>Time on Website</th>\n",
       "      <th>Length of Membership</th>\n",
       "      <th>Yearly Amount Spent</th>\n",
       "    </tr>\n",
       "  </thead>\n",
       "  <tbody>\n",
       "    <tr>\n",
       "      <th>count</th>\n",
       "      <td>500.000000</td>\n",
       "      <td>500.000000</td>\n",
       "      <td>500.000000</td>\n",
       "      <td>500.000000</td>\n",
       "      <td>500.000000</td>\n",
       "    </tr>\n",
       "    <tr>\n",
       "      <th>mean</th>\n",
       "      <td>33.053194</td>\n",
       "      <td>12.052488</td>\n",
       "      <td>37.060445</td>\n",
       "      <td>3.533462</td>\n",
       "      <td>499.314038</td>\n",
       "    </tr>\n",
       "    <tr>\n",
       "      <th>std</th>\n",
       "      <td>0.992563</td>\n",
       "      <td>0.994216</td>\n",
       "      <td>1.010489</td>\n",
       "      <td>0.999278</td>\n",
       "      <td>79.314782</td>\n",
       "    </tr>\n",
       "    <tr>\n",
       "      <th>min</th>\n",
       "      <td>29.532429</td>\n",
       "      <td>8.508152</td>\n",
       "      <td>33.913847</td>\n",
       "      <td>0.269901</td>\n",
       "      <td>256.670582</td>\n",
       "    </tr>\n",
       "    <tr>\n",
       "      <th>25%</th>\n",
       "      <td>32.341822</td>\n",
       "      <td>11.388153</td>\n",
       "      <td>36.349257</td>\n",
       "      <td>2.930450</td>\n",
       "      <td>445.038277</td>\n",
       "    </tr>\n",
       "    <tr>\n",
       "      <th>50%</th>\n",
       "      <td>33.082008</td>\n",
       "      <td>11.983231</td>\n",
       "      <td>37.069367</td>\n",
       "      <td>3.533975</td>\n",
       "      <td>498.887875</td>\n",
       "    </tr>\n",
       "    <tr>\n",
       "      <th>75%</th>\n",
       "      <td>33.711985</td>\n",
       "      <td>12.753850</td>\n",
       "      <td>37.716432</td>\n",
       "      <td>4.126502</td>\n",
       "      <td>549.313828</td>\n",
       "    </tr>\n",
       "    <tr>\n",
       "      <th>max</th>\n",
       "      <td>36.139662</td>\n",
       "      <td>15.126994</td>\n",
       "      <td>40.005182</td>\n",
       "      <td>6.922689</td>\n",
       "      <td>765.518462</td>\n",
       "    </tr>\n",
       "  </tbody>\n",
       "</table>\n",
       "</div>"
      ],
      "text/plain": [
       "       Avg. Session Length  Time on App  Time on Website  \\\n",
       "count           500.000000   500.000000       500.000000   \n",
       "mean             33.053194    12.052488        37.060445   \n",
       "std               0.992563     0.994216         1.010489   \n",
       "min              29.532429     8.508152        33.913847   \n",
       "25%              32.341822    11.388153        36.349257   \n",
       "50%              33.082008    11.983231        37.069367   \n",
       "75%              33.711985    12.753850        37.716432   \n",
       "max              36.139662    15.126994        40.005182   \n",
       "\n",
       "       Length of Membership  Yearly Amount Spent  \n",
       "count            500.000000           500.000000  \n",
       "mean               3.533462           499.314038  \n",
       "std                0.999278            79.314782  \n",
       "min                0.269901           256.670582  \n",
       "25%                2.930450           445.038277  \n",
       "50%                3.533975           498.887875  \n",
       "75%                4.126502           549.313828  \n",
       "max                6.922689           765.518462  "
      ]
     },
     "execution_count": 5,
     "metadata": {},
     "output_type": "execute_result"
    }
   ],
   "source": [
    "df.describe()"
   ]
  },
  {
   "cell_type": "code",
   "execution_count": 6,
   "metadata": {},
   "outputs": [
    {
     "data": {
      "text/plain": [
       "Email                   0\n",
       "Address                 0\n",
       "Avatar                  0\n",
       "Avg. Session Length     0\n",
       "Time on App             0\n",
       "Time on Website         0\n",
       "Length of Membership    0\n",
       "Yearly Amount Spent     0\n",
       "dtype: int64"
      ]
     },
     "execution_count": 6,
     "metadata": {},
     "output_type": "execute_result"
    }
   ],
   "source": [
    "df.isna().sum()"
   ]
  },
  {
   "cell_type": "code",
   "execution_count": 7,
   "metadata": {},
   "outputs": [
    {
     "data": {
      "text/plain": [
       "SlateBlue               7\n",
       "Teal                    7\n",
       "GreenYellow             7\n",
       "CadetBlue               7\n",
       "Cyan                    7\n",
       "Bisque                  6\n",
       "Purple                  6\n",
       "DarkViolet              6\n",
       "SaddleBrown             6\n",
       "Turquoise               6\n",
       "Aqua                    6\n",
       "DarkGoldenRod           6\n",
       "Moccasin                6\n",
       "OliveDrab               6\n",
       "Tomato                  6\n",
       "PeachPuff               6\n",
       "DeepPink                6\n",
       "LightSkyBlue            6\n",
       "BlueViolet              6\n",
       "Wheat                   6\n",
       "Orange                  6\n",
       "DarkSeaGreen            6\n",
       "DarkMagenta             5\n",
       "DarkGreen               5\n",
       "LightSalmon             5\n",
       "SandyBrown              5\n",
       "Magenta                 5\n",
       "MediumBlue              5\n",
       "Brown                   5\n",
       "LimeGreen               5\n",
       "                       ..\n",
       "Fuchsia                 2\n",
       "AliceBlue               2\n",
       "ForestGreen             2\n",
       "Black                   2\n",
       "Peru                    2\n",
       "GoldenRod               2\n",
       "MediumOrchid            2\n",
       "OldLace                 2\n",
       "Chartreuse              2\n",
       "IndianRed               2\n",
       "OrangeRed               2\n",
       "LightBlue               2\n",
       "DarkSlateGray           2\n",
       "Linen                   2\n",
       "MediumPurple            1\n",
       "NavajoWhite             1\n",
       "Yellow                  1\n",
       "Red                     1\n",
       "PaleGoldenRod           1\n",
       "LawnGreen               1\n",
       "PaleGreen               1\n",
       "LightSlateGray          1\n",
       "LightGoldenRodYellow    1\n",
       "PowderBlue              1\n",
       "DeepSkyBlue             1\n",
       "Coral                   1\n",
       "PaleTurquoise           1\n",
       "CornflowerBlue          1\n",
       "Azure                   1\n",
       "PapayaWhip              1\n",
       "Name: Avatar, Length: 138, dtype: int64"
      ]
     },
     "execution_count": 7,
     "metadata": {},
     "output_type": "execute_result"
    }
   ],
   "source": [
    "df['Avatar'].value_counts()"
   ]
  },
  {
   "cell_type": "code",
   "execution_count": 16,
   "metadata": {},
   "outputs": [
    {
     "data": {
      "text/plain": [
       "436.515606    1\n",
       "547.125932    1\n",
       "469.310861    1\n",
       "489.812488    1\n",
       "506.423860    1\n",
       "357.591439    1\n",
       "503.978379    1\n",
       "461.920877    1\n",
       "549.860590    1\n",
       "426.154548    1\n",
       "555.068394    1\n",
       "357.857984    1\n",
       "449.070319    1\n",
       "463.923513    1\n",
       "443.441860    1\n",
       "376.336901    1\n",
       "502.771075    1\n",
       "308.527747    1\n",
       "460.061277    1\n",
       "456.469510    1\n",
       "479.614812    1\n",
       "571.471034    1\n",
       "486.163799    1\n",
       "542.412477    1\n",
       "567.475011    1\n",
       "392.497399    1\n",
       "482.830986    1\n",
       "451.575685    1\n",
       "573.306222    1\n",
       "447.369027    1\n",
       "             ..\n",
       "468.445737    1\n",
       "576.477607    1\n",
       "689.235700    1\n",
       "587.574799    1\n",
       "744.221867    1\n",
       "505.113344    1\n",
       "519.372977    1\n",
       "660.425184    1\n",
       "700.917092    1\n",
       "553.601535    1\n",
       "524.797628    1\n",
       "554.722084    1\n",
       "544.779864    1\n",
       "434.144202    1\n",
       "393.857371    1\n",
       "521.883573    1\n",
       "483.159721    1\n",
       "511.979860    1\n",
       "408.216902    1\n",
       "666.125592    1\n",
       "563.672873    1\n",
       "538.941975    1\n",
       "444.053827    1\n",
       "493.180216    1\n",
       "542.711558    1\n",
       "503.217393    1\n",
       "347.776927    1\n",
       "540.995739    1\n",
       "409.094526    1\n",
       "610.128033    1\n",
       "Name: Yearly Amount Spent, Length: 500, dtype: int64"
      ]
     },
     "execution_count": 16,
     "metadata": {},
     "output_type": "execute_result"
    }
   ],
   "source": [
    "df['Yearly Amount Spent'].value_counts()"
   ]
  },
  {
   "cell_type": "code",
   "execution_count": 9,
   "metadata": {},
   "outputs": [
    {
     "data": {
      "text/plain": [
       "Email                   0\n",
       "Address                 0\n",
       "Avatar                  0\n",
       "Avg. Session Length     0\n",
       "Time on App             0\n",
       "Time on Website         0\n",
       "Length of Membership    0\n",
       "Yearly Amount Spent     0\n",
       "dtype: int64"
      ]
     },
     "execution_count": 9,
     "metadata": {},
     "output_type": "execute_result"
    }
   ],
   "source": [
    "df.isnull().sum()"
   ]
  },
  {
   "cell_type": "code",
   "execution_count": 17,
   "metadata": {},
   "outputs": [],
   "source": [
    "df.drop('Address',axis=1,inplace=True)"
   ]
  },
  {
   "cell_type": "code",
   "execution_count": 19,
   "metadata": {},
   "outputs": [],
   "source": [
    "df.drop('Email',axis=1,inplace=True)"
   ]
  },
  {
   "cell_type": "code",
   "execution_count": 20,
   "metadata": {},
   "outputs": [],
   "source": [
    "df.drop('Avatar',axis=1,inplace=True)"
   ]
  },
  {
   "cell_type": "code",
   "execution_count": 21,
   "metadata": {},
   "outputs": [],
   "source": [
    "x=df.drop(['Yearly Amount Spent'],axis=1)\n",
    "y=df['Yearly Amount Spent']"
   ]
  },
  {
   "cell_type": "code",
   "execution_count": 22,
   "metadata": {},
   "outputs": [
    {
     "data": {
      "text/plain": [
       "Index(['Avg. Session Length', 'Time on App', 'Time on Website',\n",
       "       'Length of Membership'],\n",
       "      dtype='object')"
      ]
     },
     "execution_count": 22,
     "metadata": {},
     "output_type": "execute_result"
    }
   ],
   "source": [
    "x.columns"
   ]
  },
  {
   "cell_type": "code",
   "execution_count": 23,
   "metadata": {},
   "outputs": [
    {
     "data": {
      "text/plain": [
       "(500, 4)"
      ]
     },
     "execution_count": 23,
     "metadata": {},
     "output_type": "execute_result"
    }
   ],
   "source": [
    "x.shape"
   ]
  },
  {
   "cell_type": "code",
   "execution_count": 24,
   "metadata": {},
   "outputs": [
    {
     "data": {
      "text/plain": [
       "(500,)"
      ]
     },
     "execution_count": 24,
     "metadata": {},
     "output_type": "execute_result"
    }
   ],
   "source": [
    "y.shape"
   ]
  },
  {
   "cell_type": "code",
   "execution_count": 25,
   "metadata": {},
   "outputs": [],
   "source": [
    "from sklearn.model_selection import train_test_split"
   ]
  },
  {
   "cell_type": "code",
   "execution_count": 26,
   "metadata": {},
   "outputs": [],
   "source": [
    "x_train,x_test,y_train,y_test=train_test_split(x,y,test_size=0.3,random_state=101)"
   ]
  },
  {
   "cell_type": "code",
   "execution_count": 27,
   "metadata": {},
   "outputs": [
    {
     "data": {
      "text/plain": [
       "(350, 4)"
      ]
     },
     "execution_count": 27,
     "metadata": {},
     "output_type": "execute_result"
    }
   ],
   "source": [
    "x_train.shape"
   ]
  },
  {
   "cell_type": "code",
   "execution_count": 28,
   "metadata": {},
   "outputs": [
    {
     "data": {
      "text/plain": [
       "(350,)"
      ]
     },
     "execution_count": 28,
     "metadata": {},
     "output_type": "execute_result"
    }
   ],
   "source": [
    "y_train.shape"
   ]
  },
  {
   "cell_type": "code",
   "execution_count": 29,
   "metadata": {},
   "outputs": [],
   "source": [
    "from sklearn.preprocessing import StandardScaler"
   ]
  },
  {
   "cell_type": "code",
   "execution_count": 30,
   "metadata": {},
   "outputs": [],
   "source": [
    "    scx=StandardScaler()"
   ]
  },
  {
   "cell_type": "code",
   "execution_count": 31,
   "metadata": {},
   "outputs": [
    {
     "data": {
      "text/html": [
       "<div>\n",
       "<style scoped>\n",
       "    .dataframe tbody tr th:only-of-type {\n",
       "        vertical-align: middle;\n",
       "    }\n",
       "\n",
       "    .dataframe tbody tr th {\n",
       "        vertical-align: top;\n",
       "    }\n",
       "\n",
       "    .dataframe thead th {\n",
       "        text-align: right;\n",
       "    }\n",
       "</style>\n",
       "<table border=\"1\" class=\"dataframe\">\n",
       "  <thead>\n",
       "    <tr style=\"text-align: right;\">\n",
       "      <th></th>\n",
       "      <th>Avg. Session Length</th>\n",
       "      <th>Time on App</th>\n",
       "      <th>Time on Website</th>\n",
       "      <th>Length of Membership</th>\n",
       "    </tr>\n",
       "  </thead>\n",
       "  <tbody>\n",
       "    <tr>\n",
       "      <th>202</th>\n",
       "      <td>31.525752</td>\n",
       "      <td>11.340036</td>\n",
       "      <td>37.039514</td>\n",
       "      <td>3.811248</td>\n",
       "    </tr>\n",
       "    <tr>\n",
       "      <th>428</th>\n",
       "      <td>31.862741</td>\n",
       "      <td>14.039867</td>\n",
       "      <td>37.022269</td>\n",
       "      <td>3.738225</td>\n",
       "    </tr>\n",
       "    <tr>\n",
       "      <th>392</th>\n",
       "      <td>33.258238</td>\n",
       "      <td>11.514949</td>\n",
       "      <td>37.128039</td>\n",
       "      <td>4.662845</td>\n",
       "    </tr>\n",
       "    <tr>\n",
       "      <th>86</th>\n",
       "      <td>33.877779</td>\n",
       "      <td>12.517666</td>\n",
       "      <td>37.151921</td>\n",
       "      <td>2.669942</td>\n",
       "    </tr>\n",
       "    <tr>\n",
       "      <th>443</th>\n",
       "      <td>33.025020</td>\n",
       "      <td>12.504220</td>\n",
       "      <td>37.645839</td>\n",
       "      <td>4.051382</td>\n",
       "    </tr>\n",
       "    <tr>\n",
       "      <th>398</th>\n",
       "      <td>34.140393</td>\n",
       "      <td>11.568527</td>\n",
       "      <td>38.918749</td>\n",
       "      <td>4.082855</td>\n",
       "    </tr>\n",
       "    <tr>\n",
       "      <th>449</th>\n",
       "      <td>32.675155</td>\n",
       "      <td>12.594194</td>\n",
       "      <td>37.683875</td>\n",
       "      <td>2.571778</td>\n",
       "    </tr>\n",
       "    <tr>\n",
       "      <th>321</th>\n",
       "      <td>33.674027</td>\n",
       "      <td>12.968893</td>\n",
       "      <td>37.333107</td>\n",
       "      <td>3.229451</td>\n",
       "    </tr>\n",
       "    <tr>\n",
       "      <th>109</th>\n",
       "      <td>33.356874</td>\n",
       "      <td>13.452129</td>\n",
       "      <td>38.503009</td>\n",
       "      <td>3.318822</td>\n",
       "    </tr>\n",
       "    <tr>\n",
       "      <th>93</th>\n",
       "      <td>33.710653</td>\n",
       "      <td>13.664748</td>\n",
       "      <td>37.724386</td>\n",
       "      <td>1.362674</td>\n",
       "    </tr>\n",
       "    <tr>\n",
       "      <th>295</th>\n",
       "      <td>31.309193</td>\n",
       "      <td>11.947175</td>\n",
       "      <td>36.190833</td>\n",
       "      <td>3.205530</td>\n",
       "    </tr>\n",
       "    <tr>\n",
       "      <th>441</th>\n",
       "      <td>32.536775</td>\n",
       "      <td>11.121366</td>\n",
       "      <td>36.979372</td>\n",
       "      <td>4.129255</td>\n",
       "    </tr>\n",
       "    <tr>\n",
       "      <th>286</th>\n",
       "      <td>33.708153</td>\n",
       "      <td>14.325655</td>\n",
       "      <td>35.721827</td>\n",
       "      <td>3.634340</td>\n",
       "    </tr>\n",
       "    <tr>\n",
       "      <th>121</th>\n",
       "      <td>33.701605</td>\n",
       "      <td>11.564022</td>\n",
       "      <td>37.673210</td>\n",
       "      <td>4.716105</td>\n",
       "    </tr>\n",
       "    <tr>\n",
       "      <th>9</th>\n",
       "      <td>31.936549</td>\n",
       "      <td>11.814128</td>\n",
       "      <td>37.145168</td>\n",
       "      <td>3.202806</td>\n",
       "    </tr>\n",
       "    <tr>\n",
       "      <th>176</th>\n",
       "      <td>32.332637</td>\n",
       "      <td>11.548761</td>\n",
       "      <td>38.576516</td>\n",
       "      <td>4.773503</td>\n",
       "    </tr>\n",
       "    <tr>\n",
       "      <th>195</th>\n",
       "      <td>31.820998</td>\n",
       "      <td>10.771074</td>\n",
       "      <td>37.278640</td>\n",
       "      <td>3.519032</td>\n",
       "    </tr>\n",
       "    <tr>\n",
       "      <th>432</th>\n",
       "      <td>31.123974</td>\n",
       "      <td>12.386516</td>\n",
       "      <td>35.632112</td>\n",
       "      <td>4.288487</td>\n",
       "    </tr>\n",
       "    <tr>\n",
       "      <th>458</th>\n",
       "      <td>35.371876</td>\n",
       "      <td>10.572467</td>\n",
       "      <td>36.862183</td>\n",
       "      <td>4.198349</td>\n",
       "    </tr>\n",
       "    <tr>\n",
       "      <th>278</th>\n",
       "      <td>32.607903</td>\n",
       "      <td>13.677246</td>\n",
       "      <td>37.744700</td>\n",
       "      <td>2.871948</td>\n",
       "    </tr>\n",
       "    <tr>\n",
       "      <th>348</th>\n",
       "      <td>31.812483</td>\n",
       "      <td>10.886921</td>\n",
       "      <td>34.897828</td>\n",
       "      <td>3.128639</td>\n",
       "    </tr>\n",
       "    <tr>\n",
       "      <th>16</th>\n",
       "      <td>32.125387</td>\n",
       "      <td>11.733862</td>\n",
       "      <td>34.894093</td>\n",
       "      <td>3.136133</td>\n",
       "    </tr>\n",
       "    <tr>\n",
       "      <th>183</th>\n",
       "      <td>33.122400</td>\n",
       "      <td>11.509048</td>\n",
       "      <td>37.253058</td>\n",
       "      <td>3.182330</td>\n",
       "    </tr>\n",
       "    <tr>\n",
       "      <th>426</th>\n",
       "      <td>31.425227</td>\n",
       "      <td>13.271475</td>\n",
       "      <td>37.239847</td>\n",
       "      <td>4.022103</td>\n",
       "    </tr>\n",
       "    <tr>\n",
       "      <th>41</th>\n",
       "      <td>33.019548</td>\n",
       "      <td>10.634561</td>\n",
       "      <td>37.496690</td>\n",
       "      <td>4.646120</td>\n",
       "    </tr>\n",
       "    <tr>\n",
       "      <th>427</th>\n",
       "      <td>33.625307</td>\n",
       "      <td>12.988221</td>\n",
       "      <td>39.672591</td>\n",
       "      <td>3.969418</td>\n",
       "    </tr>\n",
       "    <tr>\n",
       "      <th>377</th>\n",
       "      <td>35.037450</td>\n",
       "      <td>11.935935</td>\n",
       "      <td>35.783924</td>\n",
       "      <td>3.310150</td>\n",
       "    </tr>\n",
       "    <tr>\n",
       "      <th>322</th>\n",
       "      <td>33.264632</td>\n",
       "      <td>10.732131</td>\n",
       "      <td>36.145792</td>\n",
       "      <td>4.086566</td>\n",
       "    </tr>\n",
       "    <tr>\n",
       "      <th>213</th>\n",
       "      <td>34.330750</td>\n",
       "      <td>13.722454</td>\n",
       "      <td>35.773116</td>\n",
       "      <td>2.909008</td>\n",
       "    </tr>\n",
       "    <tr>\n",
       "      <th>296</th>\n",
       "      <td>33.612563</td>\n",
       "      <td>11.470565</td>\n",
       "      <td>37.061689</td>\n",
       "      <td>3.802511</td>\n",
       "    </tr>\n",
       "    <tr>\n",
       "      <th>...</th>\n",
       "      <td>...</td>\n",
       "      <td>...</td>\n",
       "      <td>...</td>\n",
       "      <td>...</td>\n",
       "    </tr>\n",
       "    <tr>\n",
       "      <th>59</th>\n",
       "      <td>33.754995</td>\n",
       "      <td>12.064157</td>\n",
       "      <td>37.271222</td>\n",
       "      <td>3.970556</td>\n",
       "    </tr>\n",
       "    <tr>\n",
       "      <th>473</th>\n",
       "      <td>31.609840</td>\n",
       "      <td>12.710701</td>\n",
       "      <td>36.166463</td>\n",
       "      <td>2.562819</td>\n",
       "    </tr>\n",
       "    <tr>\n",
       "      <th>413</th>\n",
       "      <td>32.592093</td>\n",
       "      <td>10.314718</td>\n",
       "      <td>36.729029</td>\n",
       "      <td>4.791109</td>\n",
       "    </tr>\n",
       "    <tr>\n",
       "      <th>371</th>\n",
       "      <td>32.404295</td>\n",
       "      <td>11.608998</td>\n",
       "      <td>38.110457</td>\n",
       "      <td>2.966559</td>\n",
       "    </tr>\n",
       "    <tr>\n",
       "      <th>136</th>\n",
       "      <td>32.686129</td>\n",
       "      <td>12.215252</td>\n",
       "      <td>36.594362</td>\n",
       "      <td>3.897116</td>\n",
       "    </tr>\n",
       "    <tr>\n",
       "      <th>111</th>\n",
       "      <td>32.012301</td>\n",
       "      <td>12.178331</td>\n",
       "      <td>37.715986</td>\n",
       "      <td>3.722561</td>\n",
       "    </tr>\n",
       "    <tr>\n",
       "      <th>339</th>\n",
       "      <td>32.997459</td>\n",
       "      <td>12.589241</td>\n",
       "      <td>37.332241</td>\n",
       "      <td>2.804014</td>\n",
       "    </tr>\n",
       "    <tr>\n",
       "      <th>49</th>\n",
       "      <td>31.661050</td>\n",
       "      <td>11.398064</td>\n",
       "      <td>36.594457</td>\n",
       "      <td>3.198399</td>\n",
       "    </tr>\n",
       "    <tr>\n",
       "      <th>490</th>\n",
       "      <td>34.695591</td>\n",
       "      <td>11.608997</td>\n",
       "      <td>37.684877</td>\n",
       "      <td>3.163092</td>\n",
       "    </tr>\n",
       "    <tr>\n",
       "      <th>477</th>\n",
       "      <td>31.061325</td>\n",
       "      <td>12.357638</td>\n",
       "      <td>36.166042</td>\n",
       "      <td>4.089331</td>\n",
       "    </tr>\n",
       "    <tr>\n",
       "      <th>396</th>\n",
       "      <td>35.742670</td>\n",
       "      <td>10.889828</td>\n",
       "      <td>35.565436</td>\n",
       "      <td>6.115199</td>\n",
       "    </tr>\n",
       "    <tr>\n",
       "      <th>5</th>\n",
       "      <td>33.871038</td>\n",
       "      <td>12.026925</td>\n",
       "      <td>34.476878</td>\n",
       "      <td>5.493507</td>\n",
       "    </tr>\n",
       "    <tr>\n",
       "      <th>110</th>\n",
       "      <td>31.853075</td>\n",
       "      <td>12.149375</td>\n",
       "      <td>37.325334</td>\n",
       "      <td>3.361815</td>\n",
       "    </tr>\n",
       "    <tr>\n",
       "      <th>192</th>\n",
       "      <td>33.694898</td>\n",
       "      <td>11.202670</td>\n",
       "      <td>35.493964</td>\n",
       "      <td>4.015987</td>\n",
       "    </tr>\n",
       "    <tr>\n",
       "      <th>220</th>\n",
       "      <td>34.117567</td>\n",
       "      <td>11.591872</td>\n",
       "      <td>37.743620</td>\n",
       "      <td>3.678589</td>\n",
       "    </tr>\n",
       "    <tr>\n",
       "      <th>316</th>\n",
       "      <td>33.566474</td>\n",
       "      <td>12.235659</td>\n",
       "      <td>37.277573</td>\n",
       "      <td>2.532044</td>\n",
       "    </tr>\n",
       "    <tr>\n",
       "      <th>245</th>\n",
       "      <td>32.980029</td>\n",
       "      <td>11.201160</td>\n",
       "      <td>37.689337</td>\n",
       "      <td>2.412831</td>\n",
       "    </tr>\n",
       "    <tr>\n",
       "      <th>424</th>\n",
       "      <td>34.370327</td>\n",
       "      <td>11.887800</td>\n",
       "      <td>37.861447</td>\n",
       "      <td>3.046620</td>\n",
       "    </tr>\n",
       "    <tr>\n",
       "      <th>495</th>\n",
       "      <td>33.237660</td>\n",
       "      <td>13.566160</td>\n",
       "      <td>36.417985</td>\n",
       "      <td>3.746573</td>\n",
       "    </tr>\n",
       "    <tr>\n",
       "      <th>132</th>\n",
       "      <td>34.312167</td>\n",
       "      <td>11.810587</td>\n",
       "      <td>37.414134</td>\n",
       "      <td>2.473596</td>\n",
       "    </tr>\n",
       "    <tr>\n",
       "      <th>40</th>\n",
       "      <td>32.070546</td>\n",
       "      <td>11.733106</td>\n",
       "      <td>37.534291</td>\n",
       "      <td>4.671275</td>\n",
       "    </tr>\n",
       "    <tr>\n",
       "      <th>461</th>\n",
       "      <td>32.770492</td>\n",
       "      <td>11.371767</td>\n",
       "      <td>35.261498</td>\n",
       "      <td>4.034386</td>\n",
       "    </tr>\n",
       "    <tr>\n",
       "      <th>393</th>\n",
       "      <td>32.319858</td>\n",
       "      <td>12.418113</td>\n",
       "      <td>36.155336</td>\n",
       "      <td>3.222081</td>\n",
       "    </tr>\n",
       "    <tr>\n",
       "      <th>75</th>\n",
       "      <td>32.049839</td>\n",
       "      <td>12.238057</td>\n",
       "      <td>38.730862</td>\n",
       "      <td>3.120569</td>\n",
       "    </tr>\n",
       "    <tr>\n",
       "      <th>87</th>\n",
       "      <td>34.447871</td>\n",
       "      <td>10.607724</td>\n",
       "      <td>36.819096</td>\n",
       "      <td>3.366464</td>\n",
       "    </tr>\n",
       "    <tr>\n",
       "      <th>63</th>\n",
       "      <td>32.789773</td>\n",
       "      <td>11.670066</td>\n",
       "      <td>37.408748</td>\n",
       "      <td>3.414688</td>\n",
       "    </tr>\n",
       "    <tr>\n",
       "      <th>326</th>\n",
       "      <td>33.217188</td>\n",
       "      <td>10.999684</td>\n",
       "      <td>38.442767</td>\n",
       "      <td>4.243813</td>\n",
       "    </tr>\n",
       "    <tr>\n",
       "      <th>337</th>\n",
       "      <td>31.827979</td>\n",
       "      <td>12.461147</td>\n",
       "      <td>37.428997</td>\n",
       "      <td>2.974737</td>\n",
       "    </tr>\n",
       "    <tr>\n",
       "      <th>11</th>\n",
       "      <td>33.879361</td>\n",
       "      <td>11.584783</td>\n",
       "      <td>37.087926</td>\n",
       "      <td>3.713209</td>\n",
       "    </tr>\n",
       "    <tr>\n",
       "      <th>351</th>\n",
       "      <td>32.189845</td>\n",
       "      <td>11.386776</td>\n",
       "      <td>38.197483</td>\n",
       "      <td>4.808320</td>\n",
       "    </tr>\n",
       "  </tbody>\n",
       "</table>\n",
       "<p>350 rows × 4 columns</p>\n",
       "</div>"
      ],
      "text/plain": [
       "     Avg. Session Length  Time on App  Time on Website  Length of Membership\n",
       "202            31.525752    11.340036        37.039514              3.811248\n",
       "428            31.862741    14.039867        37.022269              3.738225\n",
       "392            33.258238    11.514949        37.128039              4.662845\n",
       "86             33.877779    12.517666        37.151921              2.669942\n",
       "443            33.025020    12.504220        37.645839              4.051382\n",
       "398            34.140393    11.568527        38.918749              4.082855\n",
       "449            32.675155    12.594194        37.683875              2.571778\n",
       "321            33.674027    12.968893        37.333107              3.229451\n",
       "109            33.356874    13.452129        38.503009              3.318822\n",
       "93             33.710653    13.664748        37.724386              1.362674\n",
       "295            31.309193    11.947175        36.190833              3.205530\n",
       "441            32.536775    11.121366        36.979372              4.129255\n",
       "286            33.708153    14.325655        35.721827              3.634340\n",
       "121            33.701605    11.564022        37.673210              4.716105\n",
       "9              31.936549    11.814128        37.145168              3.202806\n",
       "176            32.332637    11.548761        38.576516              4.773503\n",
       "195            31.820998    10.771074        37.278640              3.519032\n",
       "432            31.123974    12.386516        35.632112              4.288487\n",
       "458            35.371876    10.572467        36.862183              4.198349\n",
       "278            32.607903    13.677246        37.744700              2.871948\n",
       "348            31.812483    10.886921        34.897828              3.128639\n",
       "16             32.125387    11.733862        34.894093              3.136133\n",
       "183            33.122400    11.509048        37.253058              3.182330\n",
       "426            31.425227    13.271475        37.239847              4.022103\n",
       "41             33.019548    10.634561        37.496690              4.646120\n",
       "427            33.625307    12.988221        39.672591              3.969418\n",
       "377            35.037450    11.935935        35.783924              3.310150\n",
       "322            33.264632    10.732131        36.145792              4.086566\n",
       "213            34.330750    13.722454        35.773116              2.909008\n",
       "296            33.612563    11.470565        37.061689              3.802511\n",
       "..                   ...          ...              ...                   ...\n",
       "59             33.754995    12.064157        37.271222              3.970556\n",
       "473            31.609840    12.710701        36.166463              2.562819\n",
       "413            32.592093    10.314718        36.729029              4.791109\n",
       "371            32.404295    11.608998        38.110457              2.966559\n",
       "136            32.686129    12.215252        36.594362              3.897116\n",
       "111            32.012301    12.178331        37.715986              3.722561\n",
       "339            32.997459    12.589241        37.332241              2.804014\n",
       "49             31.661050    11.398064        36.594457              3.198399\n",
       "490            34.695591    11.608997        37.684877              3.163092\n",
       "477            31.061325    12.357638        36.166042              4.089331\n",
       "396            35.742670    10.889828        35.565436              6.115199\n",
       "5              33.871038    12.026925        34.476878              5.493507\n",
       "110            31.853075    12.149375        37.325334              3.361815\n",
       "192            33.694898    11.202670        35.493964              4.015987\n",
       "220            34.117567    11.591872        37.743620              3.678589\n",
       "316            33.566474    12.235659        37.277573              2.532044\n",
       "245            32.980029    11.201160        37.689337              2.412831\n",
       "424            34.370327    11.887800        37.861447              3.046620\n",
       "495            33.237660    13.566160        36.417985              3.746573\n",
       "132            34.312167    11.810587        37.414134              2.473596\n",
       "40             32.070546    11.733106        37.534291              4.671275\n",
       "461            32.770492    11.371767        35.261498              4.034386\n",
       "393            32.319858    12.418113        36.155336              3.222081\n",
       "75             32.049839    12.238057        38.730862              3.120569\n",
       "87             34.447871    10.607724        36.819096              3.366464\n",
       "63             32.789773    11.670066        37.408748              3.414688\n",
       "326            33.217188    10.999684        38.442767              4.243813\n",
       "337            31.827979    12.461147        37.428997              2.974737\n",
       "11             33.879361    11.584783        37.087926              3.713209\n",
       "351            32.189845    11.386776        38.197483              4.808320\n",
       "\n",
       "[350 rows x 4 columns]"
      ]
     },
     "execution_count": 31,
     "metadata": {},
     "output_type": "execute_result"
    }
   ],
   "source": [
    "x_train"
   ]
  },
  {
   "cell_type": "code",
   "execution_count": 32,
   "metadata": {},
   "outputs": [],
   "source": [
    "x_train_std=scx.fit_transform(x_train)"
   ]
  },
  {
   "cell_type": "code",
   "execution_count": 33,
   "metadata": {},
   "outputs": [
    {
     "data": {
      "text/plain": [
       "array([[-1.49994106, -0.7308338 , -0.04298381,  0.27443007],\n",
       "       [-1.16374302,  2.11003957, -0.06072863,  0.20010103],\n",
       "       [ 0.22847958, -0.54678302,  0.04810959,  1.14125825],\n",
       "       ...,\n",
       "       [-1.19842351,  0.44884576,  0.35779627, -0.57704253],\n",
       "       [ 0.84814529, -0.47330089,  0.00683273,  0.17463764],\n",
       "       [-0.83740685, -0.68165245,  1.14857087,  1.28933518]])"
      ]
     },
     "execution_count": 33,
     "metadata": {},
     "output_type": "execute_result"
    }
   ],
   "source": [
    "x_train_std"
   ]
  },
  {
   "cell_type": "code",
   "execution_count": 34,
   "metadata": {},
   "outputs": [],
   "source": [
    "from sklearn.linear_model import LinearRegression,Lasso,Ridge"
   ]
  },
  {
   "cell_type": "code",
   "execution_count": 35,
   "metadata": {},
   "outputs": [],
   "source": [
    "lr=LinearRegression()"
   ]
  },
  {
   "cell_type": "code",
   "execution_count": 36,
   "metadata": {},
   "outputs": [
    {
     "data": {
      "text/plain": [
       "LinearRegression(copy_X=True, fit_intercept=True, n_jobs=1, normalize=False)"
      ]
     },
     "execution_count": 36,
     "metadata": {},
     "output_type": "execute_result"
    }
   ],
   "source": [
    "lr.fit(x_train,y_train)"
   ]
  },
  {
   "cell_type": "code",
   "execution_count": 37,
   "metadata": {},
   "outputs": [
    {
     "data": {
      "text/plain": [
       "-1047.9327822502387"
      ]
     },
     "execution_count": 37,
     "metadata": {},
     "output_type": "execute_result"
    }
   ],
   "source": [
    "lr.intercept_"
   ]
  },
  {
   "cell_type": "code",
   "execution_count": 38,
   "metadata": {},
   "outputs": [
    {
     "data": {
      "text/plain": [
       "array([25.98154972, 38.59015875,  0.19040528, 61.27909654])"
      ]
     },
     "execution_count": 38,
     "metadata": {},
     "output_type": "execute_result"
    }
   ],
   "source": [
    "lr.coef_"
   ]
  },
  {
   "cell_type": "code",
   "execution_count": 39,
   "metadata": {},
   "outputs": [
    {
     "data": {
      "text/plain": [
       "Index(['Avg. Session Length', 'Time on App', 'Time on Website',\n",
       "       'Length of Membership'],\n",
       "      dtype='object')"
      ]
     },
     "execution_count": 39,
     "metadata": {},
     "output_type": "execute_result"
    }
   ],
   "source": [
    "x.columns"
   ]
  },
  {
   "cell_type": "code",
   "execution_count": 40,
   "metadata": {},
   "outputs": [],
   "source": [
    "pred=lr.predict(x_test)"
   ]
  },
  {
   "cell_type": "code",
   "execution_count": 41,
   "metadata": {},
   "outputs": [],
   "source": [
    "from sklearn.metrics import mean_absolute_error,r2_score,mean_squared_error"
   ]
  },
  {
   "cell_type": "code",
   "execution_count": 42,
   "metadata": {},
   "outputs": [
    {
     "name": "stdout",
     "output_type": "stream",
     "text": [
      "MEan absolute error=  7.228148653430853\n",
      "Mean Square error=  79.81305165097487\n",
      "R2_score=  0.9890046246741233\n",
      "Variance= 8.933815066978656\n"
     ]
    }
   ],
   "source": [
    "print(\"MEan absolute error= \",mean_absolute_error(y_test,pred))\n",
    "print(\"Mean Square error= \",mean_squared_error(y_test,pred))\n",
    "print(\"R2_score= \",r2_score(y_test,pred))\n",
    "print(\"Variance=\",np.sqrt(mean_squared_error(y_test,pred)))\n"
   ]
  },
  {
   "cell_type": "code",
   "execution_count": 43,
   "metadata": {},
   "outputs": [],
   "source": [
    "lr_std = LinearRegression()"
   ]
  },
  {
   "cell_type": "code",
   "execution_count": 44,
   "metadata": {},
   "outputs": [
    {
     "data": {
      "text/plain": [
       "LinearRegression(copy_X=True, fit_intercept=True, n_jobs=1, normalize=False)"
      ]
     },
     "execution_count": 44,
     "metadata": {},
     "output_type": "execute_result"
    }
   ],
   "source": [
    "lr_std.fit(x_train_std,y_train)"
   ]
  },
  {
   "cell_type": "code",
   "execution_count": 45,
   "metadata": {},
   "outputs": [
    {
     "data": {
      "text/plain": [
       "array([26.04265125, 36.67425683,  0.18503853, 60.20236045])"
      ]
     },
     "execution_count": 45,
     "metadata": {},
     "output_type": "execute_result"
    }
   ],
   "source": [
    "lr_std.coef_"
   ]
  },
  {
   "cell_type": "code",
   "execution_count": 46,
   "metadata": {},
   "outputs": [
    {
     "data": {
      "text/plain": [
       "498.7231164913073"
      ]
     },
     "execution_count": 46,
     "metadata": {},
     "output_type": "execute_result"
    }
   ],
   "source": [
    "lr_std.intercept_"
   ]
  },
  {
   "cell_type": "code",
   "execution_count": 47,
   "metadata": {},
   "outputs": [],
   "source": [
    "x_test_std=scx.transform(x_test)"
   ]
  },
  {
   "cell_type": "code",
   "execution_count": 48,
   "metadata": {},
   "outputs": [],
   "source": [
    "pred1=lr_std.predict(x_test_std)"
   ]
  },
  {
   "cell_type": "code",
   "execution_count": 49,
   "metadata": {},
   "outputs": [
    {
     "name": "stdout",
     "output_type": "stream",
     "text": [
      "MEan absolute error=  7.228148653430856\n",
      "Mean Square error=  79.81305165097461\n",
      "R2_score=  0.9890046246741234\n",
      "Variance= 8.933815066978642\n"
     ]
    }
   ],
   "source": [
    "print(\"MEan absolute error= \",mean_absolute_error(y_test,pred1))\n",
    "print(\"Mean Square error= \",mean_squared_error(y_test,pred1))\n",
    "print(\"R2_score= \",r2_score(y_test,pred1))\n",
    "print(\"Variance=\",np.sqrt(mean_squared_error(y_test,pred1)))\n"
   ]
  },
  {
   "cell_type": "code",
   "execution_count": 52,
   "metadata": {},
   "outputs": [
    {
     "name": "stdout",
     "output_type": "stream",
     "text": [
      "Lambda is 10  [25.29919719 35.6559098   0.2143677  58.58194845]\n",
      "RidgeMean absolute error=  7.631092834722042\n",
      "RidgeMean Square error=  87.96451772099492\n",
      "RidgeR2_score=  0.9878816450731432\n",
      "RidgeVariance= 9.378940117145163\n",
      "Lambda is 100  [20.1304703  28.53510703  0.35995335 47.1528285 ]\n",
      "RidgeMean absolute error=  16.48880688276055\n",
      "RidgeMean Square error=  444.0996361199288\n",
      "RidgeR2_score=  0.9388190016517904\n",
      "RidgeVariance= 21.073671633579394\n",
      "Lambda is 1000  [ 6.62141722  9.54275061  0.27671654 15.96499993]\n",
      "RidgeMean absolute error=  49.53296386806698\n",
      "RidgeMean Square error=  4008.806402924865\n",
      "RidgeR2_score=  0.4477302885035349\n",
      "RidgeVariance= 63.31513565431938\n",
      "Lambda is 10000  [0.85900288 1.24765903 0.0444924  2.09602974]\n",
      "RidgeMean absolute error=  64.39154932821727\n",
      "RidgeMean Square error=  6781.187123061695\n",
      "RidgeR2_score=  0.06579568089783416\n",
      "RidgeVariance= 82.34796368497338\n",
      "Lambda is 100000  [0.08853346 0.12872867 0.00470363 0.21637007]\n",
      "RidgeMean absolute error=  66.40275142247539\n",
      "RidgeMean Square error=  7212.205627954694\n",
      "RidgeR2_score=  0.006416793163764756\n",
      "RidgeVariance= 84.92470563949394\n",
      "Lambda is 1000000  [0.00888057 0.01291389 0.00047303 0.02170709]\n",
      "RidgeMean absolute error=  66.61096342327585\n",
      "RidgeMean Square error=  7257.593624519358\n",
      "RidgeR2_score=  0.00016395547375280817\n",
      "RidgeVariance= 85.19151145812215\n",
      "Lambda is 10000000  [8.88330124e-04 1.29180071e-03 4.73300886e-05 2.17141181e-03]\n",
      "RidgeMean absolute error=  66.63185806789198\n",
      "RidgeMean Square error=  7262.156372415113\n",
      "RidgeR2_score=  -0.00046462750350984017\n",
      "RidgeVariance= 85.2182866080697\n"
     ]
    }
   ],
   "source": [
    "for i in [10,100,1000,10000,100000,1000000,10000000]:\n",
    "    ridge=Ridge(alpha=i)\n",
    "    ridge.fit(x_train_std,y_train)\n",
    "    pred_ridge=ridge.predict(x_test_std)\n",
    "    print(\"Lambda is \"+str(i)+\" \",ridge.coef_)\n",
    "    print(\"RidgeMean absolute error= \",mean_absolute_error(y_test,pred_ridge))\n",
    "    print(\"RidgeMean Square error= \",mean_squared_error(y_test,pred_ridge))\n",
    "    print(\"RidgeR2_score= \",r2_score(y_test,pred_ridge))\n",
    "    print(\"RidgeVariance=\",np.sqrt(mean_squared_error(y_test,pred_ridge)))"
   ]
  },
  {
   "cell_type": "code",
   "execution_count": 51,
   "metadata": {},
   "outputs": [
    {
     "name": "stdout",
     "output_type": "stream",
     "text": [
      "Lambda is 10  [25.29919719 35.6559098   0.2143677  58.58194845]\n",
      "RdigeMean absolute error=  7.631092834722042\n",
      "RidgeMean Square error=  87.96451772099492\n",
      "RidgeR2_score=  0.9878816450731432\n",
      "RidgeVariance= 9.378940117145163\n",
      "Lambda is 100  [20.1304703  28.53510703  0.35995335 47.1528285 ]\n",
      "RdigeMean absolute error=  16.48880688276055\n",
      "RidgeMean Square error=  444.0996361199288\n",
      "RidgeR2_score=  0.9388190016517904\n",
      "RidgeVariance= 21.073671633579394\n",
      "Lambda is 1000  [ 6.62141722  9.54275061  0.27671654 15.96499993]\n",
      "RdigeMean absolute error=  49.53296386806698\n",
      "RidgeMean Square error=  4008.806402924865\n",
      "RidgeR2_score=  0.4477302885035349\n",
      "RidgeVariance= 63.31513565431938\n",
      "Lambda is 10000  [0.85900288 1.24765903 0.0444924  2.09602974]\n",
      "RdigeMean absolute error=  64.39154932821727\n",
      "RidgeMean Square error=  6781.187123061695\n",
      "RidgeR2_score=  0.06579568089783416\n",
      "RidgeVariance= 82.34796368497338\n",
      "Lambda is 100000  [0.08853346 0.12872867 0.00470363 0.21637007]\n",
      "RdigeMean absolute error=  66.40275142247539\n",
      "RidgeMean Square error=  7212.205627954694\n",
      "RidgeR2_score=  0.006416793163764756\n",
      "RidgeVariance= 84.92470563949394\n",
      "Lambda is 1000000  [0.00888057 0.01291389 0.00047303 0.02170709]\n",
      "RdigeMean absolute error=  66.61096342327585\n",
      "RidgeMean Square error=  7257.593624519358\n",
      "RidgeR2_score=  0.00016395547375280817\n",
      "RidgeVariance= 85.19151145812215\n",
      "Lambda is 10000000  [8.88330124e-04 1.29180071e-03 4.73300886e-05 2.17141181e-03]\n",
      "RdigeMean absolute error=  66.63185806789198\n",
      "RidgeMean Square error=  7262.156372415113\n",
      "RidgeR2_score=  -0.00046462750350984017\n",
      "RidgeVariance= 85.2182866080697\n"
     ]
    }
   ],
   "source": [
    "for i in [10,100,1000,10000,100000,1000000,10000000]:\n",
    "    las=Lasso(alpha=i)\n",
    "    las.fit(x_train_std,y_train)\n",
    "    pred_las=las.predict(x_test_std)\n",
    "    print(\"Lambda is \"+str(i)+\" \",ridge.coef_)\n",
    "    print(\"RdigeMean absolute error= \",mean_absolute_error(y_test,pred_ridge))\n",
    "    print(\"RidgeMean Square error= \",mean_squared_error(y_test,pred_ridge))\n",
    "    print(\"RidgeR2_score= \",r2_score(y_test,pred_ridge))\n",
    "    print(\"RidgeVariance=\",np.sqrt(mean_squared_error(y_test,pred_ridge)))"
   ]
  },
  {
   "cell_type": "code",
   "execution_count": null,
   "metadata": {},
   "outputs": [],
   "source": []
  }
 ],
 "metadata": {
  "kernelspec": {
   "display_name": "Python 3",
   "language": "python",
   "name": "python3"
  },
  "language_info": {
   "codemirror_mode": {
    "name": "ipython",
    "version": 3
   },
   "file_extension": ".py",
   "mimetype": "text/x-python",
   "name": "python",
   "nbconvert_exporter": "python",
   "pygments_lexer": "ipython3",
   "version": "3.6.4"
  }
 },
 "nbformat": 4,
 "nbformat_minor": 2
}
